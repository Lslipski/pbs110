{
 "cells": [
  {
   "cell_type": "markdown",
   "metadata": {},
   "source": [
    "# Final Exam"
   ]
  },
  {
   "cell_type": "markdown",
   "metadata": {},
   "source": [
    "November 20, 2020"
   ]
  },
  {
   "cell_type": "markdown",
   "metadata": {},
   "source": [
    "##### (1)  You decide to determine how much time to put in on the exam by rolling a die (this time a six-sided one).  The number of hours that you spend on the exam is equal to the number of trials required to get the second four.  On the average how many hours can you expect to spend on the exam?  If all thirteen people in class went through the exercise, what would you expect the variance of their scores to be?  What would the standard error of their mean be?"
   ]
  },
  {
   "cell_type": "code",
   "execution_count": 69,
   "metadata": {},
   "outputs": [],
   "source": [
    "die = c(1, 2, 3, 4, 5, 6)"
   ]
  },
  {
   "cell_type": "code",
   "execution_count": 71,
   "metadata": {},
   "outputs": [
    {
     "data": {
      "text/html": [
       "4"
      ],
      "text/latex": [
       "4"
      ],
      "text/markdown": [
       "4"
      ],
      "text/plain": [
       "[1] 4"
      ]
     },
     "metadata": {},
     "output_type": "display_data"
    }
   ],
   "source": [
    "roll = sample(die, size=1, replace=TRUE)\n",
    "roll"
   ]
  },
  {
   "cell_type": "code",
   "execution_count": 87,
   "metadata": {},
   "outputs": [],
   "source": [
    "roll_two_fours = function(){\n",
    "    die = c(1, 2, 3, 4, 5, 6)\n",
    "    fours = 0\n",
    "    loops = 0\n",
    "    num_games = 10\n",
    "    hours = rep(0, num_games)\n",
    "\n",
    "    i = 1\n",
    "    while (i == 1) {\n",
    "        roll = sample(die, size=1, replace=TRUE)\n",
    "        if (roll == 4) {fours = fours + 1}\n",
    "        loops = loops + 1\n",
    "\n",
    "        if (fours == 2){i = 0}\n",
    "    }\n",
    "    return(loops)\n",
    "}"
   ]
  },
  {
   "cell_type": "code",
   "execution_count": 97,
   "metadata": {},
   "outputs": [],
   "source": [
    "num_games = 100000\n",
    "hours = rep(0, num_games)\n",
    "\n",
    "for (i in 1:num_games){\n",
    "    x = roll_two_fours()\n",
    "    hours[i] = x\n",
    "}"
   ]
  },
  {
   "cell_type": "code",
   "execution_count": 113,
   "metadata": {},
   "outputs": [],
   "source": [
    "#sample 13 students 10000 times from the 100,000 runs above\n",
    "num_students = 13\n",
    "num_samples = 10000\n",
    "samp_means = rep(0, num_samples)\n",
    "samp_variances = rep(0, num_samples)\n",
    "samp_stderrs = rep(0, num_samples)\n",
    "\n",
    "for (p in 1:num_samples){\n",
    "    students = sample(hours, size = num_students, replace=TRUE)\n",
    "    samp_means[p] = mean(students)\n",
    "    samp_variances[p]=var(students)\n",
    "    samp_stderrs[p] = sd(students) / sqrt(length(students))\n",
    "    \n",
    "}"
   ]
  },
  {
   "cell_type": "code",
   "execution_count": 120,
   "metadata": {},
   "outputs": [
    {
     "data": {
      "text/html": [
       "<table>\n",
       "<thead><tr><th></th><th scope=col>vars</th><th scope=col>n</th><th scope=col>mean</th><th scope=col>sd</th><th scope=col>median</th><th scope=col>trimmed</th><th scope=col>mad</th><th scope=col>min</th><th scope=col>max</th><th scope=col>range</th><th scope=col>skew</th><th scope=col>kurtosis</th><th scope=col>se</th></tr></thead>\n",
       "<tbody>\n",
       "\t<tr><th scope=row>X1</th><td>1         </td><td>1e+05     </td><td>12.01589  </td><td>7.790004  </td><td>10        </td><td>11.00992  </td><td>5.9304    </td><td>2         </td><td>85        </td><td>83        </td><td>1.441745  </td><td>3.131491  </td><td>0.02463416</td></tr>\n",
       "</tbody>\n",
       "</table>\n"
      ],
      "text/latex": [
       "\\begin{tabular}{r|lllllllllllll}\n",
       "  & vars & n & mean & sd & median & trimmed & mad & min & max & range & skew & kurtosis & se\\\\\n",
       "\\hline\n",
       "\tX1 & 1          & 1e+05      & 12.01589   & 7.790004   & 10         & 11.00992   & 5.9304     & 2          & 85         & 83         & 1.441745   & 3.131491   & 0.02463416\\\\\n",
       "\\end{tabular}\n"
      ],
      "text/markdown": [
       "\n",
       "| <!--/--> | vars | n | mean | sd | median | trimmed | mad | min | max | range | skew | kurtosis | se |\n",
       "|---|---|---|---|---|---|---|---|---|---|---|---|---|---|\n",
       "| X1 | 1          | 1e+05      | 12.01589   | 7.790004   | 10         | 11.00992   | 5.9304     | 2          | 85         | 83         | 1.441745   | 3.131491   | 0.02463416 |\n",
       "\n"
      ],
      "text/plain": [
       "   vars n     mean     sd       median trimmed  mad    min max range skew    \n",
       "X1 1    1e+05 12.01589 7.790004 10     11.00992 5.9304 2   85  83    1.441745\n",
       "   kurtosis se        \n",
       "X1 3.131491 0.02463416"
      ]
     },
     "metadata": {},
     "output_type": "display_data"
    },
    {
     "data": {
      "text/html": [
       "60.6841643495435"
      ],
      "text/latex": [
       "60.6841643495435"
      ],
      "text/markdown": [
       "60.6841643495435"
      ],
      "text/plain": [
       "[1] 60.68416"
      ]
     },
     "metadata": {},
     "output_type": "display_data"
    }
   ],
   "source": [
    "library('psych')\n",
    "describe(hours)\n",
    "var(hours)"
   ]
  },
  {
   "cell_type": "code",
   "execution_count": 114,
   "metadata": {},
   "outputs": [
    {
     "data": {
      "text/html": [
       "12.0309384615385"
      ],
      "text/latex": [
       "12.0309384615385"
      ],
      "text/markdown": [
       "12.0309384615385"
      ],
      "text/plain": [
       "[1] 12.03094"
      ]
     },
     "metadata": {},
     "output_type": "display_data"
    }
   ],
   "source": [
    "mean(samp_means)"
   ]
  },
  {
   "cell_type": "code",
   "execution_count": 115,
   "metadata": {},
   "outputs": [
    {
     "data": {
      "text/html": [
       "60.8165064102564"
      ],
      "text/latex": [
       "60.8165064102564"
      ],
      "text/markdown": [
       "60.8165064102564"
      ],
      "text/plain": [
       "[1] 60.81651"
      ]
     },
     "metadata": {},
     "output_type": "display_data"
    }
   ],
   "source": [
    "mean(samp_variances)"
   ]
  },
  {
   "cell_type": "code",
   "execution_count": 116,
   "metadata": {},
   "outputs": [
    {
     "data": {
      "text/html": [
       "2.07252266436737"
      ],
      "text/latex": [
       "2.07252266436737"
      ],
      "text/markdown": [
       "2.07252266436737"
      ],
      "text/plain": [
       "[1] 2.072523"
      ]
     },
     "metadata": {},
     "output_type": "display_data"
    }
   ],
   "source": [
    "mean(samp_stderrs)"
   ]
  },
  {
   "cell_type": "markdown",
   "metadata": {},
   "source": [
    "I can expect to spend 12 hours on the exam. To answer this, I ran a simulation where I choose randomly from numbers 1-6 until I draw 2 fours. I ran this simulation 100,000 times and found it took 12 hours on average with variance 60.7 and standard error 0.02. I then sampled 13 'students' from this set of 100,000 simulations to calculate sample means, variances, and standard errors of the mean. I repeated that process 10,000 times to find that on average the mean is 12, the variance is 60, and the standard error of the mean is 2.07."
   ]
  },
  {
   "cell_type": "markdown",
   "metadata": {},
   "source": [
    "##### (2) Your kid sister was stopped at the Canadian border trying to reenter the US.  She was given a screening test used to detect possible terrorists.  The test correctly detects a true terrorist about 88% of the time but also incorrectly labels about 3% of non-terrorists as terrorists.  According to the last available immigration and customs data, roughly 200,000 people enter US from Canada every day.  According to one estimate, 8 known terrorists entered from Canada last year (and maybe 10 times that many unknown terrorists).  The test came up positive for your sister.  Given that positive result, what is the probability that your sister is a terrorist?   (Please ignore any inside knowledge you have about your kid sister.)"
   ]
  },
  {
   "cell_type": "code",
   "execution_count": 132,
   "metadata": {},
   "outputs": [
    {
     "data": {
      "text/html": [
       "<span style=white-space:pre-wrap>'p_terror:  1.20548090523726e-06'</span>"
      ],
      "text/latex": [
       "'p\\_terror:  1.20548090523726e-06'"
      ],
      "text/markdown": [
       "<span style=white-space:pre-wrap>'p_terror:  1.20548090523726e-06'</span>"
      ],
      "text/plain": [
       "[1] \"p_terror:  1.20548090523726e-06\""
      ]
     },
     "metadata": {},
     "output_type": "display_data"
    },
    {
     "data": {
      "text/html": [
       "<span style=white-space:pre-wrap>'p_positive:  0.0300010246575342'</span>"
      ],
      "text/latex": [
       "'p\\_positive:  0.0300010246575342'"
      ],
      "text/markdown": [
       "<span style=white-space:pre-wrap>'p_positive:  0.0300010246575342'</span>"
      ],
      "text/plain": [
       "[1] \"p_positive:  0.0300010246575342\""
      ]
     },
     "metadata": {},
     "output_type": "display_data"
    },
    {
     "data": {
      "text/html": [
       "<span style=white-space:pre-wrap>'p_positive_terror:  0.88'</span>"
      ],
      "text/latex": [
       "'p\\_positive\\_terror:  0.88'"
      ],
      "text/markdown": [
       "<span style=white-space:pre-wrap>'p_positive_terror:  0.88'</span>"
      ],
      "text/plain": [
       "[1] \"p_positive_terror:  0.88\""
      ]
     },
     "metadata": {},
     "output_type": "display_data"
    },
    {
     "data": {
      "text/html": [
       "<span style=white-space:pre-wrap>'p_terror_positive:  3.53595655054527e-05'</span>"
      ],
      "text/latex": [
       "'p\\_terror\\_positive:  3.53595655054527e-05'"
      ],
      "text/markdown": [
       "<span style=white-space:pre-wrap>'p_terror_positive:  3.53595655054527e-05'</span>"
      ],
      "text/plain": [
       "[1] \"p_terror_positive:  3.53595655054527e-05\""
      ]
     },
     "metadata": {},
     "output_type": "display_data"
    }
   ],
   "source": [
    "# A = being a terrorist\n",
    "# B = positive test result \n",
    "#P(A|B) = P(A)*P(B|A) / P(B)\n",
    "\n",
    "#probability of being a terrorist P(A)\n",
    "p_terror = 88 / ((200000*365) - 88)\n",
    "paste('p_terror: ', p_terror)\n",
    "\n",
    "#probability of a positive test, regardless of terrorist value P(B)\n",
    "num_terrorists = 88\n",
    "num_non_terrorists = (200000*365) - 88\n",
    "num_positive = (.88 * num_terrorists) + (.03 * num_non_terrorists)\n",
    "p_positive = num_positive / (200000*365)\n",
    "paste('p_positive: ', p_positive)\n",
    "\n",
    "#probability of positive test given terrorist P(B|A)\n",
    "p_positive_terror = 0.88\n",
    "paste('p_positive_terror: ', p_positive_terror)\n",
    "\n",
    "#probability that terrorist given a positive test P(A|B)\n",
    "p_terror_positive = (p_terror * p_positive_terror) / p_positive\n",
    "paste('p_terror_positive: ', p_terror_positive)\n"
   ]
  },
  {
   "cell_type": "markdown",
   "metadata": {},
   "source": [
    "Because the base rate of being a terrorist is so low, the probability of being a terrorist given a positive test is also extremely low. Using bayes rule, I calculated the probability of being a terrorist (.0000012), multiplied it by the probability of a positive test regardless of if a person is a terrorist (0.030001), and divided by the probability of a positive test given the person is actually a terrorist (0.88). This gives the probability of being a terrorist given a positive test, which is 0.000035."
   ]
  },
  {
   "cell_type": "markdown",
   "metadata": {},
   "source": [
    "##### (3) An investigator was interested in recall of product placement as a function of gender and genre.  She believed that men would have better recall and that action would yield the best recall followed by comedy and lastly drama.   Was she correct?   If gender wassn’t significant, how many subjects would she need to run to have an 80% chance of finding it significant assuming the means and variances stay about the same.  The data are in movies.csv."
   ]
  },
  {
   "cell_type": "code",
   "execution_count": 2,
   "metadata": {},
   "outputs": [],
   "source": [
    "mov = read.csv('data_files/movies.csv')"
   ]
  },
  {
   "cell_type": "code",
   "execution_count": 44,
   "metadata": {},
   "outputs": [
    {
     "data": {
      "text/html": [
       "<table>\n",
       "<thead><tr><th scope=col>gender</th><th scope=col>genre</th><th scope=col>recall</th></tr></thead>\n",
       "<tbody>\n",
       "\t<tr><td>female</td><td>action</td><td>1     </td></tr>\n",
       "\t<tr><td>female</td><td>action</td><td>1     </td></tr>\n",
       "\t<tr><td>female</td><td>action</td><td>1     </td></tr>\n",
       "\t<tr><td>female</td><td>action</td><td>1     </td></tr>\n",
       "\t<tr><td>female</td><td>action</td><td>2     </td></tr>\n",
       "\t<tr><td>female</td><td>action</td><td>2     </td></tr>\n",
       "</tbody>\n",
       "</table>\n"
      ],
      "text/latex": [
       "\\begin{tabular}{r|lll}\n",
       " gender & genre & recall\\\\\n",
       "\\hline\n",
       "\t female & action & 1     \\\\\n",
       "\t female & action & 1     \\\\\n",
       "\t female & action & 1     \\\\\n",
       "\t female & action & 1     \\\\\n",
       "\t female & action & 2     \\\\\n",
       "\t female & action & 2     \\\\\n",
       "\\end{tabular}\n"
      ],
      "text/markdown": [
       "\n",
       "| gender | genre | recall |\n",
       "|---|---|---|\n",
       "| female | action | 1      |\n",
       "| female | action | 1      |\n",
       "| female | action | 1      |\n",
       "| female | action | 1      |\n",
       "| female | action | 2      |\n",
       "| female | action | 2      |\n",
       "\n"
      ],
      "text/plain": [
       "  gender genre  recall\n",
       "1 female action 1     \n",
       "2 female action 1     \n",
       "3 female action 1     \n",
       "4 female action 1     \n",
       "5 female action 2     \n",
       "6 female action 2     "
      ]
     },
     "metadata": {},
     "output_type": "display_data"
    },
    {
     "data": {
      "text/html": [
       "<ol class=list-inline>\n",
       "\t<li>137</li>\n",
       "\t<li>3</li>\n",
       "</ol>\n"
      ],
      "text/latex": [
       "\\begin{enumerate*}\n",
       "\\item 137\n",
       "\\item 3\n",
       "\\end{enumerate*}\n"
      ],
      "text/markdown": [
       "1. 137\n",
       "2. 3\n",
       "\n",
       "\n"
      ],
      "text/plain": [
       "[1] 137   3"
      ]
     },
     "metadata": {},
     "output_type": "display_data"
    }
   ],
   "source": [
    "head(mov)\n",
    "dim(mov)"
   ]
  },
  {
   "cell_type": "code",
   "execution_count": 21,
   "metadata": {},
   "outputs": [
    {
     "data": {
      "image/png": "[encoded data removed]",
      "text/plain": [
       "Plot with title “”"
      ]
     },
     "metadata": {},
     "output_type": "display_data"
    }
   ],
   "source": [
    "# take a look at univariate distributions\n",
    "par(mfrow=c(4,1))\n",
    "hist(mov$recall)\n",
    "plot(mov$gender,mov$recall)\n",
    "plot(mov$genre, mov$recall)\n",
    "plot(mov$gender~mov$genre)"
   ]
  },
  {
   "cell_type": "markdown",
   "metadata": {},
   "source": [
    "First of all, the histogram of recall shows an approximately normal distribution. From the plots, it looks like there may be a slight difference in recall between genders, and that there may also be a slight difference between the genres as well. I will test both with linear contrasts. I'll also include both predictors in a single linear model to check for significance. Further, it looks like the number of males and females in each genre is not equal, with action and comedy having more females than males. For this reason I will include both as predictors."
   ]
  },
  {
   "cell_type": "code",
   "execution_count": 5,
   "metadata": {},
   "outputs": [],
   "source": [
    "mov$gender = as.factor(mov$gender)\n",
    "mov$genre = as.factor(mov$genre)"
   ]
  },
  {
   "cell_type": "markdown",
   "metadata": {},
   "source": [
    "#### Linear Models"
   ]
  },
  {
   "cell_type": "code",
   "execution_count": 15,
   "metadata": {},
   "outputs": [
    {
     "data": {
      "text/plain": [
       "\n",
       "Call:\n",
       "lm(formula = recall ~ gender, data = mov)\n",
       "\n",
       "Residuals:\n",
       "    Min      1Q  Median      3Q     Max \n",
       "-4.3023 -0.8085  0.1915  1.1915  2.1915 \n",
       "\n",
       "Coefficients:\n",
       "            Estimate Std. Error t value Pr(>|t|)    \n",
       "(Intercept)   3.8085     0.1386  27.487   <2e-16 ***\n",
       "gendermale    0.4938     0.2473   1.997   0.0479 *  \n",
       "---\n",
       "Signif. codes:  0 ‘***’ 0.001 ‘**’ 0.01 ‘*’ 0.05 ‘.’ 0.1 ‘ ’ 1\n",
       "\n",
       "Residual standard error: 1.343 on 135 degrees of freedom\n",
       "Multiple R-squared:  0.02868,\tAdjusted R-squared:  0.02149 \n",
       "F-statistic: 3.987 on 1 and 135 DF,  p-value: 0.04787\n"
      ]
     },
     "metadata": {},
     "output_type": "display_data"
    }
   ],
   "source": [
    "# create a linear model with recall as dv and gender as ids\n",
    "lm_1 = lm(recall~gender, data=mov)\n",
    "summary(lm_1)"
   ]
  },
  {
   "cell_type": "markdown",
   "metadata": {},
   "source": [
    "As suspected, gender does have a barely significant effect on its own. But I want to see if this is true when controlling for genre."
   ]
  },
  {
   "cell_type": "code",
   "execution_count": 115,
   "metadata": {},
   "outputs": [
    {
     "data": {
      "text/plain": [
       "\n",
       "Call:\n",
       "lm(formula = recall ~ gender + genre, data = mov)\n",
       "\n",
       "Residuals:\n",
       "    Min      1Q  Median      3Q     Max \n",
       "-3.8946 -0.9081  0.0919  1.0919  2.5006 \n",
       "\n",
       "Coefficients:\n",
       "               Estimate Std. Error t value Pr(>|t|)    \n",
       "(Intercept)     4.06912    0.12206  33.336   <2e-16 ***\n",
       "gendercon_male  0.19759    0.12443   1.588   0.1147    \n",
       "genrecon_genre  0.35386    0.13958   2.535   0.0124 *  \n",
       "genre          -0.04478    0.20084  -0.223   0.8239    \n",
       "---\n",
       "Signif. codes:  0 ‘***’ 0.001 ‘**’ 0.01 ‘*’ 0.05 ‘.’ 0.1 ‘ ’ 1\n",
       "\n",
       "Residual standard error: 1.321 on 133 degrees of freedom\n",
       "Multiple R-squared:  0.07488,\tAdjusted R-squared:  0.05401 \n",
       "F-statistic: 3.588 on 3 and 133 DF,  p-value: 0.01552\n"
      ]
     },
     "metadata": {},
     "output_type": "display_data"
    }
   ],
   "source": [
    "# create a linear model with recall as dv and gender and genre as ids\n",
    "lm_1 = lm(recall ~ gender + genre, data=mov)\n",
    "summary(lm_1)"
   ]
  },
  {
   "cell_type": "markdown",
   "metadata": {},
   "source": [
    "From this model it appears that when controling for genre, there actually is no significant effect of gender on recall. I fail to reject the null hypothesis of no difference between genders."
   ]
  },
  {
   "cell_type": "markdown",
   "metadata": {},
   "source": [
    "#### Linear Contrasts"
   ]
  },
  {
   "cell_type": "code",
   "execution_count": 25,
   "metadata": {},
   "outputs": [
    {
     "data": {
      "text/plain": [
       "\n",
       "Call:\n",
       "lm(formula = recall ~ gender * genre, data = mov)\n",
       "\n",
       "Residuals:\n",
       "    Min      1Q  Median      3Q     Max \n",
       "-3.7857 -0.8788  0.1212  1.1212  2.4615 \n",
       "\n",
       "Coefficients:\n",
       "                              Estimate Std. Error t value Pr(>|t|)    \n",
       "(Intercept)                    4.06939    0.12644  32.184   <2e-16 ***\n",
       "gendercon_male                 0.20304    0.12644   1.606   0.1107    \n",
       "genrecon_genre                -0.37231    0.14687  -2.535   0.0124 *  \n",
       "genre                         -0.08573    0.22975  -0.373   0.7096    \n",
       "gendercon_male:genrecon_genre -0.05063    0.14687  -0.345   0.7309    \n",
       "gendercon_male:genre          -0.07051    0.22975  -0.307   0.7594    \n",
       "---\n",
       "Signif. codes:  0 ‘***’ 0.001 ‘**’ 0.01 ‘*’ 0.05 ‘.’ 0.1 ‘ ’ 1\n",
       "\n",
       "Residual standard error: 1.33 on 131 degrees of freedom\n",
       "Multiple R-squared:  0.07639,\tAdjusted R-squared:  0.04113 \n",
       "F-statistic: 2.167 on 5 and 131 DF,  p-value: 0.0616\n"
      ]
     },
     "metadata": {},
     "output_type": "display_data"
    }
   ],
   "source": [
    "#Hypothesis: Men have better recall than women\n",
    "con_male = c(-1, 1)\n",
    "contrasts(mov$gender) = cbind(con_male)\n",
    "\n",
    "#Hypothesis: Action best recall, then comedy, then drama\n",
    "con_genre = c(1, 0, -1)\n",
    "contrasts(mov$genre) = cbind(con_genre)\n",
    "\n",
    "# include both contrasts in a linear model to test hypotheses\n",
    "con_model = lm(recall ~ gender * genre, data = mov)\n",
    "summary(con_model)"
   ]
  },
  {
   "cell_type": "markdown",
   "metadata": {},
   "source": [
    "From this model, we fail to confirm the hypothesis that men have better recall than women. This linear contrast is not significant when predicting recall while controlling for genre. However, there is a significant effect (p=0.0124) of the linear contrast predicting that action has the highest recall followed by comedy and drama. However, the beta estimate for this contast is negative. So it appears that actually drama has the highest recall, followed by comedy and then action, the opposite of the original hypothesis."
   ]
  },
  {
   "cell_type": "markdown",
   "metadata": {},
   "source": [
    "#### Power Analysis: how many subjects would she need to run to have an 80% chance of finding it significant assuming the means and variances stay about the same"
   ]
  },
  {
   "cell_type": "code",
   "execution_count": 58,
   "metadata": {},
   "outputs": [
    {
     "data": {
      "text/plain": [
       "\n",
       "     Two-sample t test power calculation \n",
       "\n",
       "              n = 207.4885\n",
       "              d = 0.2756978\n",
       "      sig.level = 0.05\n",
       "          power = 0.8\n",
       "    alternative = two.sided\n",
       "\n",
       "NOTE: n is number in *each* group\n"
      ]
     },
     "metadata": {},
     "output_type": "display_data"
    }
   ],
   "source": [
    "# compute effect size, assume it is inflated by 25%\n",
    "library(effectsize)\n",
    "library(pwr)\n",
    "\n",
    "cd = cohens_d(recall~gender, data=mov)\n",
    "pwr.t.test(d=cd$Cohens_d*0.75,n=, power=0.8, sig.level=0.05,type=\"two.sample\",alternative=\"two.sided\")"
   ]
  },
  {
   "cell_type": "markdown",
   "metadata": {},
   "source": [
    "If the effect size found in this study is inflated bt 25%, then the number of subjects she would have needed to run in order to have 80% power with alpha = .05 is 207."
   ]
  },
  {
   "cell_type": "markdown",
   "metadata": {},
   "source": [
    "##### (4)  I helped administer the biannual CDC survey on high school students in NH over several offerings in the early 2000s.  Many of the questions had to do with risky behaviors.  I’m enclosing a data file “school_fighting.csv” that contains three variables from one of those administrations.  The variable, amtfight, is the number of fights that year by each person.  We expected that boys would fight more than girls and we expected a linear decrease over years.  Years by the way are 9th through 12th.  Female = 1. "
   ]
  },
  {
   "cell_type": "code",
   "execution_count": 61,
   "metadata": {},
   "outputs": [],
   "source": [
    "fight = read.csv('data_files/school_fighting.csv')"
   ]
  },
  {
   "cell_type": "code",
   "execution_count": 62,
   "metadata": {},
   "outputs": [
    {
     "data": {
      "text/html": [
       "<table>\n",
       "<thead><tr><th scope=col>gender</th><th scope=col>grade</th><th scope=col>fights</th></tr></thead>\n",
       "<tbody>\n",
       "\t<tr><td>1</td><td>1</td><td>0</td></tr>\n",
       "\t<tr><td>1</td><td>1</td><td>0</td></tr>\n",
       "\t<tr><td>1</td><td>1</td><td>0</td></tr>\n",
       "\t<tr><td>1</td><td>1</td><td>0</td></tr>\n",
       "\t<tr><td>1</td><td>1</td><td>0</td></tr>\n",
       "\t<tr><td>1</td><td>1</td><td>0</td></tr>\n",
       "</tbody>\n",
       "</table>\n"
      ],
      "text/latex": [
       "\\begin{tabular}{r|lll}\n",
       " gender & grade & fights\\\\\n",
       "\\hline\n",
       "\t 1 & 1 & 0\\\\\n",
       "\t 1 & 1 & 0\\\\\n",
       "\t 1 & 1 & 0\\\\\n",
       "\t 1 & 1 & 0\\\\\n",
       "\t 1 & 1 & 0\\\\\n",
       "\t 1 & 1 & 0\\\\\n",
       "\\end{tabular}\n"
      ],
      "text/markdown": [
       "\n",
       "| gender | grade | fights |\n",
       "|---|---|---|\n",
       "| 1 | 1 | 0 |\n",
       "| 1 | 1 | 0 |\n",
       "| 1 | 1 | 0 |\n",
       "| 1 | 1 | 0 |\n",
       "| 1 | 1 | 0 |\n",
       "| 1 | 1 | 0 |\n",
       "\n"
      ],
      "text/plain": [
       "  gender grade fights\n",
       "1 1      1     0     \n",
       "2 1      1     0     \n",
       "3 1      1     0     \n",
       "4 1      1     0     \n",
       "5 1      1     0     \n",
       "6 1      1     0     "
      ]
     },
     "metadata": {},
     "output_type": "display_data"
    },
    {
     "data": {
      "text/html": [
       "<ol class=list-inline>\n",
       "\t<li>15335</li>\n",
       "\t<li>3</li>\n",
       "</ol>\n"
      ],
      "text/latex": [
       "\\begin{enumerate*}\n",
       "\\item 15335\n",
       "\\item 3\n",
       "\\end{enumerate*}\n"
      ],
      "text/markdown": [
       "1. 15335\n",
       "2. 3\n",
       "\n",
       "\n"
      ],
      "text/plain": [
       "[1] 15335     3"
      ]
     },
     "metadata": {},
     "output_type": "display_data"
    }
   ],
   "source": [
    "head(fight)\n",
    "dim(fight)"
   ]
  },
  {
   "cell_type": "code",
   "execution_count": 71,
   "metadata": {},
   "outputs": [
    {
     "data": {
      "text/html": [
       "'integer'"
      ],
      "text/latex": [
       "'integer'"
      ],
      "text/markdown": [
       "'integer'"
      ],
      "text/plain": [
       "[1] \"integer\""
      ]
     },
     "metadata": {},
     "output_type": "display_data"
    }
   ],
   "source": [
    "fight$gender = as.factor(fight$gender)\n",
    "fight$grade = as.factor(fight$grade)"
   ]
  },
  {
   "cell_type": "code",
   "execution_count": 83,
   "metadata": {},
   "outputs": [
    {
     "data": {
      "text/html": [
       "<table>\n",
       "<thead><tr><th scope=col>grade</th><th scope=col>fights</th></tr></thead>\n",
       "<tbody>\n",
       "\t<tr><td>1        </td><td>0.2915210</td></tr>\n",
       "\t<tr><td>2        </td><td>0.2335442</td></tr>\n",
       "\t<tr><td>3        </td><td>0.1886954</td></tr>\n",
       "\t<tr><td>4        </td><td>0.1623703</td></tr>\n",
       "</tbody>\n",
       "</table>\n"
      ],
      "text/latex": [
       "\\begin{tabular}{r|ll}\n",
       " grade & fights\\\\\n",
       "\\hline\n",
       "\t 1         & 0.2915210\\\\\n",
       "\t 2         & 0.2335442\\\\\n",
       "\t 3         & 0.1886954\\\\\n",
       "\t 4         & 0.1623703\\\\\n",
       "\\end{tabular}\n"
      ],
      "text/markdown": [
       "\n",
       "| grade | fights |\n",
       "|---|---|\n",
       "| 1         | 0.2915210 |\n",
       "| 2         | 0.2335442 |\n",
       "| 3         | 0.1886954 |\n",
       "| 4         | 0.1623703 |\n",
       "\n"
      ],
      "text/plain": [
       "  grade fights   \n",
       "1 1     0.2915210\n",
       "2 2     0.2335442\n",
       "3 3     0.1886954\n",
       "4 4     0.1623703"
      ]
     },
     "metadata": {},
     "output_type": "display_data"
    },
    {
     "data": {
      "text/html": [
       "<table>\n",
       "<thead><tr><th scope=col>grade</th><th scope=col>fights</th></tr></thead>\n",
       "<tbody>\n",
       "\t<tr><td>1        </td><td>0.8177292</td></tr>\n",
       "\t<tr><td>2        </td><td>0.6940385</td></tr>\n",
       "\t<tr><td>3        </td><td>0.6340012</td></tr>\n",
       "\t<tr><td>4        </td><td>0.5406063</td></tr>\n",
       "</tbody>\n",
       "</table>\n"
      ],
      "text/latex": [
       "\\begin{tabular}{r|ll}\n",
       " grade & fights\\\\\n",
       "\\hline\n",
       "\t 1         & 0.8177292\\\\\n",
       "\t 2         & 0.6940385\\\\\n",
       "\t 3         & 0.6340012\\\\\n",
       "\t 4         & 0.5406063\\\\\n",
       "\\end{tabular}\n"
      ],
      "text/markdown": [
       "\n",
       "| grade | fights |\n",
       "|---|---|\n",
       "| 1         | 0.8177292 |\n",
       "| 2         | 0.6940385 |\n",
       "| 3         | 0.6340012 |\n",
       "| 4         | 0.5406063 |\n",
       "\n"
      ],
      "text/plain": [
       "  grade fights   \n",
       "1 1     0.8177292\n",
       "2 2     0.6940385\n",
       "3 3     0.6340012\n",
       "4 4     0.5406063"
      ]
     },
     "metadata": {},
     "output_type": "display_data"
    }
   ],
   "source": [
    "aggregate(fights~grade, fight, mean)\n",
    "aggregate(fights~grade, fight, var)"
   ]
  },
  {
   "cell_type": "code",
   "execution_count": 75,
   "metadata": {},
   "outputs": [
    {
     "data": {
      "text/html": [
       "<table>\n",
       "<thead><tr><th scope=col>gender</th><th scope=col>fights</th></tr></thead>\n",
       "<tbody>\n",
       "\t<tr><td>1        </td><td>0.1127829</td></tr>\n",
       "\t<tr><td>2        </td><td>0.3439608</td></tr>\n",
       "</tbody>\n",
       "</table>\n"
      ],
      "text/latex": [
       "\\begin{tabular}{r|ll}\n",
       " gender & fights\\\\\n",
       "\\hline\n",
       "\t 1         & 0.1127829\\\\\n",
       "\t 2         & 0.3439608\\\\\n",
       "\\end{tabular}\n"
      ],
      "text/markdown": [
       "\n",
       "| gender | fights |\n",
       "|---|---|\n",
       "| 1         | 0.1127829 |\n",
       "| 2         | 0.3439608 |\n",
       "\n"
      ],
      "text/plain": [
       "  gender fights   \n",
       "1 1      0.1127829\n",
       "2 2      0.3439608"
      ]
     },
     "metadata": {},
     "output_type": "display_data"
    },
    {
     "data": {
      "text/html": [
       "<table>\n",
       "<thead><tr><th scope=col>gender</th><th scope=col>fights</th></tr></thead>\n",
       "<tbody>\n",
       "\t<tr><td>1        </td><td>0.2960887</td></tr>\n",
       "\t<tr><td>2        </td><td>1.0674387</td></tr>\n",
       "</tbody>\n",
       "</table>\n"
      ],
      "text/latex": [
       "\\begin{tabular}{r|ll}\n",
       " gender & fights\\\\\n",
       "\\hline\n",
       "\t 1         & 0.2960887\\\\\n",
       "\t 2         & 1.0674387\\\\\n",
       "\\end{tabular}\n"
      ],
      "text/markdown": [
       "\n",
       "| gender | fights |\n",
       "|---|---|\n",
       "| 1         | 0.2960887 |\n",
       "| 2         | 1.0674387 |\n",
       "\n"
      ],
      "text/plain": [
       "  gender fights   \n",
       "1 1      0.2960887\n",
       "2 2      1.0674387"
      ]
     },
     "metadata": {},
     "output_type": "display_data"
    },
    {
     "data": {
      "image/png": "[encoded data removed]",
      "text/plain": [
       "Plot with title “Histogram of fight$fights”"
      ]
     },
     "metadata": {},
     "output_type": "display_data"
    }
   ],
   "source": [
    "aggregate(fights~gender, fight, mean)\n",
    "aggregate(fights~gender, fight, var)\n",
    "hist(fight$fights)"
   ]
  },
  {
   "cell_type": "code",
   "execution_count": 111,
   "metadata": {},
   "outputs": [
    {
     "data": {
      "image/png": "[encoded data removed]",
      "text/plain": [
       "Plot with title “Histogram of fight[fight$grade == 4, 3]”"
      ]
     },
     "metadata": {},
     "output_type": "display_data"
    }
   ],
   "source": [
    "par(mfrow=c(2,2))\n",
    "hist(fight[fight$grade == 1,3])\n",
    "hist(fight[fight$grade == 2,3])\n",
    "hist(fight[fight$grade == 3,3])\n",
    "hist(fight[fight$grade == 4,3])"
   ]
  },
  {
   "cell_type": "markdown",
   "metadata": {},
   "source": [
    "We can see that the number of fights is quite skewed, with most people having 0 fights, and a small number having between 1 and 7 fights. However, the means and variances are not equal across genders or across grades, so I will use a negative binomial distribution in the glm instead of a poisson distribution."
   ]
  },
  {
   "cell_type": "code",
   "execution_count": 80,
   "metadata": {},
   "outputs": [
    {
     "data": {
      "text/plain": [
       "\n",
       "Call:\n",
       "glm.nb(formula = fights ~ gender + grade, data = fight, init.theta = 0.1502943558, \n",
       "    link = log)\n",
       "\n",
       "Deviance Residuals: \n",
       "    Min       1Q   Median       3Q      Max  \n",
       "-0.6519  -0.5640  -0.4546  -0.3754   3.7356  \n",
       "\n",
       "Coefficients:\n",
       "            Estimate Std. Error z value Pr(>|z|)    \n",
       "(Intercept) -1.90620    0.05916 -32.223  < 2e-16 ***\n",
       "gender2      1.14597    0.05765  19.877  < 2e-16 ***\n",
       "grade2      -0.27526    0.07134  -3.858 0.000114 ***\n",
       "grade3      -0.50300    0.07785  -6.461 1.04e-10 ***\n",
       "grade4      -0.67244    0.08383  -8.021 1.05e-15 ***\n",
       "---\n",
       "Signif. codes:  0 ‘***’ 0.001 ‘**’ 0.01 ‘*’ 0.05 ‘.’ 0.1 ‘ ’ 1\n",
       "\n",
       "(Dispersion parameter for Negative Binomial(0.1503) family taken to be 1)\n",
       "\n",
       "    Null deviance: 5908.4  on 15334  degrees of freedom\n",
       "Residual deviance: 5436.9  on 15330  degrees of freedom\n",
       "AIC: 15547\n",
       "\n",
       "Number of Fisher Scoring iterations: 1\n",
       "\n",
       "\n",
       "              Theta:  0.15029 \n",
       "          Std. Err.:  0.00617 \n",
       "\n",
       " 2 x log-likelihood:  -15535.21100 "
      ]
     },
     "metadata": {},
     "output_type": "display_data"
    }
   ],
   "source": [
    "# fit glm for negative binomial distributions\n",
    "library(MASS)\n",
    "nb = glm.nb(fights~gender + grade, data=fight)\n",
    "summary(nb)"
   ]
  },
  {
   "cell_type": "code",
   "execution_count": 84,
   "metadata": {},
   "outputs": [
    {
     "data": {
      "text/plain": [
       "\n",
       "Call:\n",
       "glm(formula = fights ~ gender + grade, family = poisson(), data = fight)\n",
       "\n",
       "Deviance Residuals: \n",
       "    Min       1Q   Median       3Q      Max  \n",
       "-0.9423  -0.7600  -0.5391  -0.4348   6.9840  \n",
       "\n",
       "Coefficients:\n",
       "            Estimate Std. Error z value Pr(>|z|)    \n",
       "(Intercept) -1.92888    0.03997 -48.263  < 2e-16 ***\n",
       "gender2      1.11694    0.03905  28.602  < 2e-16 ***\n",
       "grade2      -0.22946    0.04186  -5.481 4.23e-08 ***\n",
       "grade3      -0.43007    0.04757  -9.042  < 2e-16 ***\n",
       "grade4      -0.59779    0.05302 -11.274  < 2e-16 ***\n",
       "---\n",
       "Signif. codes:  0 ‘***’ 0.001 ‘**’ 0.01 ‘*’ 0.05 ‘.’ 0.1 ‘ ’ 1\n",
       "\n",
       "(Dispersion parameter for poisson family taken to be 1)\n",
       "\n",
       "    Null deviance: 16555  on 15334  degrees of freedom\n",
       "Residual deviance: 15447  on 15330  degrees of freedom\n",
       "AIC: 19840\n",
       "\n",
       "Number of Fisher Scoring iterations: 6\n"
      ]
     },
     "metadata": {},
     "output_type": "display_data"
    }
   ],
   "source": [
    "# compare against poisson just for fun\n",
    "poisson = glm(fights~gender+grade, data = fight,  family = poisson())\n",
    "summary(poisson)"
   ]
  },
  {
   "cell_type": "markdown",
   "metadata": {},
   "source": [
    "The AIC of the model using the negative binomial has a much lower AIC than that of the poisson, giving more evidence that this was the correct distribution to use. This model shows that males fight significantly more (beta estimate = 1.12) than females. This is true even controlling for grade. Further, grade2, grade3, and grade 4 are all significant with very small p values (p=4.2e-08 or smaller). This suggests that the hypothesis that increasing grade linearly reduces fights is correct. I will do a linear contrast on grade to further check this hypothesis."
   ]
  },
  {
   "cell_type": "code",
   "execution_count": 101,
   "metadata": {},
   "outputs": [
    {
     "data": {
      "text/plain": [
       "\n",
       "Call:\n",
       "glm.nb(formula = fights ~ gender + grade, data = fight, init.theta = 0.1502943558, \n",
       "    link = log)\n",
       "\n",
       "Deviance Residuals: \n",
       "    Min       1Q   Median       3Q      Max  \n",
       "-0.6519  -0.5640  -0.4546  -0.3754   3.7356  \n",
       "\n",
       "Coefficients:\n",
       "               Estimate Std. Error z value Pr(>|z|)    \n",
       "(Intercept)    -2.26888    0.04608 -49.242   <2e-16 ***\n",
       "gender2         1.14597    0.05765  19.877   <2e-16 ***\n",
       "gradecon_grade -0.11225    0.01320  -8.501   <2e-16 ***\n",
       "grade          -0.02174    0.06074  -0.358    0.720    \n",
       "grade           0.04830    0.05439   0.888    0.375    \n",
       "---\n",
       "Signif. codes:  0 ‘***’ 0.001 ‘**’ 0.01 ‘*’ 0.05 ‘.’ 0.1 ‘ ’ 1\n",
       "\n",
       "(Dispersion parameter for Negative Binomial(0.1503) family taken to be 1)\n",
       "\n",
       "    Null deviance: 5908.4  on 15334  degrees of freedom\n",
       "Residual deviance: 5436.9  on 15330  degrees of freedom\n",
       "AIC: 15547\n",
       "\n",
       "Number of Fisher Scoring iterations: 1\n",
       "\n",
       "\n",
       "              Theta:  0.15029 \n",
       "          Std. Err.:  0.00617 \n",
       "\n",
       " 2 x log-likelihood:  -15535.21100 "
      ]
     },
     "metadata": {},
     "output_type": "display_data"
    }
   ],
   "source": [
    "con_grade = c(-3, -1, 1, 3)\n",
    "contrasts(fight$grade) = cbind(con_grade)\n",
    "nb = glm.nb(fights~gender + grade, data=fight)\n",
    "summary(nb)"
   ]
  },
  {
   "cell_type": "markdown",
   "metadata": {},
   "source": [
    "The linear contrast shows a significant linear effect of grade on number of fights, further confirming the hypothesis that the number of fights decreases with grade."
   ]
  },
  {
   "cell_type": "markdown",
   "metadata": {},
   "source": [
    "##### (5) You want to carry out an experiment comparing amygdala activation to negative stimuli versus positive stimuli.   You have 4 positive stimuli and 4 negative ones.  You plan to run a block design fMRI   in which present a block with all 4 + stimuli or all 4 - stimuli in a block.  You plan to alternate + and - blocks.  You want to present the positive stimuli in all possible orders across blocks and the negative stimuli in all possible orders across blocks.  How many trials (blocks) do you need to accomplish the above?"
   ]
  },
  {
   "cell_type": "markdown",
   "metadata": {},
   "source": [
    "Number of orders of pos and neg separately = 4! = 24 for each. Block pos can go first or neg can go first so x2.\n",
    "To pair each pos combination with each neg combination we multiply 24 * 24 = 576*2 = 1152"
   ]
  }
 ],
 "metadata": {
  "kernelspec": {
   "display_name": "R",
   "language": "R",
   "name": "ir"
  },
  "language_info": {
   "codemirror_mode": "r",
   "file_extension": ".r",
   "mimetype": "text/x-r-source",
   "name": "R",
   "pygments_lexer": "r",
   "version": "3.6.1"
  }
 },
 "nbformat": 4,
 "nbformat_minor": 4
}
