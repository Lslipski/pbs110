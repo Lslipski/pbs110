{
 "cells": [
  {
   "cell_type": "markdown",
   "metadata": {},
   "source": [
    "# Homework 2"
   ]
  },
  {
   "cell_type": "markdown",
   "metadata": {},
   "source": [
    "September 24, 2020"
   ]
  },
  {
   "cell_type": "markdown",
   "metadata": {},
   "source": [
    "#### (1a)  if A U B = B, then what can you tell me about A and B?"
   ]
  },
  {
   "cell_type": "markdown",
   "metadata": {},
   "source": [
    "If the union of A and B is contained within B, then all of A is within B. A is a subset of B. "
   ]
  },
  {
   "cell_type": "markdown",
   "metadata": {},
   "source": [
    "#### (1b) if A ∩ B = B, then what can you tell me about A and B?"
   ]
  },
  {
   "cell_type": "markdown",
   "metadata": {},
   "source": [
    "If the only the elements of B comprise the entire intersection of A and B, then B is a subset of A. \n",
    "All of set B is contained within set A."
   ]
  },
  {
   "cell_type": "markdown",
   "metadata": {},
   "source": [
    "#### (2) The numbers in the table below are stolen from another table which I’ll show Thursday.\n",
    "\n",
    "![table](data_files/hw2_table.png)"
   ]
  },
  {
   "cell_type": "markdown",
   "metadata": {},
   "source": [
    "#### The above table portrays the number of people in the various cells as a function of political party and gender.\n",
    "\n",
    " \n",
    "\n",
    "#### What’s the probability of male or republican not ‘ind’?"
   ]
  },
  {
   "cell_type": "code",
   "execution_count": 281,
   "metadata": {},
   "outputs": [
    {
     "data": {
      "text/html": [
       "0.514285714285714"
      ],
      "text/latex": [
       "0.514285714285714"
      ],
      "text/markdown": [
       "0.514285714285714"
      ],
      "text/plain": [
       "[1] 0.5142857"
      ]
     },
     "metadata": {},
     "output_type": "display_data"
    }
   ],
   "source": [
    "total_people = 6 + 10 + 16 + 8 + 20 + 10\n",
    "#probability of male or republican and not independent\n",
    "p_male_rep_not_ind = (10 + 16 + 10)/total_people\n",
    "p_male_rep_not_ind"
   ]
  },
  {
   "cell_type": "markdown",
   "metadata": {},
   "source": [
    "#### What’s the conditional probability of female given not democrat?"
   ]
  },
  {
   "cell_type": "code",
   "execution_count": 5,
   "metadata": {},
   "outputs": [
    {
     "data": {
      "text/html": [
       "0.257142857142857"
      ],
      "text/latex": [
       "0.257142857142857"
      ],
      "text/markdown": [
       "0.257142857142857"
      ],
      "text/plain": [
       "[1] 0.2571429"
      ]
     },
     "metadata": {},
     "output_type": "display_data"
    }
   ],
   "source": [
    "# probability of female given not democrat\n",
    "p_female_not_dem = (8 + 10)/ total_people\n",
    "p_female_not_dem"
   ]
  },
  {
   "cell_type": "markdown",
   "metadata": {},
   "source": [
    "#### Assume that political party is independent of gender.  How many people should be in each of the six cells?"
   ]
  },
  {
   "cell_type": "code",
   "execution_count": 13,
   "metadata": {},
   "outputs": [
    {
     "name": "stdout",
     "output_type": "stream",
     "text": [
      "[1] \"Males in each party:  10.6666666666667\"\n",
      "[1] \"Females in each party:  12.6666666666667\"\n"
     ]
    }
   ],
   "source": [
    "# there are 70 total people. If \n",
    "n_males = 6 + 10 + 16\n",
    "n_females = 8 + 20 + 10\n",
    "males_in_each_party = n_males/3\n",
    "females_in_each_party = n_females/3\n",
    "print(paste('Males in each party: ',males_in_each_party))\n",
    "print(paste('Females in each party: ',females_in_each_party))"
   ]
  },
  {
   "cell_type": "markdown",
   "metadata": {},
   "source": [
    "#### (3) Identify the level of measurement for each of following \n",
    "#### ranking of eight choices reaction time"
   ]
  },
  {
   "cell_type": "markdown",
   "metadata": {},
   "source": [
    "Reaction time itself, given time has an absolute zero value, would be a ratio measurement. However, ranking reaction times would remove information about the distances between times and would therefore be an ordinal measurement."
   ]
  },
  {
   "cell_type": "markdown",
   "metadata": {},
   "source": [
    "#### memory ability as measured by number of words recalled from a studied list"
   ]
  },
  {
   "cell_type": "markdown",
   "metadata": {},
   "source": [
    "I think this is not quite an interval, and therefore ordinal measurement. If someone remembered 4 words instead of 2, I don't think one could say that they remembered \"twice as much\", especially given that the words differ in length. There may be a way to convert each word into a number of bits and measure each word that way, which would be closer to a ratio measure, since it would directly reflect that magnitude of the information sent through a channel (the brain), and 0 bits is an absolute zero-point. But given people have different relationships to each word already, it would be hard to say how many bits of information corresponding to those words were already known. "
   ]
  },
  {
   "cell_type": "markdown",
   "metadata": {},
   "source": [
    "#### 5 – point rating scale"
   ]
  },
  {
   "cell_type": "markdown",
   "metadata": {},
   "source": [
    "Likert scales are ordinal scales. It is not clear that the difference between 1 and 2 is the same as the difference between 3 and 4. Therefore it would be inappropriate to do arithmetic on a 5-point rating scale."
   ]
  },
  {
   "cell_type": "markdown",
   "metadata": {},
   "source": [
    "#### EEG reading"
   ]
  },
  {
   "cell_type": "markdown",
   "metadata": {},
   "source": [
    "EEG readings are measured on an interval scale. There is no absolute zero point and actually different subjects will have different baseline levels of activation, as will different EEG machines. Therefore they cannot be ratio. However, the measurement is likely some linear funtion of the true activation, so arithmetic can be performed on it.  "
   ]
  },
  {
   "cell_type": "markdown",
   "metadata": {},
   "source": [
    "#### (4) p(x) = (2x)/k { for x = 1,2,3,4,5 and 0 otherwise}\n",
    "#### what’s k"
   ]
  },
  {
   "cell_type": "markdown",
   "metadata": {},
   "source": [
    "$\\frac{2*1}{k} + \\frac{2*2}{k} + \\frac{2*3}{k} + \\frac{2*4}{k} + \\frac{2*5}{k} = 1$"
   ]
  },
  {
   "cell_type": "markdown",
   "metadata": {},
   "source": [
    "$\\frac{2}{k} + \\frac{4}{k} + \\frac{6}{k} + \\frac{8}{k} + \\frac{10}{k} = 1$"
   ]
  },
  {
   "cell_type": "markdown",
   "metadata": {},
   "source": [
    "$\\frac{30}{k} = 1$"
   ]
  },
  {
   "cell_type": "markdown",
   "metadata": {},
   "source": [
    "$k = 30$"
   ]
  },
  {
   "cell_type": "markdown",
   "metadata": {},
   "source": [
    "#### what’s the probability that x = 2, 3, or 4"
   ]
  },
  {
   "cell_type": "markdown",
   "metadata": {},
   "source": [
    "$p(2) = \\frac{2*2}{30}\n",
    "= \\frac{4}{30}\n",
    "= \\frac{2}{15}$"
   ]
  },
  {
   "cell_type": "markdown",
   "metadata": {},
   "source": [
    "$p(3) = \\frac{2*3}{30}\n",
    "= \\frac{6}{30}\n",
    "= \\frac{1}{5}$"
   ]
  },
  {
   "cell_type": "markdown",
   "metadata": {},
   "source": [
    "$p(4) = \\frac{2*4}{30}\n",
    "= \\frac{8}{30}\n",
    "= \\frac{4}{15}$"
   ]
  },
  {
   "cell_type": "markdown",
   "metadata": {},
   "source": [
    "$p(2,3, or 4) = \\frac{2}{15} + \\frac{1}{5} + \\frac{4}{15}$"
   ]
  },
  {
   "cell_type": "code",
   "execution_count": 19,
   "metadata": {},
   "outputs": [
    {
     "data": {
      "text/html": [
       "0.6"
      ],
      "text/latex": [
       "0.6"
      ],
      "text/markdown": [
       "0.6"
      ],
      "text/plain": [
       "[1] 0.6"
      ]
     },
     "metadata": {},
     "output_type": "display_data"
    }
   ],
   "source": [
    "(2/15) + (1/5) + (4/15)"
   ]
  },
  {
   "cell_type": "markdown",
   "metadata": {},
   "source": [
    "#### if I do experiment twice what’s the probability that the choice in Experiment 1 and in Experiment 2 both = 4?"
   ]
  },
  {
   "cell_type": "markdown",
   "metadata": {},
   "source": [
    "$p(4) = \\frac{4}{15} = 0.267$"
   ]
  },
  {
   "cell_type": "markdown",
   "metadata": {},
   "source": [
    "Therefore the probability of obtaining 4 twice in a row is 0.267 * 0.267 = 0.071"
   ]
  },
  {
   "cell_type": "markdown",
   "metadata": {},
   "source": [
    "#### (5) I have two decks of cards. I take a card from deck A and put it on top of deck B, face down.  I shuffle deck B thoroughly.  After shuffling, what is the probability that the top card of deck B is an Ace?"
   ]
  },
  {
   "cell_type": "markdown",
   "metadata": {},
   "source": [
    "Probability of pulling an ace from deck A and then pulling it from deck B:<br>\n",
    "$P(A then B) = \\frac{4}{52} * \\frac{1}{53}$"
   ]
  },
  {
   "cell_type": "markdown",
   "metadata": {},
   "source": [
    "Probability of pulling one of deck B's four aces:<br>\n",
    "$P(B aces) = \\frac{4}{53}$"
   ]
  },
  {
   "cell_type": "markdown",
   "metadata": {},
   "source": [
    "Probability that the top card of deck B is an ace:<br>\n",
    "$P(AceOnB) = (\\frac{4}{52} * \\frac{1}{53}) + \\frac{4}{53} = 0.08$"
   ]
  },
  {
   "cell_type": "markdown",
   "metadata": {},
   "source": [
    "#### (6) What is A’ and what is determinant of A?\n",
    "Appendix D : Matrix A = \n",
    "                                                   \n",
    "                                                    9       3\n",
    "                                                    2       4\n",
    "\n",
    " "
   ]
  },
  {
   "cell_type": "code",
   "execution_count": 27,
   "metadata": {},
   "outputs": [],
   "source": [
    "mat = rbind(cbind(9,3),cbind(2,4))"
   ]
  },
  {
   "cell_type": "code",
   "execution_count": 30,
   "metadata": {},
   "outputs": [
    {
     "data": {
      "text/html": [
       "<table>\n",
       "<tbody>\n",
       "\t<tr><td>9</td><td>3</td></tr>\n",
       "\t<tr><td>2</td><td>4</td></tr>\n",
       "</tbody>\n",
       "</table>\n"
      ],
      "text/latex": [
       "\\begin{tabular}{ll}\n",
       "\t 9 & 3\\\\\n",
       "\t 2 & 4\\\\\n",
       "\\end{tabular}\n"
      ],
      "text/markdown": [
       "\n",
       "| 9 | 3 |\n",
       "| 2 | 4 |\n",
       "\n"
      ],
      "text/plain": [
       "     [,1] [,2]\n",
       "[1,] 9    3   \n",
       "[2,] 2    4   "
      ]
     },
     "metadata": {},
     "output_type": "display_data"
    }
   ],
   "source": [
    "# given matrix\n",
    "mat"
   ]
  },
  {
   "cell_type": "code",
   "execution_count": 31,
   "metadata": {},
   "outputs": [
    {
     "data": {
      "text/html": [
       "<table>\n",
       "<tbody>\n",
       "\t<tr><td>9</td><td>2</td></tr>\n",
       "\t<tr><td>3</td><td>4</td></tr>\n",
       "</tbody>\n",
       "</table>\n"
      ],
      "text/latex": [
       "\\begin{tabular}{ll}\n",
       "\t 9 & 2\\\\\n",
       "\t 3 & 4\\\\\n",
       "\\end{tabular}\n"
      ],
      "text/markdown": [
       "\n",
       "| 9 | 2 |\n",
       "| 3 | 4 |\n",
       "\n"
      ],
      "text/plain": [
       "     [,1] [,2]\n",
       "[1,] 9    2   \n",
       "[2,] 3    4   "
      ]
     },
     "metadata": {},
     "output_type": "display_data"
    }
   ],
   "source": [
    "# matrix transpose\n",
    "t(mat)"
   ]
  },
  {
   "cell_type": "code",
   "execution_count": 32,
   "metadata": {},
   "outputs": [
    {
     "data": {
      "text/html": [
       "30"
      ],
      "text/latex": [
       "30"
      ],
      "text/markdown": [
       "30"
      ],
      "text/plain": [
       "[1] 30"
      ]
     },
     "metadata": {},
     "output_type": "display_data"
    }
   ],
   "source": [
    "# determinant of matrix\n",
    "det(mat)"
   ]
  },
  {
   "cell_type": "markdown",
   "metadata": {},
   "source": [
    "####  (7) Next week I may assign this and ask you to solve this analytically. This week, I would like you to solve it via a simulation.  Suppose 5% of the population is infected with a virus. We have 100 hospitals that each test 25 people, 100 hospitals that test 50 people and 100 that test 100 people. What percentage of hospitals will find no cases, and wrongly conclude the virus has disappeared?"
   ]
  },
  {
   "cell_type": "code",
   "execution_count": 265,
   "metadata": {},
   "outputs": [],
   "source": [
    "infection = function(n_runs){\n",
    "    for (i in length(n_runs)){\n",
    "        base_rate = 0.05\n",
    "        # hospital and patient number combinations\n",
    "        n_hospital = 100\n",
    "        n_people = c(25, 50, 100)\n",
    "        base_rate = 0.05\n",
    "        percent_no_cases = c()\n",
    "        #hospital and patient number combinations\n",
    "        n_hospital = 100\n",
    "        n_people = c(25, 50)\n",
    "\n",
    "        for (people in length(n_people)){\n",
    "            # obtain number of cases for n_hospitals testing n_people, given the base_rate\n",
    "            tests = rbinom(n_hospital, n_people[people], base_rate)\n",
    "            hosps_with_no_cases = 0\n",
    "            for (test in tests){\n",
    "                if (test == 0 ){\n",
    "                    hosps_with_no_cases = hosps_with_no_cases + 1\n",
    "\n",
    "                }\n",
    "            }\n",
    "            percent_no_cases = c(percent_no_cases, hosps_with_no_cases / n_hospital)\n",
    "            \n",
    "        }\n",
    "    }\n",
    "    print(percent_no_cases)\n",
    "    return(mean(percent_no_cases))\n",
    "}"
   ]
  },
  {
   "cell_type": "code",
   "execution_count": 275,
   "metadata": {},
   "outputs": [
    {
     "name": "stdout",
     "output_type": "stream",
     "text": [
      "[1] 0.07\n"
     ]
    }
   ],
   "source": [
    "x = infection(100000)"
   ]
  },
  {
   "cell_type": "code",
   "execution_count": 280,
   "metadata": {},
   "outputs": [
    {
     "data": {
      "text/html": [
       "21"
      ],
      "text/latex": [
       "21"
      ],
      "text/markdown": [
       "21"
      ],
      "text/plain": [
       "[1] 21"
      ]
     },
     "metadata": {},
     "output_type": "display_data"
    }
   ],
   "source": [
    "# number of hospitals who will find 0 cases\n",
    "x*300"
   ]
  }
 ],
 "metadata": {
  "kernelspec": {
   "display_name": "R",
   "language": "R",
   "name": "ir"
  },
  "language_info": {
   "codemirror_mode": "r",
   "file_extension": ".r",
   "mimetype": "text/x-r-source",
   "name": "R",
   "pygments_lexer": "r",
   "version": "3.6.1"
  }
 },
 "nbformat": 4,
 "nbformat_minor": 4
}
