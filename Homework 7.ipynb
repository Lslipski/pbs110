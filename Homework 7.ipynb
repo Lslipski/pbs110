{
 "cells": [
  {
   "cell_type": "markdown",
   "metadata": {},
   "source": [
    "# Homework 7"
   ]
  },
  {
   "cell_type": "markdown",
   "metadata": {},
   "source": [
    "October 29, 2020"
   ]
  },
  {
   "cell_type": "markdown",
   "metadata": {},
   "source": [
    "##### (1) Find a few estimates (3 – 6) of effect size related to a project you would like to do. Preferably keep it simple: two groups or a regression. Use those estimates to calculate the needed sample size to achieve 80% power. Further, assume that the effect size estimates are inflated by 25% or 50% and show the effect on the number of subjects needed."
   ]
  },
  {
   "cell_type": "markdown",
   "metadata": {},
   "source": [
    "I'm interested in understanding how people associate pain with contexts. An experiment I'd like to run has people watch a movie while receiving painful thermal stimuli any time a specific location appears on screen. The rest of the time the participants will receive warm non-painful stimuli. Three studies published in (Wager, T. D., Atlas, L. Y., Lindquist, M. A., Roy, M., Woo, C. W., & Kross, E. (2013). An fMRI-based neurologic signature of physical pain. New England Journal of Medicine, 368(15), 1388–1397. https://doi.org/10.1056/NEJMoa1204471) provide effect sizes of a Pain vs. warm contrast. These effect sizes are 2.69, 1.54, and 1.64"
   ]
  },
  {
   "cell_type": "code",
   "execution_count": 2,
   "metadata": {},
   "outputs": [
    {
     "name": "stderr",
     "output_type": "stream",
     "text": [
      "Loading required package: boot\n"
     ]
    }
   ],
   "source": [
    "library('bootES')\n",
    "library('pwr')"
   ]
  },
  {
   "cell_type": "code",
   "execution_count": 23,
   "metadata": {},
   "outputs": [],
   "source": [
    "# calculate sample size based on 3 different effect sizes\n",
    "ss_1 = pwr.t.test(n=, d=2.69, power=0.8,sig.level=.05, type='two.sample')\n",
    "ss_2 = pwr.t.test(n=, d=1.54, power=0.8,sig.level=.05, type='two.sample')\n",
    "ss_3 = pwr.t.test(n=, d=1.64, power=0.8,sig.level=.05, type='two.sample')"
   ]
  },
  {
   "cell_type": "code",
   "execution_count": 24,
   "metadata": {},
   "outputs": [
    {
     "name": "stdout",
     "output_type": "stream",
     "text": [
      "\n",
      "     Two-sample t test power calculation \n",
      "\n",
      "              n = 3.449776\n",
      "              d = 2.69\n",
      "      sig.level = 0.05\n",
      "          power = 0.8\n",
      "    alternative = two.sided\n",
      "\n",
      "NOTE: n is number in *each* group\n",
      "\n",
      "\n",
      "     Two-sample t test power calculation \n",
      "\n",
      "              n = 7.708705\n",
      "              d = 1.54\n",
      "      sig.level = 0.05\n",
      "          power = 0.8\n",
      "    alternative = two.sided\n",
      "\n",
      "NOTE: n is number in *each* group\n",
      "\n",
      "\n",
      "     Two-sample t test power calculation \n",
      "\n",
      "              n = 6.941919\n",
      "              d = 1.64\n",
      "      sig.level = 0.05\n",
      "          power = 0.8\n",
      "    alternative = two.sided\n",
      "\n",
      "NOTE: n is number in *each* group\n",
      "\n"
     ]
    }
   ],
   "source": [
    "print(ss_1)\n",
    "print(ss_2)\n",
    "print(ss_3)"
   ]
  },
  {
   "cell_type": "code",
   "execution_count": 4,
   "metadata": {},
   "outputs": [
    {
     "name": "stdout",
     "output_type": "stream",
     "text": [
      "\n",
      "     Two-sample t test power calculation \n",
      "\n",
      "              n = 9.674702\n",
      "              d = 1.35\n",
      "      sig.level = 0.05\n",
      "          power = 0.8\n",
      "    alternative = two.sided\n",
      "\n",
      "NOTE: n is number in *each* group\n",
      "\n",
      "\n",
      "     Two-sample t test power calculation \n",
      "\n",
      "              n = 27.4704\n",
      "              d = 0.77\n",
      "      sig.level = 0.05\n",
      "          power = 0.8\n",
      "    alternative = two.sided\n",
      "\n",
      "NOTE: n is number in *each* group\n",
      "\n",
      "\n",
      "     Two-sample t test power calculation \n",
      "\n",
      "              n = 24.34452\n",
      "              d = 0.82\n",
      "      sig.level = 0.05\n",
      "          power = 0.8\n",
      "    alternative = two.sided\n",
      "\n",
      "NOTE: n is number in *each* group\n",
      "\n"
     ]
    }
   ],
   "source": [
    "#assume effect size is inflated by 50%\n",
    "# calculate sample size based on 3 different effect sizes\n",
    "ss_1_50 = pwr.t.test(n=, d=1.35, power=0.8,sig.level=.05, type='two.sample')\n",
    "ss_2_50 = pwr.t.test(n=, d=0.77, power=0.8,sig.level=.05, type='two.sample')\n",
    "ss_3_50 = pwr.t.test(n=, d=0.82, power=0.8,sig.level=.05, type='two.sample')\n",
    "\n",
    "print(ss_1_50)\n",
    "print(ss_2_50)\n",
    "print(ss_3_50)"
   ]
  },
  {
   "cell_type": "markdown",
   "metadata": {},
   "source": [
    "##### (2) The enclosed dataset (h4.csv) is from a clinical trial testing the effectiveness of an intervention to educate patients with severe mental illness about the dangers of blood-borne diseases, particularly Hepatitis C and HIV, relative to a treatment as usual or control group. All clients were administered a test about Hep C before treatment and six months after treatment. The variable HCV_Know . . . . is the % change in test scores from baseline to six months. Did the experimental (STIRR) group learn more than the control group? Did either group show significant improvement?"
   ]
  },
  {
   "cell_type": "code",
   "execution_count": 34,
   "metadata": {},
   "outputs": [],
   "source": [
    "h4 = read.csv('data_files/h4.csv')"
   ]
  },
  {
   "cell_type": "code",
   "execution_count": 35,
   "metadata": {},
   "outputs": [
    {
     "data": {
      "text/html": [
       "<table>\n",
       "<thead><tr><th scope=col>group</th><th scope=col>hcvknowl</th><th scope=col>test</th></tr></thead>\n",
       "<tbody>\n",
       "\t<tr><td>1        </td><td>-16.66667</td><td>0        </td></tr>\n",
       "\t<tr><td>1        </td><td> 25.00000</td><td>0        </td></tr>\n",
       "\t<tr><td>1        </td><td> 25.00000</td><td>0        </td></tr>\n",
       "\t<tr><td>1        </td><td>-16.66667</td><td>0        </td></tr>\n",
       "\t<tr><td>1        </td><td>-16.66667</td><td>0        </td></tr>\n",
       "\t<tr><td>1        </td><td>  0.00000</td><td>0        </td></tr>\n",
       "</tbody>\n",
       "</table>\n"
      ],
      "text/latex": [
       "\\begin{tabular}{r|lll}\n",
       " group & hcvknowl & test\\\\\n",
       "\\hline\n",
       "\t 1         & -16.66667 & 0        \\\\\n",
       "\t 1         &  25.00000 & 0        \\\\\n",
       "\t 1         &  25.00000 & 0        \\\\\n",
       "\t 1         & -16.66667 & 0        \\\\\n",
       "\t 1         & -16.66667 & 0        \\\\\n",
       "\t 1         &   0.00000 & 0        \\\\\n",
       "\\end{tabular}\n"
      ],
      "text/markdown": [
       "\n",
       "| group | hcvknowl | test |\n",
       "|---|---|---|\n",
       "| 1         | -16.66667 | 0         |\n",
       "| 1         |  25.00000 | 0         |\n",
       "| 1         |  25.00000 | 0         |\n",
       "| 1         | -16.66667 | 0         |\n",
       "| 1         | -16.66667 | 0         |\n",
       "| 1         |   0.00000 | 0         |\n",
       "\n"
      ],
      "text/plain": [
       "  group hcvknowl  test\n",
       "1 1     -16.66667 0   \n",
       "2 1      25.00000 0   \n",
       "3 1      25.00000 0   \n",
       "4 1     -16.66667 0   \n",
       "5 1     -16.66667 0   \n",
       "6 1       0.00000 0   "
      ]
     },
     "metadata": {},
     "output_type": "display_data"
    }
   ],
   "source": [
    "head(h4)"
   ]
  },
  {
   "cell_type": "code",
   "execution_count": 36,
   "metadata": {},
   "outputs": [],
   "source": [
    "# cast group as a factor\n",
    "h4$group = as.factor(h4$group)"
   ]
  },
  {
   "cell_type": "code",
   "execution_count": 37,
   "metadata": {},
   "outputs": [
    {
     "data": {
      "text/html": [
       "<table>\n",
       "<thead><tr><th scope=col>group</th><th scope=col>hcvknowl</th></tr></thead>\n",
       "<tbody>\n",
       "\t<tr><td>1         </td><td>14.0186916</td></tr>\n",
       "\t<tr><td>2         </td><td> 0.4340278</td></tr>\n",
       "</tbody>\n",
       "</table>\n"
      ],
      "text/latex": [
       "\\begin{tabular}{r|ll}\n",
       " group & hcvknowl\\\\\n",
       "\\hline\n",
       "\t 1          & 14.0186916\\\\\n",
       "\t 2          &  0.4340278\\\\\n",
       "\\end{tabular}\n"
      ],
      "text/markdown": [
       "\n",
       "| group | hcvknowl |\n",
       "|---|---|\n",
       "| 1          | 14.0186916 |\n",
       "| 2          |  0.4340278 |\n",
       "\n"
      ],
      "text/plain": [
       "  group hcvknowl  \n",
       "1 1     14.0186916\n",
       "2 2      0.4340278"
      ]
     },
     "metadata": {},
     "output_type": "display_data"
    },
    {
     "data": {
      "text/html": [
       "<table>\n",
       "<thead><tr><th scope=col>group</th><th scope=col>hcvknowl</th></tr></thead>\n",
       "<tbody>\n",
       "\t<tr><td>1       </td><td>401.7271</td></tr>\n",
       "\t<tr><td>2       </td><td>450.8330</td></tr>\n",
       "</tbody>\n",
       "</table>\n"
      ],
      "text/latex": [
       "\\begin{tabular}{r|ll}\n",
       " group & hcvknowl\\\\\n",
       "\\hline\n",
       "\t 1        & 401.7271\\\\\n",
       "\t 2        & 450.8330\\\\\n",
       "\\end{tabular}\n"
      ],
      "text/markdown": [
       "\n",
       "| group | hcvknowl |\n",
       "|---|---|\n",
       "| 1        | 401.7271 |\n",
       "| 2        | 450.8330 |\n",
       "\n"
      ],
      "text/plain": [
       "  group hcvknowl\n",
       "1 1     401.7271\n",
       "2 2     450.8330"
      ]
     },
     "metadata": {},
     "output_type": "display_data"
    }
   ],
   "source": [
    "aggregate(hcvknowl~group, h4, mean)\n",
    "aggregate(hcvknowl~group, h4, var)"
   ]
  },
  {
   "cell_type": "markdown",
   "metadata": {},
   "source": [
    "It looks like the 2 groups have different means but their variance is rather similar, so I would use var.equal = T, but will run both ways here to see the difference"
   ]
  },
  {
   "cell_type": "code",
   "execution_count": 41,
   "metadata": {},
   "outputs": [
    {
     "data": {
      "text/plain": [
       "\n",
       "\tTwo Sample t-test\n",
       "\n",
       "data:  hcvknowl by group\n",
       "t = 4.6878, df = 201, p-value = 5.089e-06\n",
       "alternative hypothesis: true difference in means is not equal to 0\n",
       "95 percent confidence interval:\n",
       "  7.870491 19.298837\n",
       "sample estimates:\n",
       "mean in group 1 mean in group 2 \n",
       "     14.0186916       0.4340278 \n"
      ]
     },
     "metadata": {},
     "output_type": "display_data"
    },
    {
     "data": {
      "text/plain": [
       "\n",
       "\tWelch Two Sample t-test\n",
       "\n",
       "data:  hcvknowl by group\n",
       "t = 4.6731, df = 195.58, p-value = 5.514e-06\n",
       "alternative hypothesis: true difference in means is not equal to 0\n",
       "95 percent confidence interval:\n",
       "  7.851578 19.317750\n",
       "sample estimates:\n",
       "mean in group 1 mean in group 2 \n",
       "     14.0186916       0.4340278 \n"
      ]
     },
     "metadata": {},
     "output_type": "display_data"
    }
   ],
   "source": [
    "t.test(hcvknowl~group, data=h4, var.equal = T)\n",
    "t.test(hcvknowl~group, data=h4, var.equal = F)"
   ]
  },
  {
   "cell_type": "markdown",
   "metadata": {},
   "source": [
    "Both tests showed a significant difference between the means of group 1 and group 2. This leads me to reject the null hypothesis that one group did not learn more than another group. The evidence supports the alternative hypothesis instead that experimental group did learn more than the control group."
   ]
  },
  {
   "cell_type": "code",
   "execution_count": 76,
   "metadata": {},
   "outputs": [
    {
     "data": {
      "text/plain": [
       "\n",
       "\tOne Sample t-test\n",
       "\n",
       "data:  h4[which(h4$group == 1), ]$hcvknowl\n",
       "t = 7.2349, df = 106, p-value = 7.641e-11\n",
       "alternative hypothesis: true mean is not equal to 0\n",
       "95 percent confidence interval:\n",
       " 10.17713 17.86026\n",
       "sample estimates:\n",
       "mean of x \n",
       " 14.01869 \n"
      ]
     },
     "metadata": {},
     "output_type": "display_data"
    },
    {
     "data": {
      "text/plain": [
       "\n",
       "\tOne Sample t-test\n",
       "\n",
       "data:  h4[which(h4$group == 2), ]$hcvknowl\n",
       "t = 0.20028, df = 95, p-value = 0.8417\n",
       "alternative hypothesis: true mean is not equal to 0\n",
       "95 percent confidence interval:\n",
       " -3.868143  4.736199\n",
       "sample estimates:\n",
       "mean of x \n",
       "0.4340278 \n"
      ]
     },
     "metadata": {},
     "output_type": "display_data"
    }
   ],
   "source": [
    "#test both means against 0\n",
    "t.test(h4[which(h4$group == 1),]$hcvknowl, mu=0)\n",
    "t.test(h4[which(h4$group == 2),]$hcvknowl, mu=0)"
   ]
  },
  {
   "cell_type": "markdown",
   "metadata": {},
   "source": [
    "These one sample t-tests indicate that the control group did not show significant improvement. The intervention group did show a significant difference, although this does not tell us if the intervention group was significantly different from the control group. That question is answered by the original 2 sample t-test."
   ]
  },
  {
   "cell_type": "markdown",
   "metadata": {},
   "source": [
    "##### (3) The enclosed data (class_screens.csv) are from a study in which therapists were encouraged to administer a new PTSD test to troubled children (you saw a ‘subset’ of these data in Homework 4). The numbers are the number of tests administered. There were two groups: an experimental group (L) who received focused training on the need to consider PTSD in troubled children and a control group (W) without special training on the importance of PTSD. Was there a significant difference between groups, think carefully?"
   ]
  },
  {
   "cell_type": "code",
   "execution_count": 2,
   "metadata": {},
   "outputs": [],
   "source": [
    "cs = read.csv('data_files/class_screens.csv')"
   ]
  },
  {
   "cell_type": "code",
   "execution_count": 78,
   "metadata": {},
   "outputs": [
    {
     "data": {
      "text/html": [
       "<table>\n",
       "<thead><tr><th scope=col>CONDTION</th><th scope=col>NUM_SCREENS</th></tr></thead>\n",
       "<tbody>\n",
       "\t<tr><td>L</td><td>1</td></tr>\n",
       "\t<tr><td>L</td><td>4</td></tr>\n",
       "\t<tr><td>W</td><td>0</td></tr>\n",
       "\t<tr><td>L</td><td>0</td></tr>\n",
       "\t<tr><td>L</td><td>3</td></tr>\n",
       "\t<tr><td>L</td><td>0</td></tr>\n",
       "</tbody>\n",
       "</table>\n"
      ],
      "text/latex": [
       "\\begin{tabular}{r|ll}\n",
       " CONDTION & NUM\\_SCREENS\\\\\n",
       "\\hline\n",
       "\t L & 1\\\\\n",
       "\t L & 4\\\\\n",
       "\t W & 0\\\\\n",
       "\t L & 0\\\\\n",
       "\t L & 3\\\\\n",
       "\t L & 0\\\\\n",
       "\\end{tabular}\n"
      ],
      "text/markdown": [
       "\n",
       "| CONDTION | NUM_SCREENS |\n",
       "|---|---|\n",
       "| L | 1 |\n",
       "| L | 4 |\n",
       "| W | 0 |\n",
       "| L | 0 |\n",
       "| L | 3 |\n",
       "| L | 0 |\n",
       "\n"
      ],
      "text/plain": [
       "  CONDTION NUM_SCREENS\n",
       "1 L        1          \n",
       "2 L        4          \n",
       "3 W        0          \n",
       "4 L        0          \n",
       "5 L        3          \n",
       "6 L        0          "
      ]
     },
     "metadata": {},
     "output_type": "display_data"
    }
   ],
   "source": [
    "head(cs)"
   ]
  },
  {
   "cell_type": "code",
   "execution_count": 85,
   "metadata": {},
   "outputs": [
    {
     "data": {
      "text/html": [
       "<ol class=list-inline>\n",
       "\t<li>129</li>\n",
       "\t<li>2</li>\n",
       "</ol>\n"
      ],
      "text/latex": [
       "\\begin{enumerate*}\n",
       "\\item 129\n",
       "\\item 2\n",
       "\\end{enumerate*}\n"
      ],
      "text/markdown": [
       "1. 129\n",
       "2. 2\n",
       "\n",
       "\n"
      ],
      "text/plain": [
       "[1] 129   2"
      ]
     },
     "metadata": {},
     "output_type": "display_data"
    }
   ],
   "source": [
    "dim(cs)"
   ]
  },
  {
   "cell_type": "code",
   "execution_count": 4,
   "metadata": {},
   "outputs": [
    {
     "data": {
      "text/html": [
       "<table>\n",
       "<thead><tr><th scope=col>condition</th><th scope=col>NUM_SCREENS</th></tr></thead>\n",
       "<tbody>\n",
       "\t<tr><td>L       </td><td>6.985294</td></tr>\n",
       "\t<tr><td>W       </td><td>2.327869</td></tr>\n",
       "</tbody>\n",
       "</table>\n"
      ],
      "text/latex": [
       "\\begin{tabular}{r|ll}\n",
       " condition & NUM\\_SCREENS\\\\\n",
       "\\hline\n",
       "\t L        & 6.985294\\\\\n",
       "\t W        & 2.327869\\\\\n",
       "\\end{tabular}\n"
      ],
      "text/markdown": [
       "\n",
       "| condition | NUM_SCREENS |\n",
       "|---|---|\n",
       "| L        | 6.985294 |\n",
       "| W        | 2.327869 |\n",
       "\n"
      ],
      "text/plain": [
       "  condition NUM_SCREENS\n",
       "1 L         6.985294   \n",
       "2 W         2.327869   "
      ]
     },
     "metadata": {},
     "output_type": "display_data"
    },
    {
     "data": {
      "text/html": [
       "<table>\n",
       "<thead><tr><th scope=col>condition</th><th scope=col>NUM_SCREENS</th></tr></thead>\n",
       "<tbody>\n",
       "\t<tr><td>L        </td><td>555.71620</td></tr>\n",
       "\t<tr><td>W        </td><td> 80.92404</td></tr>\n",
       "</tbody>\n",
       "</table>\n"
      ],
      "text/latex": [
       "\\begin{tabular}{r|ll}\n",
       " condition & NUM\\_SCREENS\\\\\n",
       "\\hline\n",
       "\t L         & 555.71620\\\\\n",
       "\t W         &  80.92404\\\\\n",
       "\\end{tabular}\n"
      ],
      "text/markdown": [
       "\n",
       "| condition | NUM_SCREENS |\n",
       "|---|---|\n",
       "| L         | 555.71620 |\n",
       "| W         |  80.92404 |\n",
       "\n"
      ],
      "text/plain": [
       "  condition NUM_SCREENS\n",
       "1 L         555.71620  \n",
       "2 W          80.92404  "
      ]
     },
     "metadata": {},
     "output_type": "display_data"
    }
   ],
   "source": [
    "# cast condition as a factor\n",
    "cs$condition = as.factor(cs$CONDTION)\n",
    "\n",
    "aggregate(NUM_SCREENS~condition, data=cs, mean)\n",
    "aggregate(NUM_SCREENS~condition, data=cs, var)"
   ]
  },
  {
   "cell_type": "markdown",
   "metadata": {},
   "source": [
    "From this we can see that the variance of the counts exceeds the mean of the counts, so it is inappropriate to use the poisson distribution here. Instead I will use the negative binomial distribution."
   ]
  },
  {
   "cell_type": "code",
   "execution_count": 92,
   "metadata": {},
   "outputs": [
    {
     "data": {
      "text/plain": [
       "   Min. 1st Qu.  Median    Mean 3rd Qu.    Max. \n",
       "  0.000   0.000   0.000   4.783   1.000 176.000 "
      ]
     },
     "metadata": {},
     "output_type": "display_data"
    },
    {
     "data": {
      "image/png": "[encoded data removed]",
      "text/plain": [
       "Plot with title “Histogram of cs$NUM_SCREENS”"
      ]
     },
     "metadata": {},
     "output_type": "display_data"
    }
   ],
   "source": [
    "hist(cs$NUM_SCREENS)\n",
    "summary(cs$NUM_SCREENS)"
   ]
  },
  {
   "cell_type": "code",
   "execution_count": 6,
   "metadata": {},
   "outputs": [
    {
     "data": {
      "text/plain": [
       "\n",
       "Call:\n",
       "glm.nb(formula = NUM_SCREENS ~ condition, data = cs, init.theta = 0.1159201156, \n",
       "    link = log)\n",
       "\n",
       "Deviance Residuals: \n",
       "    Min       1Q   Median       3Q      Max  \n",
       "-0.9768  -0.9768  -0.8407  -0.2495   2.1948  \n",
       "\n",
       "Coefficients:\n",
       "            Estimate Std. Error z value Pr(>|z|)    \n",
       "(Intercept)   1.9438     0.3591   5.413 6.21e-08 ***\n",
       "conditionW   -1.0989     0.5267  -2.086    0.037 *  \n",
       "---\n",
       "Signif. codes:  0 ‘***’ 0.001 ‘**’ 0.01 ‘*’ 0.05 ‘.’ 0.1 ‘ ’ 1\n",
       "\n",
       "(Dispersion parameter for Negative Binomial(0.1159) family taken to be 1)\n",
       "\n",
       "    Null deviance: 92.753  on 128  degrees of freedom\n",
       "Residual deviance: 88.657  on 127  degrees of freedom\n",
       "AIC: 453.4\n",
       "\n",
       "Number of Fisher Scoring iterations: 1\n",
       "\n",
       "\n",
       "              Theta:  0.1159 \n",
       "          Std. Err.:  0.0208 \n",
       "\n",
       " 2 x log-likelihood:  -447.4040 "
      ]
     },
     "metadata": {},
     "output_type": "display_data"
    }
   ],
   "source": [
    "# fit glm for negative binomial distributions\n",
    "library(MASS)\n",
    "nb = glm.nb(NUM_SCREENS~condition, data=cs)\n",
    "summary(nb)"
   ]
  },
  {
   "cell_type": "code",
   "execution_count": 9,
   "metadata": {},
   "outputs": [
    {
     "data": {
      "text/plain": [
       "\n",
       "Call:\n",
       "glm(formula = NUM_SCREENS ~ condition, family = poisson(), data = cs)\n",
       "\n",
       "Deviance Residuals: \n",
       "   Min      1Q  Median      3Q     Max  \n",
       "-3.738  -3.738  -2.158  -1.703  28.245  \n",
       "\n",
       "Coefficients:\n",
       "            Estimate Std. Error z value Pr(>|z|)    \n",
       "(Intercept)  1.94381    0.04588   42.36   <2e-16 ***\n",
       "conditionW  -1.09885    0.09564  -11.49   <2e-16 ***\n",
       "---\n",
       "Signif. codes:  0 ‘***’ 0.001 ‘**’ 0.01 ‘*’ 0.05 ‘.’ 0.1 ‘ ’ 1\n",
       "\n",
       "(Dispersion parameter for poisson family taken to be 1)\n",
       "\n",
       "    Null deviance: 2636.8  on 128  degrees of freedom\n",
       "Residual deviance: 2481.5  on 127  degrees of freedom\n",
       "AIC: 2638.6\n",
       "\n",
       "Number of Fisher Scoring iterations: 7\n"
      ]
     },
     "metadata": {},
     "output_type": "display_data"
    }
   ],
   "source": [
    "# compare against poisson just for fun\n",
    "poisson = glm(NUM_SCREENS~condition, data = cs,  family = poisson())\n",
    "summary(poisson)"
   ]
  },
  {
   "cell_type": "markdown",
   "metadata": {},
   "source": [
    "We can see from the huge reduction in AIC from 2638 in the poisson model to 453 in the negative binomial model that the negative binomial is a better fit. Further, in the negative binomial model the main effect of condition was significant at p = 0.037, so I reject the null hypothesis that the number of PTSD screens was the same between groups."
   ]
  }
 ],
 "metadata": {
  "kernelspec": {
   "display_name": "R",
   "language": "R",
   "name": "ir"
  },
  "language_info": {
   "codemirror_mode": "r",
   "file_extension": ".r",
   "mimetype": "text/x-r-source",
   "name": "R",
   "pygments_lexer": "r",
   "version": "3.6.1"
  }
 },
 "nbformat": 4,
 "nbformat_minor": 4
}
