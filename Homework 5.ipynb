{
 "cells": [
  {
   "cell_type": "markdown",
   "metadata": {},
   "source": [
    "# Homework 5"
   ]
  },
  {
   "cell_type": "markdown",
   "metadata": {},
   "source": [
    "October 13, 2020"
   ]
  },
  {
   "cell_type": "code",
   "execution_count": 2,
   "metadata": {},
   "outputs": [],
   "source": [
    "datadir = 'data_files/'"
   ]
  },
  {
   "cell_type": "markdown",
   "metadata": {},
   "source": [
    "##### (1) The National Merit people have collected data on the intellectual performance of twins on several different aptitudes. The twins are either identical or fraternal. Are twins significantly related to one another on math performance? Does zygosity affect that relationship? This problem involves some moderately tricky file manipulation. If you struggle with that aspect of the problem, contact me and show me where you’re at and I’ll offer some hints or guidance. (data in minnesota_twins.csv)\n",
    "\n",
    "(The coding key is-- with zygosity, 1 = identical; sex, 1 = male; moed = mother's education level; faed = father's ed level; and faminc = family income. These variables were all based on likert type scales with higher numbers indicating more. The remaining variables are all numeric test scores on different categories.)"
   ]
  },
  {
   "cell_type": "code",
   "execution_count": 28,
   "metadata": {},
   "outputs": [],
   "source": [
    "twins = read.csv(file.path(datadir,'/minnesota_twins.csv'))"
   ]
  },
  {
   "cell_type": "code",
   "execution_count": 29,
   "metadata": {},
   "outputs": [
    {
     "data": {
      "text/html": [
       "<table>\n",
       "<thead><tr><th scope=col>pairnum</th><th scope=col>sex</th><th scope=col>zygosity</th><th scope=col>moed</th><th scope=col>faed</th><th scope=col>faminc</th><th scope=col>english</th><th scope=col>math</th><th scope=col>socsci</th><th scope=col>natsci</th><th scope=col>vocab</th></tr></thead>\n",
       "<tbody>\n",
       "\t<tr><td>1 </td><td>2 </td><td>1 </td><td>3 </td><td>4 </td><td>2 </td><td>14</td><td>13</td><td>17</td><td>18</td><td>14</td></tr>\n",
       "\t<tr><td>1 </td><td>2 </td><td>1 </td><td>3 </td><td>4 </td><td>2 </td><td>11</td><td>14</td><td>15</td><td>10</td><td>12</td></tr>\n",
       "\t<tr><td>4 </td><td>2 </td><td>1 </td><td>1 </td><td>1 </td><td>1 </td><td>20</td><td>20</td><td>16</td><td>16</td><td>13</td></tr>\n",
       "\t<tr><td>4 </td><td>2 </td><td>1 </td><td>1 </td><td>1 </td><td>1 </td><td>17</td><td>19</td><td>13</td><td>13</td><td>14</td></tr>\n",
       "\t<tr><td>5 </td><td>2 </td><td>1 </td><td>1 </td><td>1 </td><td>1 </td><td>11</td><td> 8</td><td>15</td><td>16</td><td>12</td></tr>\n",
       "\t<tr><td>5 </td><td>2 </td><td>1 </td><td>1 </td><td>1 </td><td>1 </td><td>16</td><td>13</td><td>13</td><td> 8</td><td>15</td></tr>\n",
       "</tbody>\n",
       "</table>\n"
      ],
      "text/latex": [
       "\\begin{tabular}{r|lllllllllll}\n",
       " pairnum & sex & zygosity & moed & faed & faminc & english & math & socsci & natsci & vocab\\\\\n",
       "\\hline\n",
       "\t 1  & 2  & 1  & 3  & 4  & 2  & 14 & 13 & 17 & 18 & 14\\\\\n",
       "\t 1  & 2  & 1  & 3  & 4  & 2  & 11 & 14 & 15 & 10 & 12\\\\\n",
       "\t 4  & 2  & 1  & 1  & 1  & 1  & 20 & 20 & 16 & 16 & 13\\\\\n",
       "\t 4  & 2  & 1  & 1  & 1  & 1  & 17 & 19 & 13 & 13 & 14\\\\\n",
       "\t 5  & 2  & 1  & 1  & 1  & 1  & 11 &  8 & 15 & 16 & 12\\\\\n",
       "\t 5  & 2  & 1  & 1  & 1  & 1  & 16 & 13 & 13 &  8 & 15\\\\\n",
       "\\end{tabular}\n"
      ],
      "text/markdown": [
       "\n",
       "| pairnum | sex | zygosity | moed | faed | faminc | english | math | socsci | natsci | vocab |\n",
       "|---|---|---|---|---|---|---|---|---|---|---|\n",
       "| 1  | 2  | 1  | 3  | 4  | 2  | 14 | 13 | 17 | 18 | 14 |\n",
       "| 1  | 2  | 1  | 3  | 4  | 2  | 11 | 14 | 15 | 10 | 12 |\n",
       "| 4  | 2  | 1  | 1  | 1  | 1  | 20 | 20 | 16 | 16 | 13 |\n",
       "| 4  | 2  | 1  | 1  | 1  | 1  | 17 | 19 | 13 | 13 | 14 |\n",
       "| 5  | 2  | 1  | 1  | 1  | 1  | 11 |  8 | 15 | 16 | 12 |\n",
       "| 5  | 2  | 1  | 1  | 1  | 1  | 16 | 13 | 13 |  8 | 15 |\n",
       "\n"
      ],
      "text/plain": [
       "  pairnum sex zygosity moed faed faminc english math socsci natsci vocab\n",
       "1 1       2   1        3    4    2      14      13   17     18     14   \n",
       "2 1       2   1        3    4    2      11      14   15     10     12   \n",
       "3 4       2   1        1    1    1      20      20   16     16     13   \n",
       "4 4       2   1        1    1    1      17      19   13     13     14   \n",
       "5 5       2   1        1    1    1      11       8   15     16     12   \n",
       "6 5       2   1        1    1    1      16      13   13      8     15   "
      ]
     },
     "metadata": {},
     "output_type": "display_data"
    }
   ],
   "source": [
    "head(twins)"
   ]
  },
  {
   "cell_type": "code",
   "execution_count": 44,
   "metadata": {},
   "outputs": [
    {
     "data": {
      "text/html": [
       "<ol class=list-inline>\n",
       "\t<li>1678</li>\n",
       "\t<li>4</li>\n",
       "</ol>\n"
      ],
      "text/latex": [
       "\\begin{enumerate*}\n",
       "\\item 1678\n",
       "\\item 4\n",
       "\\end{enumerate*}\n"
      ],
      "text/markdown": [
       "1. 1678\n",
       "2. 4\n",
       "\n",
       "\n"
      ],
      "text/plain": [
       "[1] 1678    4"
      ]
     },
     "metadata": {},
     "output_type": "display_data"
    },
    {
     "data": {
      "text/html": [
       "<table>\n",
       "<thead><tr><th scope=col>pairnum</th><th scope=col>pair_id</th><th scope=col>zygosity</th><th scope=col>math</th></tr></thead>\n",
       "<tbody>\n",
       "\t<tr><td>1 </td><td>0 </td><td>1 </td><td>13</td></tr>\n",
       "\t<tr><td>1 </td><td>1 </td><td>1 </td><td>14</td></tr>\n",
       "\t<tr><td>4 </td><td>0 </td><td>1 </td><td>20</td></tr>\n",
       "\t<tr><td>4 </td><td>1 </td><td>1 </td><td>19</td></tr>\n",
       "\t<tr><td>5 </td><td>0 </td><td>1 </td><td> 8</td></tr>\n",
       "\t<tr><td>5 </td><td>1 </td><td>1 </td><td>13</td></tr>\n",
       "</tbody>\n",
       "</table>\n"
      ],
      "text/latex": [
       "\\begin{tabular}{r|llll}\n",
       " pairnum & pair\\_id & zygosity & math\\\\\n",
       "\\hline\n",
       "\t 1  & 0  & 1  & 13\\\\\n",
       "\t 1  & 1  & 1  & 14\\\\\n",
       "\t 4  & 0  & 1  & 20\\\\\n",
       "\t 4  & 1  & 1  & 19\\\\\n",
       "\t 5  & 0  & 1  &  8\\\\\n",
       "\t 5  & 1  & 1  & 13\\\\\n",
       "\\end{tabular}\n"
      ],
      "text/markdown": [
       "\n",
       "| pairnum | pair_id | zygosity | math |\n",
       "|---|---|---|---|\n",
       "| 1  | 0  | 1  | 13 |\n",
       "| 1  | 1  | 1  | 14 |\n",
       "| 4  | 0  | 1  | 20 |\n",
       "| 4  | 1  | 1  | 19 |\n",
       "| 5  | 0  | 1  |  8 |\n",
       "| 5  | 1  | 1  | 13 |\n",
       "\n"
      ],
      "text/plain": [
       "  pairnum pair_id zygosity math\n",
       "1 1       0       1        13  \n",
       "2 1       1       1        14  \n",
       "3 4       0       1        20  \n",
       "4 4       1       1        19  \n",
       "5 5       0       1         8  \n",
       "6 5       1       1        13  "
      ]
     },
     "metadata": {},
     "output_type": "display_data"
    }
   ],
   "source": [
    "# add a within pair twin identifier\n",
    "twins$pair_id = rep(c(0,1), dim(twins)[1]/2)\n",
    "\n",
    "#keep only relevent vars\n",
    "col_keep = c(\"pairnum\", \"pair_id\", \"zygosity\", \"math\")\n",
    "twins = twins[col_keep]\n",
    "dim(twins)\n",
    "head(twins)"
   ]
  },
  {
   "cell_type": "code",
   "execution_count": 103,
   "metadata": {},
   "outputs": [
    {
     "data": {
      "text/html": [
       "<table>\n",
       "<thead><tr><th></th><th scope=col>pairnum</th><th scope=col>zygosity.0</th><th scope=col>math.0</th><th scope=col>zygosity.1</th><th scope=col>math.1</th><th scope=col>math_diff</th><th scope=col>rowmax</th><th scope=col>rowmin</th></tr></thead>\n",
       "<tbody>\n",
       "\t<tr><th scope=row>1</th><td> 1</td><td>1 </td><td>13</td><td>1 </td><td>14</td><td> 1</td><td>14</td><td>13</td></tr>\n",
       "\t<tr><th scope=row>3</th><td> 4</td><td>1 </td><td>20</td><td>1 </td><td>19</td><td> 1</td><td>20</td><td>19</td></tr>\n",
       "\t<tr><th scope=row>5</th><td> 5</td><td>1 </td><td> 8</td><td>1 </td><td>13</td><td> 5</td><td>13</td><td> 8</td></tr>\n",
       "\t<tr><th scope=row>7</th><td> 7</td><td>2 </td><td>19</td><td>2 </td><td>16</td><td> 3</td><td>19</td><td>16</td></tr>\n",
       "\t<tr><th scope=row>9</th><td>10</td><td>2 </td><td>23</td><td>2 </td><td>13</td><td>10</td><td>23</td><td>13</td></tr>\n",
       "\t<tr><th scope=row>11</th><td>11</td><td>2 </td><td>17</td><td>2 </td><td>18</td><td> 1</td><td>18</td><td>17</td></tr>\n",
       "</tbody>\n",
       "</table>\n"
      ],
      "text/latex": [
       "\\begin{tabular}{r|llllllll}\n",
       "  & pairnum & zygosity.0 & math.0 & zygosity.1 & math.1 & math\\_diff & rowmax & rowmin\\\\\n",
       "\\hline\n",
       "\t1 &  1 & 1  & 13 & 1  & 14 &  1 & 14 & 13\\\\\n",
       "\t3 &  4 & 1  & 20 & 1  & 19 &  1 & 20 & 19\\\\\n",
       "\t5 &  5 & 1  &  8 & 1  & 13 &  5 & 13 &  8\\\\\n",
       "\t7 &  7 & 2  & 19 & 2  & 16 &  3 & 19 & 16\\\\\n",
       "\t9 & 10 & 2  & 23 & 2  & 13 & 10 & 23 & 13\\\\\n",
       "\t11 & 11 & 2  & 17 & 2  & 18 &  1 & 18 & 17\\\\\n",
       "\\end{tabular}\n"
      ],
      "text/markdown": [
       "\n",
       "| <!--/--> | pairnum | zygosity.0 | math.0 | zygosity.1 | math.1 | math_diff | rowmax | rowmin |\n",
       "|---|---|---|---|---|---|---|---|---|\n",
       "| 1 |  1 | 1  | 13 | 1  | 14 |  1 | 14 | 13 |\n",
       "| 3 |  4 | 1  | 20 | 1  | 19 |  1 | 20 | 19 |\n",
       "| 5 |  5 | 1  |  8 | 1  | 13 |  5 | 13 |  8 |\n",
       "| 7 |  7 | 2  | 19 | 2  | 16 |  3 | 19 | 16 |\n",
       "| 9 | 10 | 2  | 23 | 2  | 13 | 10 | 23 | 13 |\n",
       "| 11 | 11 | 2  | 17 | 2  | 18 |  1 | 18 | 17 |\n",
       "\n"
      ],
      "text/plain": [
       "   pairnum zygosity.0 math.0 zygosity.1 math.1 math_diff rowmax rowmin\n",
       "1   1      1          13     1          14      1        14     13    \n",
       "3   4      1          20     1          19      1        20     19    \n",
       "5   5      1           8     1          13      5        13      8    \n",
       "7   7      2          19     2          16      3        19     16    \n",
       "9  10      2          23     2          13     10        23     13    \n",
       "11 11      2          17     2          18      1        18     17    "
      ]
     },
     "metadata": {},
     "output_type": "display_data"
    }
   ],
   "source": [
    "# get difference in math scores between each pair of twins\n",
    "df.wide <- reshape(twins, direction='wide', idvar='pairnum', timevar='pair_id')\n",
    "df.wide$math_diff = abs(df.wide$math.0 - df.wide$math.1)\n",
    "df.wide['rowmax'] = rowmax = ifelse(df.wide$math.0 > df.wide$math.1, df.wide$math.0, df.wide$math.1)\n",
    "df.wide['rowmin'] = rowmax = ifelse(df.wide$math.0 < df.wide$math.1, df.wide$math.0, df.wide$math.1)\n",
    "\n",
    "#transform(df.wide, rowmax = ifelse(math.0 > math.1, math.0, math.1))\n",
    "#transform(df.wide, rowmin = ifelse(math.0 > math.1, math.1, math.0))\n",
    "#dim(df.wide)\n",
    "head(df.wide)\n"
   ]
  },
  {
   "cell_type": "code",
   "execution_count": 104,
   "metadata": {},
   "outputs": [
    {
     "data": {
      "text/plain": [
       "\n",
       "\tPaired t-test\n",
       "\n",
       "data:  df.wide$rowmax and df.wide$rowmin\n",
       "t = 33.429, df = 838, p-value < 2.2e-16\n",
       "alternative hypothesis: true difference in means is not equal to 0\n",
       "95 percent confidence interval:\n",
       " 3.786457 4.258835\n",
       "sample estimates:\n",
       "mean of the differences \n",
       "               4.022646 \n"
      ]
     },
     "metadata": {},
     "output_type": "display_data"
    }
   ],
   "source": [
    "t.test(df.wide$rowmax, df.wide$rowmin, paired= TRUE, alternative=\"two.sided\")"
   ]
  },
  {
   "cell_type": "code",
   "execution_count": 55,
   "metadata": {},
   "outputs": [
    {
     "data": {
      "text/plain": [
       "\n",
       "\tOne Sample t-test\n",
       "\n",
       "data:  df.wide$math_diff\n",
       "t = 33.429, df = 838, p-value < 2.2e-16\n",
       "alternative hypothesis: true mean is not equal to 0\n",
       "95 percent confidence interval:\n",
       " 3.786457 4.258835\n",
       "sample estimates:\n",
       "mean of x \n",
       " 4.022646 \n"
      ]
     },
     "metadata": {},
     "output_type": "display_data"
    }
   ],
   "source": [
    "t.test(df.wide$math_diff, mu=0)"
   ]
  },
  {
   "cell_type": "code",
   "execution_count": 114,
   "metadata": {},
   "outputs": [
    {
     "data": {
      "text/plain": [
       "\n",
       "Call:\n",
       "lm(formula = df.wide$math_diff ~ 1)\n",
       "\n",
       "Residuals:\n",
       "   Min     1Q Median     3Q    Max \n",
       "-4.023 -3.023 -1.023  1.977 17.977 \n",
       "\n",
       "Coefficients:\n",
       "            Estimate Std. Error t value Pr(>|t|)    \n",
       "(Intercept)   4.0226     0.1203   33.43   <2e-16 ***\n",
       "---\n",
       "Signif. codes:  0 ‘***’ 0.001 ‘**’ 0.01 ‘*’ 0.05 ‘.’ 0.1 ‘ ’ 1\n",
       "\n",
       "Residual standard error: 3.485 on 838 degrees of freedom\n"
      ]
     },
     "metadata": {},
     "output_type": "display_data"
    }
   ],
   "source": [
    "diff_model = lm(df.wide$math_diff ~ 1)\n",
    "summary(diff_model)"
   ]
  },
  {
   "cell_type": "markdown",
   "metadata": {},
   "source": [
    "(a) From these data, I calculated the mean difference in math scores within each pair of twins. I used a t-test to test the alternative hypothesis that this mean is different from 0. The t statistic is 33.43 with a p-value of 2.2e-16, so I fail to accept the null hypothesis that the differences in math scores between twins is unrelated."
   ]
  },
  {
   "cell_type": "code",
   "execution_count": 109,
   "metadata": {},
   "outputs": [
    {
     "data": {
      "text/plain": [
       "\n",
       "Call:\n",
       "lm(formula = math_diff ~ zygosity.0, data = df.wide)\n",
       "\n",
       "Residuals:\n",
       "    Min      1Q  Median      3Q     Max \n",
       "-4.9545 -2.4185 -0.9545  1.5815 17.0455 \n",
       "\n",
       "Coefficients:\n",
       "            Estimate Std. Error t value Pr(>|t|)    \n",
       "(Intercept)   1.8824     0.3554   5.297 1.51e-07 ***\n",
       "zygosity.0    1.5361     0.2407   6.382 2.90e-10 ***\n",
       "---\n",
       "Signif. codes:  0 ‘***’ 0.001 ‘**’ 0.01 ‘*’ 0.05 ‘.’ 0.1 ‘ ’ 1\n",
       "\n",
       "Residual standard error: 3.406 on 837 degrees of freedom\n",
       "Multiple R-squared:  0.0464,\tAdjusted R-squared:  0.04526 \n",
       "F-statistic: 40.73 on 1 and 837 DF,  p-value: 2.896e-10\n"
      ]
     },
     "metadata": {},
     "output_type": "display_data"
    }
   ],
   "source": [
    "#use linear model to determine if zygosity affects relationship\n",
    "#same linear model as above, but with zygosity as a predictor\n",
    "diff_model_zyg = lm(math_diff ~ zygosity.0, df.wide)\n",
    "summary(diff_model_zyg)"
   ]
  },
  {
   "cell_type": "code",
   "execution_count": 110,
   "metadata": {},
   "outputs": [
    {
     "data": {
      "image/png": "[encoded data removed]",
      "text/plain": [
       "plot without title"
      ]
     },
     "metadata": {},
     "output_type": "display_data"
    }
   ],
   "source": [
    "boxplot(math_diff ~ zygosity.0, df.wide)"
   ]
  },
  {
   "cell_type": "markdown",
   "metadata": {},
   "source": [
    "(b) When I enter zygosity into the linear model, the beta for the intercept goes from 4.0 to 1.9, but for zygosity itself, the beta is 1.5 with a p-value of 2.9e-10, so it is highly significant. At the same time the adjusted R2 for this model is 0.045, so even though zygosity does significantly affect the difference in math scores, it explains very little variance in these scores between pairs of twins. This corresponds to the discrepancy seen in a boxplot of the differences between twins when stratified by zygosity. Therefore I fail to accept the null hypothesis that zygosity does not affect the relationship between twins and math scores."
   ]
  },
  {
   "cell_type": "markdown",
   "metadata": {},
   "source": [
    "##### (2) I have an old database of bank salaries. Are women paid significantly less at the beginning (salbeg)? Please only consider education level (edlevel) and age as confounding variables. (data in bank_salaries.csv)\n",
    "\n",
    "(coding: sex, 0 = male, edlevel -- # years (so 12 = High school diploma, etc.)"
   ]
  },
  {
   "cell_type": "code",
   "execution_count": 4,
   "metadata": {},
   "outputs": [
    {
     "data": {
      "text/html": [
       "<table>\n",
       "<thead><tr><th scope=col>id</th><th scope=col>salbeg</th><th scope=col>sex</th><th scope=col>time</th><th scope=col>age</th><th scope=col>edlevel</th><th scope=col>work</th><th scope=col>minority</th></tr></thead>\n",
       "<tbody>\n",
       "\t<tr><td>628  </td><td> 8400</td><td>0    </td><td>81   </td><td>28.50</td><td>16   </td><td> 0.25</td><td>0    </td></tr>\n",
       "\t<tr><td>630  </td><td>24000</td><td>0    </td><td>73   </td><td>40.33</td><td>16   </td><td>12.50</td><td>0    </td></tr>\n",
       "\t<tr><td>632  </td><td>10200</td><td>0    </td><td>83   </td><td>31.08</td><td>15   </td><td> 4.08</td><td>0    </td></tr>\n",
       "\t<tr><td>633  </td><td> 8700</td><td>0    </td><td>93   </td><td>31.17</td><td>16   </td><td> 1.83</td><td>0    </td></tr>\n",
       "\t<tr><td>635  </td><td>17400</td><td>0    </td><td>83   </td><td>41.92</td><td>19   </td><td>13.00</td><td>0    </td></tr>\n",
       "\t<tr><td>637  </td><td>12996</td><td>0    </td><td>80   </td><td>29.50</td><td>18   </td><td> 2.42</td><td>0    </td></tr>\n",
       "</tbody>\n",
       "</table>\n"
      ],
      "text/latex": [
       "\\begin{tabular}{r|llllllll}\n",
       " id & salbeg & sex & time & age & edlevel & work & minority\\\\\n",
       "\\hline\n",
       "\t 628   &  8400 & 0     & 81    & 28.50 & 16    &  0.25 & 0    \\\\\n",
       "\t 630   & 24000 & 0     & 73    & 40.33 & 16    & 12.50 & 0    \\\\\n",
       "\t 632   & 10200 & 0     & 83    & 31.08 & 15    &  4.08 & 0    \\\\\n",
       "\t 633   &  8700 & 0     & 93    & 31.17 & 16    &  1.83 & 0    \\\\\n",
       "\t 635   & 17400 & 0     & 83    & 41.92 & 19    & 13.00 & 0    \\\\\n",
       "\t 637   & 12996 & 0     & 80    & 29.50 & 18    &  2.42 & 0    \\\\\n",
       "\\end{tabular}\n"
      ],
      "text/markdown": [
       "\n",
       "| id | salbeg | sex | time | age | edlevel | work | minority |\n",
       "|---|---|---|---|---|---|---|---|\n",
       "| 628   |  8400 | 0     | 81    | 28.50 | 16    |  0.25 | 0     |\n",
       "| 630   | 24000 | 0     | 73    | 40.33 | 16    | 12.50 | 0     |\n",
       "| 632   | 10200 | 0     | 83    | 31.08 | 15    |  4.08 | 0     |\n",
       "| 633   |  8700 | 0     | 93    | 31.17 | 16    |  1.83 | 0     |\n",
       "| 635   | 17400 | 0     | 83    | 41.92 | 19    | 13.00 | 0     |\n",
       "| 637   | 12996 | 0     | 80    | 29.50 | 18    |  2.42 | 0     |\n",
       "\n"
      ],
      "text/plain": [
       "  id  salbeg sex time age   edlevel work  minority\n",
       "1 628  8400  0   81   28.50 16       0.25 0       \n",
       "2 630 24000  0   73   40.33 16      12.50 0       \n",
       "3 632 10200  0   83   31.08 15       4.08 0       \n",
       "4 633  8700  0   93   31.17 16       1.83 0       \n",
       "5 635 17400  0   83   41.92 19      13.00 0       \n",
       "6 637 12996  0   80   29.50 18       2.42 0       "
      ]
     },
     "metadata": {},
     "output_type": "display_data"
    }
   ],
   "source": [
    "bank = read.csv(file.path(datadir,'bank_salaries.csv'))\n",
    "head(bank)"
   ]
  },
  {
   "cell_type": "code",
   "execution_count": 7,
   "metadata": {},
   "outputs": [
    {
     "data": {
      "image/png": "[encoded data removed]",
      "text/plain": [
       "plot without title"
      ]
     },
     "metadata": {},
     "output_type": "display_data"
    }
   ],
   "source": [
    "# plot salbeg by sex\n",
    "boxplot(salbeg ~ sex, notch=TRUE, bank)"
   ]
  },
  {
   "cell_type": "markdown",
   "metadata": {},
   "source": [
    "From the boxplot, it looks like there is strong evidence that the median starting salary for men and women is different. "
   ]
  },
  {
   "cell_type": "code",
   "execution_count": 10,
   "metadata": {},
   "outputs": [
    {
     "data": {
      "text/plain": [
       "\n",
       "\tWelch Two Sample t-test\n",
       "\n",
       "data:  salbeg by sex\n",
       "t = 11.987, df = 318.82, p-value < 2.2e-16\n",
       "alternative hypothesis: true difference in means is not equal to 0\n",
       "95 percent confidence interval:\n",
       " 2410.475 3357.067\n",
       "sample estimates:\n",
       "mean in group 0 mean in group 1 \n",
       "       8120.558        5236.787 \n"
      ]
     },
     "metadata": {},
     "output_type": "display_data"
    }
   ],
   "source": [
    "#t-test of the 2 means (men and women), not controlling for edlevel and age\n",
    "t.test(salbeg ~ sex, bank)\n"
   ]
  },
  {
   "cell_type": "markdown",
   "metadata": {},
   "source": [
    "The t-test of the difference in means of beginning salary for men and women suggests that these means are statistically different with p = 2.2e-16."
   ]
  },
  {
   "cell_type": "code",
   "execution_count": 11,
   "metadata": {},
   "outputs": [
    {
     "data": {
      "text/plain": [
       "\n",
       "Call:\n",
       "lm(formula = salbeg ~ age + edlevel + sex + int_sex_edlevel + \n",
       "    int_sex_age, data = bank)\n",
       "\n",
       "Residuals:\n",
       "    Min      1Q  Median      3Q     Max \n",
       "-5292.4 -1170.6  -244.0   803.4 18602.3 \n",
       "\n",
       "Coefficients:\n",
       "                Estimate Std. Error t value Pr(>|t|)    \n",
       "(Intercept)     -2712.48     734.48  -3.693 0.000248 ***\n",
       "age                57.31       9.10   6.298 6.95e-10 ***\n",
       "edlevel           588.49      38.77  15.180  < 2e-16 ***\n",
       "sex             -1845.07     211.21  -8.736  < 2e-16 ***\n",
       "int_sex_edlevel  -892.25     114.23  -7.811 3.77e-14 ***\n",
       "int_sex_age      -543.21     104.30  -5.208 2.86e-07 ***\n",
       "---\n",
       "Signif. codes:  0 ‘***’ 0.001 ‘**’ 0.01 ‘*’ 0.05 ‘.’ 0.1 ‘ ’ 1\n",
       "\n",
       "Residual standard error: 2110 on 468 degrees of freedom\n",
       "Multiple R-squared:  0.5554,\tAdjusted R-squared:  0.5507 \n",
       "F-statistic: 116.9 on 5 and 468 DF,  p-value: < 2.2e-16\n"
      ]
     },
     "metadata": {},
     "output_type": "display_data"
    }
   ],
   "source": [
    "# first create interaction terms\n",
    "int_sex_edlevel = scale(bank$sex) * scale(bank$edlevel)\n",
    "int_sex_age = scale(bank$sex) * scale(bank$age)\n",
    "\n",
    "# create linear model and control for sex\n",
    "lm_salbeg = lm(salbeg ~ age + edlevel + sex + int_sex_edlevel + int_sex_age, bank)\n",
    "summary(lm_salbeg)"
   ]
  },
  {
   "cell_type": "markdown",
   "metadata": {},
   "source": [
    "This model shows that both interaction terms, sex with education level and sex with age, are highly significant. It therefore appears that sex is a moderator of beginning salary. In other words, women are paid significantly less than men at the beginning than men in this data set, when considering age and education level as confounders."
   ]
  }
 ],
 "metadata": {
  "kernelspec": {
   "display_name": "R",
   "language": "R",
   "name": "ir"
  },
  "language_info": {
   "codemirror_mode": "r",
   "file_extension": ".r",
   "mimetype": "text/x-r-source",
   "name": "R",
   "pygments_lexer": "r",
   "version": "3.6.1"
  }
 },
 "nbformat": 4,
 "nbformat_minor": 4
}
