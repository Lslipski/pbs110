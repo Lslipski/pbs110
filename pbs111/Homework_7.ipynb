{
 "cells": [
  {
   "cell_type": "markdown",
   "metadata": {},
   "source": [
    "# Homework 7"
   ]
  },
  {
   "cell_type": "code",
   "execution_count": 140,
   "metadata": {},
   "outputs": [],
   "source": [
    "library(tidyverse)\n",
    "library(caret)\n",
    "library(MASS)\n",
    "library(dplyr)\n",
    "library(pROC)\n",
    "library(psych)\n",
    "library(viridis)\n"
   ]
  },
  {
   "cell_type": "markdown",
   "metadata": {},
   "source": [
    "February 22, 2021"
   ]
  },
  {
   "cell_type": "markdown",
   "metadata": {},
   "source": [
    "#### 1. I want you to develop a screen to test for alcohol abuse in patients with severe mental illness.  The enclosed file has a small subset of the possible predictor variables.  The last column is the gold standard.  1 = no abuse, 2 = abuse.  Will discuss the variables a bit on Monday.  Carry out an LDA and a logistic regression to classify the patients.  Use a training and a test sample.  Also compute AOC and graph the ROC.  Data are in “alc_for_class_clean”. "
   ]
  },
  {
   "cell_type": "markdown",
   "metadata": {},
   "source": [
    "educat   # years schooling <br>\n",
    "race     1 = asian, 2 = black, 3 = caucasion, 4 = hispanic<br>\n",
    "gender  1 = male, 2 = female<br>\n",
    "marystat   1 = single (never), 2 = married, 3 = widowed, 5 = legally separated, 6 = sig other, 8 = other<br>\n",
    "mmstotal  cognitive competency test  <24 is considered not competent<br>\n",
    "mmsbin.   Coded into not comp/comp<br>\n",
    "e1a     # drinks to pass out — 0 = don’t drink, 2 = every other answer<br>\n",
    "e1_rev   # drinks to pass out — 0 = don’t drink, 1 <= 5, 2 > 5<br>\n",
    "e6a    # drinks to get high<br>\n",
    "f1a   # months since last abstinence from alcohol.  0 = never drink,  1 = everything else<br>\n",
    "fib   Same but how many months of abstinence,  sane scale<br>\n",
    "g10bin  any days >9 drinks.  0 = no, 1 = yes<br>\n",
    "g16bin.   Any drinks when first awake.  Same scale<br>\n",
    "sciddiag.   Type of mental illness<br>\n",
    "\n",
    "1 = schizophrenia\n",
    "\n",
    "2 = schizoaffective\n",
    "\n",
    "3 = bipolar\n",
    "\n",
    "4 = depression\n",
    "\n",
    "5 = psychosis\n",
    "\n",
    "6 = other\n",
    "\n",
    "9 = missing"
   ]
  },
  {
   "cell_type": "code",
   "execution_count": 2,
   "metadata": {},
   "outputs": [
    {
     "data": {
      "text/html": [
       "<ol class=list-inline>\n",
       "\t<li>219</li>\n",
       "\t<li>16</li>\n",
       "</ol>\n"
      ],
      "text/latex": [
       "\\begin{enumerate*}\n",
       "\\item 219\n",
       "\\item 16\n",
       "\\end{enumerate*}\n"
      ],
      "text/markdown": [
       "1. 219\n",
       "2. 16\n",
       "\n",
       "\n"
      ],
      "text/plain": [
       "[1] 219  16"
      ]
     },
     "metadata": {},
     "output_type": "display_data"
    },
    {
     "data": {
      "text/html": [
       "<table>\n",
       "<thead><tr><th scope=col>educat</th><th scope=col>race</th><th scope=col>gender</th><th scope=col>marystat</th><th scope=col>mmstotal</th><th scope=col>e1a</th><th scope=col>e6a</th><th scope=col>f1a_rev</th><th scope=col>f1b_rev</th><th scope=col>age</th><th scope=col>g10bin</th><th scope=col>sciddiag</th><th scope=col>g16abin</th><th scope=col>e1_rev</th><th scope=col>mmsbin</th><th scope=col>alcabuse</th></tr></thead>\n",
       "<tbody>\n",
       "\t<tr><td> 7</td><td>3 </td><td>2 </td><td>5 </td><td>22</td><td>0 </td><td>0 </td><td>1 </td><td>0 </td><td>66</td><td>0 </td><td>6 </td><td>1 </td><td>1 </td><td>1 </td><td>1 </td></tr>\n",
       "\t<tr><td>10</td><td>3 </td><td>1 </td><td>3 </td><td>28</td><td>2 </td><td>2 </td><td>1 </td><td>0 </td><td>51</td><td>0 </td><td>6 </td><td>2 </td><td>2 </td><td>2 </td><td>1 </td></tr>\n",
       "\t<tr><td>11</td><td>3 </td><td>2 </td><td>5 </td><td> 0</td><td>2 </td><td>0 </td><td>0 </td><td>0 </td><td>49</td><td>0 </td><td>6 </td><td>1 </td><td>2 </td><td>1 </td><td>1 </td></tr>\n",
       "\t<tr><td> 8</td><td>3 </td><td>2 </td><td>8 </td><td>25</td><td>2 </td><td>0 </td><td>1 </td><td>0 </td><td>63</td><td>0 </td><td>6 </td><td>1 </td><td>2 </td><td>2 </td><td>1 </td></tr>\n",
       "\t<tr><td>16</td><td>3 </td><td>2 </td><td>5 </td><td>13</td><td>0 </td><td>0 </td><td>1 </td><td>0 </td><td>64</td><td>0 </td><td>2 </td><td>1 </td><td>1 </td><td>1 </td><td>1 </td></tr>\n",
       "\t<tr><td>18</td><td>3 </td><td>2 </td><td>5 </td><td>23</td><td>0 </td><td>0 </td><td>0 </td><td>0 </td><td>50</td><td>0 </td><td>6 </td><td>1 </td><td>1 </td><td>1 </td><td>1 </td></tr>\n",
       "</tbody>\n",
       "</table>\n"
      ],
      "text/latex": [
       "\\begin{tabular}{r|llllllllllllllll}\n",
       " educat & race & gender & marystat & mmstotal & e1a & e6a & f1a\\_rev & f1b\\_rev & age & g10bin & sciddiag & g16abin & e1\\_rev & mmsbin & alcabuse\\\\\n",
       "\\hline\n",
       "\t  7 & 3  & 2  & 5  & 22 & 0  & 0  & 1  & 0  & 66 & 0  & 6  & 1  & 1  & 1  & 1 \\\\\n",
       "\t 10 & 3  & 1  & 3  & 28 & 2  & 2  & 1  & 0  & 51 & 0  & 6  & 2  & 2  & 2  & 1 \\\\\n",
       "\t 11 & 3  & 2  & 5  &  0 & 2  & 0  & 0  & 0  & 49 & 0  & 6  & 1  & 2  & 1  & 1 \\\\\n",
       "\t  8 & 3  & 2  & 8  & 25 & 2  & 0  & 1  & 0  & 63 & 0  & 6  & 1  & 2  & 2  & 1 \\\\\n",
       "\t 16 & 3  & 2  & 5  & 13 & 0  & 0  & 1  & 0  & 64 & 0  & 2  & 1  & 1  & 1  & 1 \\\\\n",
       "\t 18 & 3  & 2  & 5  & 23 & 0  & 0  & 0  & 0  & 50 & 0  & 6  & 1  & 1  & 1  & 1 \\\\\n",
       "\\end{tabular}\n"
      ],
      "text/markdown": [
       "\n",
       "| educat | race | gender | marystat | mmstotal | e1a | e6a | f1a_rev | f1b_rev | age | g10bin | sciddiag | g16abin | e1_rev | mmsbin | alcabuse |\n",
       "|---|---|---|---|---|---|---|---|---|---|---|---|---|---|---|---|\n",
       "|  7 | 3  | 2  | 5  | 22 | 0  | 0  | 1  | 0  | 66 | 0  | 6  | 1  | 1  | 1  | 1  |\n",
       "| 10 | 3  | 1  | 3  | 28 | 2  | 2  | 1  | 0  | 51 | 0  | 6  | 2  | 2  | 2  | 1  |\n",
       "| 11 | 3  | 2  | 5  |  0 | 2  | 0  | 0  | 0  | 49 | 0  | 6  | 1  | 2  | 1  | 1  |\n",
       "|  8 | 3  | 2  | 8  | 25 | 2  | 0  | 1  | 0  | 63 | 0  | 6  | 1  | 2  | 2  | 1  |\n",
       "| 16 | 3  | 2  | 5  | 13 | 0  | 0  | 1  | 0  | 64 | 0  | 2  | 1  | 1  | 1  | 1  |\n",
       "| 18 | 3  | 2  | 5  | 23 | 0  | 0  | 0  | 0  | 50 | 0  | 6  | 1  | 1  | 1  | 1  |\n",
       "\n"
      ],
      "text/plain": [
       "  educat race gender marystat mmstotal e1a e6a f1a_rev f1b_rev age g10bin\n",
       "1  7     3    2      5        22       0   0   1       0       66  0     \n",
       "2 10     3    1      3        28       2   2   1       0       51  0     \n",
       "3 11     3    2      5         0       2   0   0       0       49  0     \n",
       "4  8     3    2      8        25       2   0   1       0       63  0     \n",
       "5 16     3    2      5        13       0   0   1       0       64  0     \n",
       "6 18     3    2      5        23       0   0   0       0       50  0     \n",
       "  sciddiag g16abin e1_rev mmsbin alcabuse\n",
       "1 6        1       1      1      1       \n",
       "2 6        2       2      2      1       \n",
       "3 6        1       2      1      1       \n",
       "4 6        1       2      2      1       \n",
       "5 2        1       1      1      1       \n",
       "6 6        1       1      1      1       "
      ]
     },
     "metadata": {},
     "output_type": "display_data"
    }
   ],
   "source": [
    "# load data\n",
    "alc = read.csv('data_files//alc_for_class_clean.csv')\n",
    "dim(alc)\n",
    "head(alc)"
   ]
  },
  {
   "cell_type": "code",
   "execution_count": 3,
   "metadata": {},
   "outputs": [],
   "source": [
    "# change 1 and 2 to 0 and 1\n",
    "alc = alc %>%\n",
    "      mutate(alcabuse = ifelse(alcabuse == 1,0,1))"
   ]
  },
  {
   "cell_type": "code",
   "execution_count": 4,
   "metadata": {},
   "outputs": [],
   "source": [
    "# Split the data into training and test set (50% each)\n",
    "set.seed(123)\n",
    "training.samples = alc$alcabuse %>% \n",
    "  createDataPartition(p = 0.5, list = FALSE)\n",
    "train.data  = alc[training.samples, ]\n",
    "test.data = alc[-training.samples, ]"
   ]
  },
  {
   "cell_type": "code",
   "execution_count": 5,
   "metadata": {},
   "outputs": [
    {
     "data": {
      "text/html": [
       "42"
      ],
      "text/latex": [
       "42"
      ],
      "text/markdown": [
       "42"
      ],
      "text/plain": [
       "[1] 42"
      ]
     },
     "metadata": {},
     "output_type": "display_data"
    },
    {
     "data": {
      "text/html": [
       "43"
      ],
      "text/latex": [
       "43"
      ],
      "text/markdown": [
       "43"
      ],
      "text/plain": [
       "[1] 43"
      ]
     },
     "metadata": {},
     "output_type": "display_data"
    }
   ],
   "source": [
    "sum(train.data$alcabuse)\n",
    "sum(test.data$alcabuse)"
   ]
  },
  {
   "cell_type": "code",
   "execution_count": 6,
   "metadata": {},
   "outputs": [
    {
     "data": {
      "text/html": [
       "<ol class=list-inline>\n",
       "\t<li>110</li>\n",
       "\t<li>16</li>\n",
       "</ol>\n"
      ],
      "text/latex": [
       "\\begin{enumerate*}\n",
       "\\item 110\n",
       "\\item 16\n",
       "\\end{enumerate*}\n"
      ],
      "text/markdown": [
       "1. 110\n",
       "2. 16\n",
       "\n",
       "\n"
      ],
      "text/plain": [
       "[1] 110  16"
      ]
     },
     "metadata": {},
     "output_type": "display_data"
    },
    {
     "data": {
      "text/html": [
       "<ol class=list-inline>\n",
       "\t<li>105</li>\n",
       "\t<li>16</li>\n",
       "</ol>\n"
      ],
      "text/latex": [
       "\\begin{enumerate*}\n",
       "\\item 105\n",
       "\\item 16\n",
       "\\end{enumerate*}\n"
      ],
      "text/markdown": [
       "1. 105\n",
       "2. 16\n",
       "\n",
       "\n"
      ],
      "text/plain": [
       "[1] 105  16"
      ]
     },
     "metadata": {},
     "output_type": "display_data"
    },
    {
     "data": {
      "text/html": [
       "<ol class=list-inline>\n",
       "\t<li>109</li>\n",
       "\t<li>16</li>\n",
       "</ol>\n"
      ],
      "text/latex": [
       "\\begin{enumerate*}\n",
       "\\item 109\n",
       "\\item 16\n",
       "\\end{enumerate*}\n"
      ],
      "text/markdown": [
       "1. 109\n",
       "2. 16\n",
       "\n",
       "\n"
      ],
      "text/plain": [
       "[1] 109  16"
      ]
     },
     "metadata": {},
     "output_type": "display_data"
    },
    {
     "data": {
      "text/html": [
       "<ol class=list-inline>\n",
       "\t<li>107</li>\n",
       "\t<li>16</li>\n",
       "</ol>\n"
      ],
      "text/latex": [
       "\\begin{enumerate*}\n",
       "\\item 107\n",
       "\\item 16\n",
       "\\end{enumerate*}\n"
      ],
      "text/markdown": [
       "1. 107\n",
       "2. 16\n",
       "\n",
       "\n"
      ],
      "text/plain": [
       "[1] 107  16"
      ]
     },
     "metadata": {},
     "output_type": "display_data"
    }
   ],
   "source": [
    "# make sure it worked\n",
    "dim(train.data)\n",
    "dim(na.omit(train.data))\n",
    "dim(test.data)\n",
    "dim(na.omit(test.data))"
   ]
  },
  {
   "cell_type": "code",
   "execution_count": 7,
   "metadata": {},
   "outputs": [
    {
     "data": {
      "text/html": [
       "<table>\n",
       "<thead><tr><th></th><th scope=col>educat</th><th scope=col>race</th><th scope=col>gender</th><th scope=col>marystat</th><th scope=col>mmstotal</th><th scope=col>e1a</th><th scope=col>e6a</th><th scope=col>f1a_rev</th><th scope=col>f1b_rev</th><th scope=col>age</th><th scope=col>g10bin</th><th scope=col>sciddiag</th><th scope=col>g16abin</th><th scope=col>e1_rev</th><th scope=col>mmsbin</th><th scope=col>alcabuse</th></tr></thead>\n",
       "<tbody>\n",
       "\t<tr><th scope=row>4</th><td> 8</td><td>3 </td><td>2 </td><td>8 </td><td>25</td><td>2 </td><td>0 </td><td>1 </td><td>0 </td><td>63</td><td>0 </td><td>6 </td><td>1 </td><td>2 </td><td>2 </td><td>0 </td></tr>\n",
       "\t<tr><th scope=row>6</th><td>18</td><td>3 </td><td>2 </td><td>5 </td><td>23</td><td>0 </td><td>0 </td><td>0 </td><td>0 </td><td>50</td><td>0 </td><td>6 </td><td>1 </td><td>1 </td><td>1 </td><td>0 </td></tr>\n",
       "\t<tr><th scope=row>7</th><td>11</td><td>3 </td><td>2 </td><td>1 </td><td>20</td><td>0 </td><td>0 </td><td>1 </td><td>0 </td><td>67</td><td>0 </td><td>2 </td><td>2 </td><td>1 </td><td>1 </td><td>0 </td></tr>\n",
       "\t<tr><th scope=row>13</th><td> 8</td><td>3 </td><td>1 </td><td>5 </td><td>17</td><td>2 </td><td>2 </td><td>1 </td><td>1 </td><td>36</td><td>1 </td><td>2 </td><td>2 </td><td>2 </td><td>1 </td><td>0 </td></tr>\n",
       "\t<tr><th scope=row>14</th><td>16</td><td>3 </td><td>1 </td><td>5 </td><td>29</td><td>0 </td><td>0 </td><td>1 </td><td>1 </td><td>47</td><td>0 </td><td>1 </td><td>1 </td><td>2 </td><td>2 </td><td>0 </td></tr>\n",
       "\t<tr><th scope=row>17</th><td>12</td><td>3 </td><td>2 </td><td>3 </td><td> 0</td><td>0 </td><td>0 </td><td>0 </td><td>0 </td><td>53</td><td>0 </td><td>9 </td><td>1 </td><td>1 </td><td>1 </td><td>0 </td></tr>\n",
       "</tbody>\n",
       "</table>\n"
      ],
      "text/latex": [
       "\\begin{tabular}{r|llllllllllllllll}\n",
       "  & educat & race & gender & marystat & mmstotal & e1a & e6a & f1a\\_rev & f1b\\_rev & age & g10bin & sciddiag & g16abin & e1\\_rev & mmsbin & alcabuse\\\\\n",
       "\\hline\n",
       "\t4 &  8 & 3  & 2  & 8  & 25 & 2  & 0  & 1  & 0  & 63 & 0  & 6  & 1  & 2  & 2  & 0 \\\\\n",
       "\t6 & 18 & 3  & 2  & 5  & 23 & 0  & 0  & 0  & 0  & 50 & 0  & 6  & 1  & 1  & 1  & 0 \\\\\n",
       "\t7 & 11 & 3  & 2  & 1  & 20 & 0  & 0  & 1  & 0  & 67 & 0  & 2  & 2  & 1  & 1  & 0 \\\\\n",
       "\t13 &  8 & 3  & 1  & 5  & 17 & 2  & 2  & 1  & 1  & 36 & 1  & 2  & 2  & 2  & 1  & 0 \\\\\n",
       "\t14 & 16 & 3  & 1  & 5  & 29 & 0  & 0  & 1  & 1  & 47 & 0  & 1  & 1  & 2  & 2  & 0 \\\\\n",
       "\t17 & 12 & 3  & 2  & 3  &  0 & 0  & 0  & 0  & 0  & 53 & 0  & 9  & 1  & 1  & 1  & 0 \\\\\n",
       "\\end{tabular}\n"
      ],
      "text/markdown": [
       "\n",
       "| <!--/--> | educat | race | gender | marystat | mmstotal | e1a | e6a | f1a_rev | f1b_rev | age | g10bin | sciddiag | g16abin | e1_rev | mmsbin | alcabuse |\n",
       "|---|---|---|---|---|---|---|---|---|---|---|---|---|---|---|---|---|\n",
       "| 4 |  8 | 3  | 2  | 8  | 25 | 2  | 0  | 1  | 0  | 63 | 0  | 6  | 1  | 2  | 2  | 0  |\n",
       "| 6 | 18 | 3  | 2  | 5  | 23 | 0  | 0  | 0  | 0  | 50 | 0  | 6  | 1  | 1  | 1  | 0  |\n",
       "| 7 | 11 | 3  | 2  | 1  | 20 | 0  | 0  | 1  | 0  | 67 | 0  | 2  | 2  | 1  | 1  | 0  |\n",
       "| 13 |  8 | 3  | 1  | 5  | 17 | 2  | 2  | 1  | 1  | 36 | 1  | 2  | 2  | 2  | 1  | 0  |\n",
       "| 14 | 16 | 3  | 1  | 5  | 29 | 0  | 0  | 1  | 1  | 47 | 0  | 1  | 1  | 2  | 2  | 0  |\n",
       "| 17 | 12 | 3  | 2  | 3  |  0 | 0  | 0  | 0  | 0  | 53 | 0  | 9  | 1  | 1  | 1  | 0  |\n",
       "\n"
      ],
      "text/plain": [
       "   educat race gender marystat mmstotal e1a e6a f1a_rev f1b_rev age g10bin\n",
       "4   8     3    2      8        25       2   0   1       0       63  0     \n",
       "6  18     3    2      5        23       0   0   0       0       50  0     \n",
       "7  11     3    2      1        20       0   0   1       0       67  0     \n",
       "13  8     3    1      5        17       2   2   1       1       36  1     \n",
       "14 16     3    1      5        29       0   0   1       1       47  0     \n",
       "17 12     3    2      3         0       0   0   0       0       53  0     \n",
       "   sciddiag g16abin e1_rev mmsbin alcabuse\n",
       "4  6        1       2      2      0       \n",
       "6  6        1       1      1      0       \n",
       "7  2        2       1      1      0       \n",
       "13 2        2       2      1      0       \n",
       "14 1        1       2      2      0       \n",
       "17 9        1       1      1      0       "
      ]
     },
     "metadata": {},
     "output_type": "display_data"
    },
    {
     "data": {
      "text/html": [
       "<table>\n",
       "<thead><tr><th></th><th scope=col>educat</th><th scope=col>race</th><th scope=col>gender</th><th scope=col>marystat</th><th scope=col>mmstotal</th><th scope=col>e1a</th><th scope=col>e6a</th><th scope=col>f1a_rev</th><th scope=col>f1b_rev</th><th scope=col>age</th><th scope=col>g10bin</th><th scope=col>sciddiag</th><th scope=col>g16abin</th><th scope=col>e1_rev</th><th scope=col>mmsbin</th><th scope=col>alcabuse</th></tr></thead>\n",
       "<tbody>\n",
       "\t<tr><th scope=row>1</th><td> 7</td><td>3 </td><td>2 </td><td>5 </td><td>22</td><td>0 </td><td>0 </td><td>1 </td><td>0 </td><td>66</td><td>0 </td><td>6 </td><td>1 </td><td>1 </td><td>1 </td><td>0 </td></tr>\n",
       "\t<tr><th scope=row>2</th><td>10</td><td>3 </td><td>1 </td><td>3 </td><td>28</td><td>2 </td><td>2 </td><td>1 </td><td>0 </td><td>51</td><td>0 </td><td>6 </td><td>2 </td><td>2 </td><td>2 </td><td>0 </td></tr>\n",
       "\t<tr><th scope=row>3</th><td>11</td><td>3 </td><td>2 </td><td>5 </td><td> 0</td><td>2 </td><td>0 </td><td>0 </td><td>0 </td><td>49</td><td>0 </td><td>6 </td><td>1 </td><td>2 </td><td>1 </td><td>0 </td></tr>\n",
       "\t<tr><th scope=row>5</th><td>16</td><td>3 </td><td>2 </td><td>5 </td><td>13</td><td>0 </td><td>0 </td><td>1 </td><td>0 </td><td>64</td><td>0 </td><td>2 </td><td>1 </td><td>1 </td><td>1 </td><td>0 </td></tr>\n",
       "\t<tr><th scope=row>8</th><td>12</td><td>3 </td><td>2 </td><td>1 </td><td>28</td><td>2 </td><td>2 </td><td>1 </td><td>0 </td><td>53</td><td>0 </td><td>2 </td><td>2 </td><td>2 </td><td>2 </td><td>0 </td></tr>\n",
       "\t<tr><th scope=row>9</th><td>10</td><td>3 </td><td>2 </td><td>3 </td><td>21</td><td>0 </td><td>0 </td><td>0 </td><td>0 </td><td>53</td><td>0 </td><td>3 </td><td>1 </td><td>0 </td><td>1 </td><td>0 </td></tr>\n",
       "</tbody>\n",
       "</table>\n"
      ],
      "text/latex": [
       "\\begin{tabular}{r|llllllllllllllll}\n",
       "  & educat & race & gender & marystat & mmstotal & e1a & e6a & f1a\\_rev & f1b\\_rev & age & g10bin & sciddiag & g16abin & e1\\_rev & mmsbin & alcabuse\\\\\n",
       "\\hline\n",
       "\t1 &  7 & 3  & 2  & 5  & 22 & 0  & 0  & 1  & 0  & 66 & 0  & 6  & 1  & 1  & 1  & 0 \\\\\n",
       "\t2 & 10 & 3  & 1  & 3  & 28 & 2  & 2  & 1  & 0  & 51 & 0  & 6  & 2  & 2  & 2  & 0 \\\\\n",
       "\t3 & 11 & 3  & 2  & 5  &  0 & 2  & 0  & 0  & 0  & 49 & 0  & 6  & 1  & 2  & 1  & 0 \\\\\n",
       "\t5 & 16 & 3  & 2  & 5  & 13 & 0  & 0  & 1  & 0  & 64 & 0  & 2  & 1  & 1  & 1  & 0 \\\\\n",
       "\t8 & 12 & 3  & 2  & 1  & 28 & 2  & 2  & 1  & 0  & 53 & 0  & 2  & 2  & 2  & 2  & 0 \\\\\n",
       "\t9 & 10 & 3  & 2  & 3  & 21 & 0  & 0  & 0  & 0  & 53 & 0  & 3  & 1  & 0  & 1  & 0 \\\\\n",
       "\\end{tabular}\n"
      ],
      "text/markdown": [
       "\n",
       "| <!--/--> | educat | race | gender | marystat | mmstotal | e1a | e6a | f1a_rev | f1b_rev | age | g10bin | sciddiag | g16abin | e1_rev | mmsbin | alcabuse |\n",
       "|---|---|---|---|---|---|---|---|---|---|---|---|---|---|---|---|---|\n",
       "| 1 |  7 | 3  | 2  | 5  | 22 | 0  | 0  | 1  | 0  | 66 | 0  | 6  | 1  | 1  | 1  | 0  |\n",
       "| 2 | 10 | 3  | 1  | 3  | 28 | 2  | 2  | 1  | 0  | 51 | 0  | 6  | 2  | 2  | 2  | 0  |\n",
       "| 3 | 11 | 3  | 2  | 5  |  0 | 2  | 0  | 0  | 0  | 49 | 0  | 6  | 1  | 2  | 1  | 0  |\n",
       "| 5 | 16 | 3  | 2  | 5  | 13 | 0  | 0  | 1  | 0  | 64 | 0  | 2  | 1  | 1  | 1  | 0  |\n",
       "| 8 | 12 | 3  | 2  | 1  | 28 | 2  | 2  | 1  | 0  | 53 | 0  | 2  | 2  | 2  | 2  | 0  |\n",
       "| 9 | 10 | 3  | 2  | 3  | 21 | 0  | 0  | 0  | 0  | 53 | 0  | 3  | 1  | 0  | 1  | 0  |\n",
       "\n"
      ],
      "text/plain": [
       "  educat race gender marystat mmstotal e1a e6a f1a_rev f1b_rev age g10bin\n",
       "1  7     3    2      5        22       0   0   1       0       66  0     \n",
       "2 10     3    1      3        28       2   2   1       0       51  0     \n",
       "3 11     3    2      5         0       2   0   0       0       49  0     \n",
       "5 16     3    2      5        13       0   0   1       0       64  0     \n",
       "8 12     3    2      1        28       2   2   1       0       53  0     \n",
       "9 10     3    2      3        21       0   0   0       0       53  0     \n",
       "  sciddiag g16abin e1_rev mmsbin alcabuse\n",
       "1 6        1       1      1      0       \n",
       "2 6        2       2      2      0       \n",
       "3 6        1       2      1      0       \n",
       "5 2        1       1      1      0       \n",
       "8 2        2       2      2      0       \n",
       "9 3        1       0      1      0       "
      ]
     },
     "metadata": {},
     "output_type": "display_data"
    }
   ],
   "source": [
    "# removing rows with missing data\n",
    "train.data = na.omit(train.data)\n",
    "test.data = na.omit(test.data)\n",
    "head(train.data)\n",
    "head(test.data)"
   ]
  },
  {
   "cell_type": "code",
   "execution_count": 8,
   "metadata": {},
   "outputs": [
    {
     "data": {
      "text/html": [
       "<dl class=dl-horizontal>\n",
       "\t<dt>(Intercept)</dt>\n",
       "\t\t<dd>-4.64147299817637</dd>\n",
       "\t<dt>educat</dt>\n",
       "\t\t<dd>0.00360439263237618</dd>\n",
       "\t<dt>race</dt>\n",
       "\t\t<dd>-2.00804877330249</dd>\n",
       "\t<dt>gender</dt>\n",
       "\t\t<dd>-0.388016304343844</dd>\n",
       "\t<dt>marystat</dt>\n",
       "\t\t<dd>0.0579818316602374</dd>\n",
       "\t<dt>mmstotal</dt>\n",
       "\t\t<dd>-0.0853881045045399</dd>\n",
       "\t<dt>e1a</dt>\n",
       "\t\t<dd>0.192063244959301</dd>\n",
       "\t<dt>e6a</dt>\n",
       "\t\t<dd>0.123515858596913</dd>\n",
       "\t<dt>f1a_rev</dt>\n",
       "\t\t<dd>2.60747227320895</dd>\n",
       "\t<dt>f1b_rev</dt>\n",
       "\t\t<dd>-1.02135249329446</dd>\n",
       "\t<dt>age</dt>\n",
       "\t\t<dd>-0.00166843530968411</dd>\n",
       "\t<dt>g10bin</dt>\n",
       "\t\t<dd>1.66396673271236</dd>\n",
       "\t<dt>sciddiag</dt>\n",
       "\t\t<dd>0.223336904053849</dd>\n",
       "\t<dt>g16abin</dt>\n",
       "\t\t<dd>4.33373614030626</dd>\n",
       "\t<dt>e1_rev</dt>\n",
       "\t\t<dd>1.88914866528687</dd>\n",
       "\t<dt>mmsbin</dt>\n",
       "\t\t<dd>-0.725994794121583</dd>\n",
       "</dl>\n"
      ],
      "text/latex": [
       "\\begin{description*}\n",
       "\\item[(Intercept)] -4.64147299817637\n",
       "\\item[educat] 0.00360439263237618\n",
       "\\item[race] -2.00804877330249\n",
       "\\item[gender] -0.388016304343844\n",
       "\\item[marystat] 0.0579818316602374\n",
       "\\item[mmstotal] -0.0853881045045399\n",
       "\\item[e1a] 0.192063244959301\n",
       "\\item[e6a] 0.123515858596913\n",
       "\\item[f1a\\textbackslash{}\\_rev] 2.60747227320895\n",
       "\\item[f1b\\textbackslash{}\\_rev] -1.02135249329446\n",
       "\\item[age] -0.00166843530968411\n",
       "\\item[g10bin] 1.66396673271236\n",
       "\\item[sciddiag] 0.223336904053849\n",
       "\\item[g16abin] 4.33373614030626\n",
       "\\item[e1\\textbackslash{}\\_rev] 1.88914866528687\n",
       "\\item[mmsbin] -0.725994794121583\n",
       "\\end{description*}\n"
      ],
      "text/markdown": [
       "(Intercept)\n",
       ":   -4.64147299817637educat\n",
       ":   0.00360439263237618race\n",
       ":   -2.00804877330249gender\n",
       ":   -0.388016304343844marystat\n",
       ":   0.0579818316602374mmstotal\n",
       ":   -0.0853881045045399e1a\n",
       ":   0.192063244959301e6a\n",
       ":   0.123515858596913f1a_rev\n",
       ":   2.60747227320895f1b_rev\n",
       ":   -1.02135249329446age\n",
       ":   -0.00166843530968411g10bin\n",
       ":   1.66396673271236sciddiag\n",
       ":   0.223336904053849g16abin\n",
       ":   4.33373614030626e1_rev\n",
       ":   1.88914866528687mmsbin\n",
       ":   -0.725994794121583\n",
       "\n"
      ],
      "text/plain": [
       " (Intercept)       educat         race       gender     marystat     mmstotal \n",
       "-4.641472998  0.003604393 -2.008048773 -0.388016304  0.057981832 -0.085388105 \n",
       "         e1a          e6a      f1a_rev      f1b_rev          age       g10bin \n",
       " 0.192063245  0.123515859  2.607472273 -1.021352493 -0.001668435  1.663966733 \n",
       "    sciddiag      g16abin       e1_rev       mmsbin \n",
       " 0.223336904  4.333736140  1.889148665 -0.725994794 "
      ]
     },
     "metadata": {},
     "output_type": "display_data"
    }
   ],
   "source": [
    "# Fit the full model for comparison\n",
    "full.model <- glm(alcabuse ~., data = train.data, family = binomial)\n",
    "# Summarize the final selected model\n",
    "coef(full.model)"
   ]
  },
  {
   "cell_type": "code",
   "execution_count": 11,
   "metadata": {},
   "outputs": [
    {
     "data": {
      "text/html": [
       "<dl class=dl-horizontal>\n",
       "\t<dt>(Intercept)</dt>\n",
       "\t\t<dd>-11.6874135836057</dd>\n",
       "\t<dt>mmstotal</dt>\n",
       "\t\t<dd>-0.106429473976624</dd>\n",
       "\t<dt>f1a_rev</dt>\n",
       "\t\t<dd>2.58131738788406</dd>\n",
       "\t<dt>g10bin</dt>\n",
       "\t\t<dd>1.53000910978666</dd>\n",
       "\t<dt>sciddiag</dt>\n",
       "\t\t<dd>0.270232310184441</dd>\n",
       "\t<dt>g16abin</dt>\n",
       "\t\t<dd>3.98641006625918</dd>\n",
       "\t<dt>e1_rev</dt>\n",
       "\t\t<dd>2.033525461741</dd>\n",
       "</dl>\n"
      ],
      "text/latex": [
       "\\begin{description*}\n",
       "\\item[(Intercept)] -11.6874135836057\n",
       "\\item[mmstotal] -0.106429473976624\n",
       "\\item[f1a\\textbackslash{}\\_rev] 2.58131738788406\n",
       "\\item[g10bin] 1.53000910978666\n",
       "\\item[sciddiag] 0.270232310184441\n",
       "\\item[g16abin] 3.98641006625918\n",
       "\\item[e1\\textbackslash{}\\_rev] 2.033525461741\n",
       "\\end{description*}\n"
      ],
      "text/markdown": [
       "(Intercept)\n",
       ":   -11.6874135836057mmstotal\n",
       ":   -0.106429473976624f1a_rev\n",
       ":   2.58131738788406g10bin\n",
       ":   1.53000910978666sciddiag\n",
       ":   0.270232310184441g16abin\n",
       ":   3.98641006625918e1_rev\n",
       ":   2.033525461741\n",
       "\n"
      ],
      "text/plain": [
       "(Intercept)    mmstotal     f1a_rev      g10bin    sciddiag     g16abin \n",
       "-11.6874136  -0.1064295   2.5813174   1.5300091   0.2702323   3.9864101 \n",
       "     e1_rev \n",
       "  2.0335255 "
      ]
     },
     "metadata": {},
     "output_type": "display_data"
    }
   ],
   "source": [
    "# now try stepwise logisitic to help with feature selection\n",
    "step.model = full.model %>% stepAIC(trace = FALSE)\n",
    "coef(step.model)"
   ]
  },
  {
   "cell_type": "code",
   "execution_count": 12,
   "metadata": {},
   "outputs": [
    {
     "data": {
      "text/html": [
       "0.289719626168224"
      ],
      "text/latex": [
       "0.289719626168224"
      ],
      "text/markdown": [
       "0.289719626168224"
      ],
      "text/plain": [
       "[1] 0.2897196"
      ]
     },
     "metadata": {},
     "output_type": "display_data"
    }
   ],
   "source": [
    "# test full model on hold out data set\n",
    "#  predictions\n",
    "probabilities <- full.model %>% predict(test.data, type = \"response\")\n",
    "predicted.classes <- ifelse(probabilities > 0.5, 0, 1)\n",
    "# Prediction accuracy\n",
    "observed.classes <- test.data$alcabuse\n",
    "mean(predicted.classes == observed.classes)"
   ]
  },
  {
   "cell_type": "code",
   "execution_count": 13,
   "metadata": {},
   "outputs": [
    {
     "data": {
      "text/html": [
       "0.242990654205607"
      ],
      "text/latex": [
       "0.242990654205607"
      ],
      "text/markdown": [
       "0.242990654205607"
      ],
      "text/plain": [
       "[1] 0.2429907"
      ]
     },
     "metadata": {},
     "output_type": "display_data"
    }
   ],
   "source": [
    "# test stepwise model on hold out data\n",
    "probabilities <- predict(step.model, test.data, type = \"response\")\n",
    "predicted.classes <- ifelse(probabilities > 0.5, 0, 1)\n",
    "# Prediction accuracy\n",
    "observed.classes <- test.data$alcabuse\n",
    "mean(predicted.classes == observed.classes)"
   ]
  },
  {
   "cell_type": "code",
   "execution_count": 22,
   "metadata": {},
   "outputs": [
    {
     "ename": "ERROR",
     "evalue": "Error in UseMethod(\"predict\"): no applicable method for 'predict' applied to an object of class \"c('double', 'numeric')\"\n",
     "output_type": "error",
     "traceback": [
      "Error in UseMethod(\"predict\"): no applicable method for 'predict' applied to an object of class \"c('double', 'numeric')\"\nTraceback:\n",
      "1. predict(fitted(step.model), test.data$alcabuse)"
     ]
    }
   ],
   "source": [
    "# compute AUC and show ROC\n",
    "library(\"pROC\")\n",
    "pred <- prediction(fitted(step.model), test.data$alcabuse)\n",
    "perf <- performance(pred,\"tpr\",\"fpr\")\n",
    "plot(perf, colorize = T)\n"
   ]
  },
  {
   "cell_type": "code",
   "execution_count": 28,
   "metadata": {},
   "outputs": [
    {
     "name": "stderr",
     "output_type": "stream",
     "text": [
      "Setting levels: control = 0, case = 1\n",
      "Setting direction: controls > cases\n"
     ]
    },
    {
     "data": {
      "text/plain": [
       "\n",
       "Call:\n",
       "roc.default(response = test.data$alcabuse, predictor = predicted.classes,     ci = T, plot = T)\n",
       "\n",
       "Data: predicted.classes in 65 controls (test.data$alcabuse 0) > 42 cases (test.data$alcabuse 1).\n",
       "Area under the curve: 0.7621\n",
       "95% CI: 0.6794-0.8448 (DeLong)"
      ]
     },
     "metadata": {},
     "output_type": "display_data"
    },
    {
     "data": {
      "text/html": [
       "<ol class=list-inline>\n",
       "\t<li>0.6793721366289</li>\n",
       "\t<li>0.762087912087912</li>\n",
       "\t<li>0.844803687546924</li>\n",
       "</ol>\n"
      ],
      "text/latex": [
       "\\begin{enumerate*}\n",
       "\\item 0.6793721366289\n",
       "\\item 0.762087912087912\n",
       "\\item 0.844803687546924\n",
       "\\end{enumerate*}\n"
      ],
      "text/markdown": [
       "1. 0.6793721366289\n",
       "2. 0.762087912087912\n",
       "3. 0.844803687546924\n",
       "\n",
       "\n"
      ],
      "text/plain": [
       "95% CI: 0.6794-0.8448 (DeLong)"
      ]
     },
     "metadata": {},
     "output_type": "display_data"
    },
    {
     "data": {
      "image/png": "[encoded data removed]",
      "text/plain": [
       "plot without title"
      ]
     },
     "metadata": {},
     "output_type": "display_data"
    }
   ],
   "source": [
    "roc_lda <-roc(test.data$alcabuse,predicted.classes, ci=T, plot = T)\n",
    "roc_lda\n",
    "ci(roc_lda)"
   ]
  },
  {
   "cell_type": "markdown",
   "metadata": {},
   "source": []
  },
  {
   "cell_type": "markdown",
   "metadata": {},
   "source": [
    "#### I'm enclosing the data for 300+ young people who completed the Resiliency Survey.  It is divided into six subscales listed below.  Does a factor analysis support the division into those six subscales.  I'm also enclosing the actual questions.  They are labeled \"Youth 1 -43\" and there is a break in the middle.  You can use those questions to think about the factor structure.  There is a small bit of missing data which you can take care of."
   ]
  },
  {
   "cell_type": "markdown",
   "metadata": {},
   "source": [
    "Resiliency Survey\n",
    "We are trying to understand the properties of a new survey of resiliency factors in youth. I've attached the data set(resiliency_class.csv).  There are 43 questions and 6 subscales.\n",
    "\n",
    "The subscales are as follows:\n",
    "    Involvement Q1-6\n",
    "    Social skills Q7-12\n",
    "    Family strengths Q13-23\n",
    "    School strengths Q24-29\n",
    "    Social supports Q30-37\n",
    "    Positive Outlooks Q38-43\n",
    "\n",
    "The survey is embedded in a larger survey (Stress and Resources Survey) also attached."
   ]
  },
  {
   "cell_type": "code",
   "execution_count": 37,
   "metadata": {},
   "outputs": [
    {
     "data": {
      "text/html": [
       "<ol class=list-inline>\n",
       "\t<li>350</li>\n",
       "\t<li>50</li>\n",
       "</ol>\n"
      ],
      "text/latex": [
       "\\begin{enumerate*}\n",
       "\\item 350\n",
       "\\item 50\n",
       "\\end{enumerate*}\n"
      ],
      "text/markdown": [
       "1. 350\n",
       "2. 50\n",
       "\n",
       "\n"
      ],
      "text/plain": [
       "[1] 350  50"
      ]
     },
     "metadata": {},
     "output_type": "display_data"
    },
    {
     "data": {
      "text/html": [
       "<ol class=list-inline>\n",
       "\t<li>300</li>\n",
       "\t<li>50</li>\n",
       "</ol>\n"
      ],
      "text/latex": [
       "\\begin{enumerate*}\n",
       "\\item 300\n",
       "\\item 50\n",
       "\\end{enumerate*}\n"
      ],
      "text/markdown": [
       "1. 300\n",
       "2. 50\n",
       "\n",
       "\n"
      ],
      "text/plain": [
       "[1] 300  50"
      ]
     },
     "metadata": {},
     "output_type": "display_data"
    },
    {
     "data": {
      "text/html": [
       "<table>\n",
       "<thead><tr><th></th><th scope=col>YOUTH1</th><th scope=col>YOUTH2</th><th scope=col>YOUTH3</th><th scope=col>YOUTH4</th><th scope=col>YOUTH5</th><th scope=col>YOUTH6</th><th scope=col>YOUTH7</th><th scope=col>YOUTH8</th><th scope=col>YOUTH9</th><th scope=col>YOUTH10</th><th scope=col>...</th><th scope=col>YOUTH41</th><th scope=col>YOUTH42</th><th scope=col>YOUTH43</th><th scope=col>INVOLVEMENT</th><th scope=col>SOCIAL_SKILLS</th><th scope=col>FAMILY_STRENGTH</th><th scope=col>SCHOOL_STRENGTH</th><th scope=col>SOCIAL_SUPPORT</th><th scope=col>POSITIVE_OUTLOOK</th><th scope=col>TOTAL_RESILIENCY</th></tr></thead>\n",
       "<tbody>\n",
       "\t<tr><th scope=row>2</th><td>3  </td><td>5  </td><td>1  </td><td>1  </td><td>1  </td><td>3  </td><td>3  </td><td>3  </td><td>5  </td><td>5  </td><td>...</td><td>2  </td><td>4  </td><td>2  </td><td>14 </td><td>24 </td><td>28 </td><td>10 </td><td>12 </td><td>14 </td><td>102</td></tr>\n",
       "\t<tr><th scope=row>3</th><td>2  </td><td>1  </td><td>5  </td><td>1  </td><td>3  </td><td>1  </td><td>4  </td><td>4  </td><td>4  </td><td>4  </td><td>...</td><td>4  </td><td>4  </td><td>4  </td><td>13 </td><td>21 </td><td>33 </td><td>18 </td><td>26 </td><td>10 </td><td>121</td></tr>\n",
       "\t<tr><th scope=row>4</th><td>4  </td><td>1  </td><td>1  </td><td>1  </td><td>3  </td><td>2  </td><td>4  </td><td>3  </td><td>4  </td><td>5  </td><td>...</td><td>3  </td><td>3  </td><td>3  </td><td>12 </td><td>23 </td><td>33 </td><td>11 </td><td>20 </td><td>13 </td><td>112</td></tr>\n",
       "\t<tr><th scope=row>5</th><td>5  </td><td>2  </td><td>1  </td><td>3  </td><td>3  </td><td>3  </td><td>3  </td><td>5  </td><td>3  </td><td>5  </td><td>...</td><td>3  </td><td>4  </td><td>3  </td><td>17 </td><td>22 </td><td>44 </td><td>17 </td><td>28 </td><td>17 </td><td>145</td></tr>\n",
       "\t<tr><th scope=row>6</th><td>1  </td><td>1  </td><td>1  </td><td>3  </td><td>4  </td><td>3  </td><td>4  </td><td>4  </td><td>4  </td><td>5  </td><td>...</td><td>2  </td><td>4  </td><td>4  </td><td>13 </td><td>24 </td><td>35 </td><td>18 </td><td>26 </td><td>18 </td><td>134</td></tr>\n",
       "\t<tr><th scope=row>7</th><td>4  </td><td>1  </td><td>1  </td><td>1  </td><td>2  </td><td>3  </td><td>4  </td><td>3  </td><td>5  </td><td>5  </td><td>...</td><td>4  </td><td>4  </td><td>4  </td><td>12 </td><td>24 </td><td>43 </td><td>18 </td><td>36 </td><td>19 </td><td>152</td></tr>\n",
       "</tbody>\n",
       "</table>\n"
      ],
      "text/latex": [
       "\\begin{tabular}{r|llllllllllllllllllllllllllllllllllllllllllllllllll}\n",
       "  & YOUTH1 & YOUTH2 & YOUTH3 & YOUTH4 & YOUTH5 & YOUTH6 & YOUTH7 & YOUTH8 & YOUTH9 & YOUTH10 & ... & YOUTH41 & YOUTH42 & YOUTH43 & INVOLVEMENT & SOCIAL\\_SKILLS & FAMILY\\_STRENGTH & SCHOOL\\_STRENGTH & SOCIAL\\_SUPPORT & POSITIVE\\_OUTLOOK & TOTAL\\_RESILIENCY\\\\\n",
       "\\hline\n",
       "\t2 & 3   & 5   & 1   & 1   & 1   & 3   & 3   & 3   & 5   & 5   & ... & 2   & 4   & 2   & 14  & 24  & 28  & 10  & 12  & 14  & 102\\\\\n",
       "\t3 & 2   & 1   & 5   & 1   & 3   & 1   & 4   & 4   & 4   & 4   & ... & 4   & 4   & 4   & 13  & 21  & 33  & 18  & 26  & 10  & 121\\\\\n",
       "\t4 & 4   & 1   & 1   & 1   & 3   & 2   & 4   & 3   & 4   & 5   & ... & 3   & 3   & 3   & 12  & 23  & 33  & 11  & 20  & 13  & 112\\\\\n",
       "\t5 & 5   & 2   & 1   & 3   & 3   & 3   & 3   & 5   & 3   & 5   & ... & 3   & 4   & 3   & 17  & 22  & 44  & 17  & 28  & 17  & 145\\\\\n",
       "\t6 & 1   & 1   & 1   & 3   & 4   & 3   & 4   & 4   & 4   & 5   & ... & 2   & 4   & 4   & 13  & 24  & 35  & 18  & 26  & 18  & 134\\\\\n",
       "\t7 & 4   & 1   & 1   & 1   & 2   & 3   & 4   & 3   & 5   & 5   & ... & 4   & 4   & 4   & 12  & 24  & 43  & 18  & 36  & 19  & 152\\\\\n",
       "\\end{tabular}\n"
      ],
      "text/markdown": [
       "\n",
       "| <!--/--> | YOUTH1 | YOUTH2 | YOUTH3 | YOUTH4 | YOUTH5 | YOUTH6 | YOUTH7 | YOUTH8 | YOUTH9 | YOUTH10 | ... | YOUTH41 | YOUTH42 | YOUTH43 | INVOLVEMENT | SOCIAL_SKILLS | FAMILY_STRENGTH | SCHOOL_STRENGTH | SOCIAL_SUPPORT | POSITIVE_OUTLOOK | TOTAL_RESILIENCY |\n",
       "|---|---|---|---|---|---|---|---|---|---|---|---|---|---|---|---|---|---|---|---|---|---|\n",
       "| 2 | 3   | 5   | 1   | 1   | 1   | 3   | 3   | 3   | 5   | 5   | ... | 2   | 4   | 2   | 14  | 24  | 28  | 10  | 12  | 14  | 102 |\n",
       "| 3 | 2   | 1   | 5   | 1   | 3   | 1   | 4   | 4   | 4   | 4   | ... | 4   | 4   | 4   | 13  | 21  | 33  | 18  | 26  | 10  | 121 |\n",
       "| 4 | 4   | 1   | 1   | 1   | 3   | 2   | 4   | 3   | 4   | 5   | ... | 3   | 3   | 3   | 12  | 23  | 33  | 11  | 20  | 13  | 112 |\n",
       "| 5 | 5   | 2   | 1   | 3   | 3   | 3   | 3   | 5   | 3   | 5   | ... | 3   | 4   | 3   | 17  | 22  | 44  | 17  | 28  | 17  | 145 |\n",
       "| 6 | 1   | 1   | 1   | 3   | 4   | 3   | 4   | 4   | 4   | 5   | ... | 2   | 4   | 4   | 13  | 24  | 35  | 18  | 26  | 18  | 134 |\n",
       "| 7 | 4   | 1   | 1   | 1   | 2   | 3   | 4   | 3   | 5   | 5   | ... | 4   | 4   | 4   | 12  | 24  | 43  | 18  | 36  | 19  | 152 |\n",
       "\n"
      ],
      "text/plain": [
       "  YOUTH1 YOUTH2 YOUTH3 YOUTH4 YOUTH5 YOUTH6 YOUTH7 YOUTH8 YOUTH9 YOUTH10 ...\n",
       "2 3      5      1      1      1      3      3      3      5      5       ...\n",
       "3 2      1      5      1      3      1      4      4      4      4       ...\n",
       "4 4      1      1      1      3      2      4      3      4      5       ...\n",
       "5 5      2      1      3      3      3      3      5      3      5       ...\n",
       "6 1      1      1      3      4      3      4      4      4      5       ...\n",
       "7 4      1      1      1      2      3      4      3      5      5       ...\n",
       "  YOUTH41 YOUTH42 YOUTH43 INVOLVEMENT SOCIAL_SKILLS FAMILY_STRENGTH\n",
       "2 2       4       2       14          24            28             \n",
       "3 4       4       4       13          21            33             \n",
       "4 3       3       3       12          23            33             \n",
       "5 3       4       3       17          22            44             \n",
       "6 2       4       4       13          24            35             \n",
       "7 4       4       4       12          24            43             \n",
       "  SCHOOL_STRENGTH SOCIAL_SUPPORT POSITIVE_OUTLOOK TOTAL_RESILIENCY\n",
       "2 10              12             14               102             \n",
       "3 18              26             10               121             \n",
       "4 11              20             13               112             \n",
       "5 17              28             17               145             \n",
       "6 18              26             18               134             \n",
       "7 18              36             19               152             "
      ]
     },
     "metadata": {},
     "output_type": "display_data"
    }
   ],
   "source": [
    "res = read.csv('data_files//resiliency_class.csv')\n",
    "dim(res)\n",
    "res = na.omit(res)\n",
    "dim(res)\n",
    "head(res)"
   ]
  },
  {
   "cell_type": "code",
   "execution_count": 57,
   "metadata": {},
   "outputs": [
    {
     "data": {
      "text/html": [
       "<ol class=list-inline>\n",
       "\t<li>300</li>\n",
       "\t<li>43</li>\n",
       "</ol>\n"
      ],
      "text/latex": [
       "\\begin{enumerate*}\n",
       "\\item 300\n",
       "\\item 43\n",
       "\\end{enumerate*}\n"
      ],
      "text/markdown": [
       "1. 300\n",
       "2. 43\n",
       "\n",
       "\n"
      ],
      "text/plain": [
       "[1] 300  43"
      ]
     },
     "metadata": {},
     "output_type": "display_data"
    }
   ],
   "source": [
    "# grab data only for cor matrix\n",
    "res.dat = res[,1:43]\n",
    "dim(res.dat)"
   ]
  },
  {
   "cell_type": "code",
   "execution_count": 60,
   "metadata": {},
   "outputs": [
    {
     "data": {
      "text/html": [
       "<dl class=dl-horizontal>\n",
       "\t<dt>YOUTH1</dt>\n",
       "\t\t<dd>5</dd>\n",
       "\t<dt>YOUTH2</dt>\n",
       "\t\t<dd>5</dd>\n",
       "\t<dt>YOUTH3</dt>\n",
       "\t\t<dd>5</dd>\n",
       "\t<dt>YOUTH4</dt>\n",
       "\t\t<dd>5</dd>\n",
       "\t<dt>YOUTH5</dt>\n",
       "\t\t<dd>5</dd>\n",
       "\t<dt>YOUTH6</dt>\n",
       "\t\t<dd>5</dd>\n",
       "\t<dt>YOUTH7</dt>\n",
       "\t\t<dd>5</dd>\n",
       "\t<dt>YOUTH8</dt>\n",
       "\t\t<dd>5</dd>\n",
       "\t<dt>YOUTH9</dt>\n",
       "\t\t<dd>5</dd>\n",
       "\t<dt>YOUTH10</dt>\n",
       "\t\t<dd>5</dd>\n",
       "\t<dt>YOUTH11</dt>\n",
       "\t\t<dd>5</dd>\n",
       "\t<dt>YOUTH12</dt>\n",
       "\t\t<dd>5</dd>\n",
       "\t<dt>YOUTH13</dt>\n",
       "\t\t<dd>4</dd>\n",
       "\t<dt>YOUTH14</dt>\n",
       "\t\t<dd>4</dd>\n",
       "\t<dt>YOUTH15</dt>\n",
       "\t\t<dd>4</dd>\n",
       "\t<dt>YOUTH16</dt>\n",
       "\t\t<dd>4</dd>\n",
       "\t<dt>YOUTH17</dt>\n",
       "\t\t<dd>4</dd>\n",
       "\t<dt>YOUTH18</dt>\n",
       "\t\t<dd>4</dd>\n",
       "\t<dt>YOUTH19</dt>\n",
       "\t\t<dd>4</dd>\n",
       "\t<dt>YOUTH20</dt>\n",
       "\t\t<dd>4</dd>\n",
       "\t<dt>YOUTH21</dt>\n",
       "\t\t<dd>4</dd>\n",
       "\t<dt>YOUTH22</dt>\n",
       "\t\t<dd>4</dd>\n",
       "\t<dt>YOUTH23</dt>\n",
       "\t\t<dd>4</dd>\n",
       "\t<dt>YOUTH24</dt>\n",
       "\t\t<dd>4</dd>\n",
       "\t<dt>YOUTH25</dt>\n",
       "\t\t<dd>4</dd>\n",
       "\t<dt>YOUTH26</dt>\n",
       "\t\t<dd>4</dd>\n",
       "\t<dt>YOUTH27</dt>\n",
       "\t\t<dd>4</dd>\n",
       "\t<dt>YOUTH28</dt>\n",
       "\t\t<dd>4</dd>\n",
       "\t<dt>YOUTH29</dt>\n",
       "\t\t<dd>4</dd>\n",
       "\t<dt>YOUTH30</dt>\n",
       "\t\t<dd>4</dd>\n",
       "\t<dt>YOUTH31</dt>\n",
       "\t\t<dd>4</dd>\n",
       "\t<dt>YOUTH32</dt>\n",
       "\t\t<dd>4</dd>\n",
       "\t<dt>YOUTH33</dt>\n",
       "\t\t<dd>4</dd>\n",
       "\t<dt>YOUTH34</dt>\n",
       "\t\t<dd>4</dd>\n",
       "\t<dt>YOUTH35</dt>\n",
       "\t\t<dd>4</dd>\n",
       "\t<dt>YOUTH36</dt>\n",
       "\t\t<dd>4</dd>\n",
       "\t<dt>YOUTH37</dt>\n",
       "\t\t<dd>4</dd>\n",
       "\t<dt>YOUTH38</dt>\n",
       "\t\t<dd>4</dd>\n",
       "\t<dt>YOUTH39</dt>\n",
       "\t\t<dd>4</dd>\n",
       "\t<dt>YOUTH40</dt>\n",
       "\t\t<dd>4</dd>\n",
       "\t<dt>YOUTH41</dt>\n",
       "\t\t<dd>4</dd>\n",
       "\t<dt>YOUTH42</dt>\n",
       "\t\t<dd>4</dd>\n",
       "\t<dt>YOUTH43</dt>\n",
       "\t\t<dd>4</dd>\n",
       "</dl>\n"
      ],
      "text/latex": [
       "\\begin{description*}\n",
       "\\item[YOUTH1] 5\n",
       "\\item[YOUTH2] 5\n",
       "\\item[YOUTH3] 5\n",
       "\\item[YOUTH4] 5\n",
       "\\item[YOUTH5] 5\n",
       "\\item[YOUTH6] 5\n",
       "\\item[YOUTH7] 5\n",
       "\\item[YOUTH8] 5\n",
       "\\item[YOUTH9] 5\n",
       "\\item[YOUTH10] 5\n",
       "\\item[YOUTH11] 5\n",
       "\\item[YOUTH12] 5\n",
       "\\item[YOUTH13] 4\n",
       "\\item[YOUTH14] 4\n",
       "\\item[YOUTH15] 4\n",
       "\\item[YOUTH16] 4\n",
       "\\item[YOUTH17] 4\n",
       "\\item[YOUTH18] 4\n",
       "\\item[YOUTH19] 4\n",
       "\\item[YOUTH20] 4\n",
       "\\item[YOUTH21] 4\n",
       "\\item[YOUTH22] 4\n",
       "\\item[YOUTH23] 4\n",
       "\\item[YOUTH24] 4\n",
       "\\item[YOUTH25] 4\n",
       "\\item[YOUTH26] 4\n",
       "\\item[YOUTH27] 4\n",
       "\\item[YOUTH28] 4\n",
       "\\item[YOUTH29] 4\n",
       "\\item[YOUTH30] 4\n",
       "\\item[YOUTH31] 4\n",
       "\\item[YOUTH32] 4\n",
       "\\item[YOUTH33] 4\n",
       "\\item[YOUTH34] 4\n",
       "\\item[YOUTH35] 4\n",
       "\\item[YOUTH36] 4\n",
       "\\item[YOUTH37] 4\n",
       "\\item[YOUTH38] 4\n",
       "\\item[YOUTH39] 4\n",
       "\\item[YOUTH40] 4\n",
       "\\item[YOUTH41] 4\n",
       "\\item[YOUTH42] 4\n",
       "\\item[YOUTH43] 4\n",
       "\\end{description*}\n"
      ],
      "text/markdown": [
       "YOUTH1\n",
       ":   5YOUTH2\n",
       ":   5YOUTH3\n",
       ":   5YOUTH4\n",
       ":   5YOUTH5\n",
       ":   5YOUTH6\n",
       ":   5YOUTH7\n",
       ":   5YOUTH8\n",
       ":   5YOUTH9\n",
       ":   5YOUTH10\n",
       ":   5YOUTH11\n",
       ":   5YOUTH12\n",
       ":   5YOUTH13\n",
       ":   4YOUTH14\n",
       ":   4YOUTH15\n",
       ":   4YOUTH16\n",
       ":   4YOUTH17\n",
       ":   4YOUTH18\n",
       ":   4YOUTH19\n",
       ":   4YOUTH20\n",
       ":   4YOUTH21\n",
       ":   4YOUTH22\n",
       ":   4YOUTH23\n",
       ":   4YOUTH24\n",
       ":   4YOUTH25\n",
       ":   4YOUTH26\n",
       ":   4YOUTH27\n",
       ":   4YOUTH28\n",
       ":   4YOUTH29\n",
       ":   4YOUTH30\n",
       ":   4YOUTH31\n",
       ":   4YOUTH32\n",
       ":   4YOUTH33\n",
       ":   4YOUTH34\n",
       ":   4YOUTH35\n",
       ":   4YOUTH36\n",
       ":   4YOUTH37\n",
       ":   4YOUTH38\n",
       ":   4YOUTH39\n",
       ":   4YOUTH40\n",
       ":   4YOUTH41\n",
       ":   4YOUTH42\n",
       ":   4YOUTH43\n",
       ":   4\n",
       "\n"
      ],
      "text/plain": [
       " YOUTH1  YOUTH2  YOUTH3  YOUTH4  YOUTH5  YOUTH6  YOUTH7  YOUTH8  YOUTH9 YOUTH10 \n",
       "      5       5       5       5       5       5       5       5       5       5 \n",
       "YOUTH11 YOUTH12 YOUTH13 YOUTH14 YOUTH15 YOUTH16 YOUTH17 YOUTH18 YOUTH19 YOUTH20 \n",
       "      5       5       4       4       4       4       4       4       4       4 \n",
       "YOUTH21 YOUTH22 YOUTH23 YOUTH24 YOUTH25 YOUTH26 YOUTH27 YOUTH28 YOUTH29 YOUTH30 \n",
       "      4       4       4       4       4       4       4       4       4       4 \n",
       "YOUTH31 YOUTH32 YOUTH33 YOUTH34 YOUTH35 YOUTH36 YOUTH37 YOUTH38 YOUTH39 YOUTH40 \n",
       "      4       4       4       4       4       4       4       4       4       4 \n",
       "YOUTH41 YOUTH42 YOUTH43 \n",
       "      4       4       4 "
      ]
     },
     "metadata": {},
     "output_type": "display_data"
    }
   ],
   "source": [
    "# check if measurements on same scales, they are\n",
    "apply(res.dat,2,max)"
   ]
  },
  {
   "cell_type": "code",
   "execution_count": 61,
   "metadata": {},
   "outputs": [],
   "source": [
    "cormat = cor(res.dat)"
   ]
  },
  {
   "cell_type": "code",
   "execution_count": 63,
   "metadata": {},
   "outputs": [
    {
     "name": "stdout",
     "output_type": "stream",
     "text": [
      "Principal Components Analysis\n",
      "Call: principal(r = cormat, nfactors = 6, rotate = \"none\")\n",
      "Standardized loadings (pattern matrix) based upon correlation matrix\n",
      "         PC1   PC2   PC3   PC4   PC5   PC6   h2   u2 com\n",
      "YOUTH1  0.39  0.15  0.03  0.18  0.20  0.25 0.31 0.69 3.2\n",
      "YOUTH2  0.17  0.21  0.05  0.13  0.35  0.34 0.33 0.67 3.5\n",
      "YOUTH3  0.11  0.14  0.34  0.38  0.36 -0.05 0.43 0.57 3.5\n",
      "YOUTH4  0.09  0.27  0.35  0.55  0.13 -0.08 0.53 0.47 2.5\n",
      "YOUTH5  0.24  0.34  0.12  0.24  0.30  0.24 0.40 0.60 4.8\n",
      "YOUTH6  0.23  0.31 -0.09 -0.05  0.31  0.15 0.28 0.72 3.5\n",
      "YOUTH7  0.44  0.15  0.49 -0.14 -0.29 -0.15 0.59 0.41 3.3\n",
      "YOUTH8  0.43  0.10  0.36 -0.12 -0.21 -0.06 0.38 0.62 2.8\n",
      "YOUTH9  0.47  0.16  0.39 -0.14 -0.30 -0.20 0.54 0.46 3.6\n",
      "YOUTH10 0.41  0.15  0.17 -0.11 -0.17 -0.19 0.30 0.70 2.7\n",
      "YOUTH11 0.40  0.36  0.18  0.01  0.12 -0.28 0.41 0.59 3.4\n",
      "YOUTH12 0.36  0.34  0.45 -0.06 -0.18 -0.04 0.49 0.51 3.3\n",
      "YOUTH13 0.22 -0.12  0.09  0.01 -0.07 -0.18 0.11 0.89 3.2\n",
      "YOUTH14 0.51 -0.31 -0.07  0.33 -0.30  0.13 0.58 0.42 3.4\n",
      "YOUTH15 0.36 -0.60  0.43 -0.12  0.38 -0.03 0.83 0.17 3.4\n",
      "YOUTH16 0.58 -0.28 -0.12  0.40 -0.33  0.05 0.70 0.30 3.1\n",
      "YOUTH17 0.35 -0.64  0.38 -0.16  0.38 -0.09 0.86 0.14 3.2\n",
      "YOUTH18 0.41  0.02 -0.18  0.30  0.07 -0.25 0.35 0.65 3.1\n",
      "YOUTH19 0.44  0.22 -0.28  0.13  0.19 -0.37 0.51 0.49 4.0\n",
      "YOUTH20 0.56 -0.08 -0.06  0.20 -0.05 -0.39 0.52 0.48 2.2\n",
      "YOUTH21 0.50 -0.05 -0.23  0.04  0.01 -0.40 0.47 0.53 2.4\n",
      "YOUTH22 0.46 -0.17 -0.17  0.11  0.03 -0.13 0.30 0.70 1.9\n",
      "YOUTH23 0.23  0.16 -0.10 -0.03  0.39  0.00 0.24 0.76 2.2\n",
      "YOUTH24 0.47 -0.07 -0.29 -0.13  0.03  0.05 0.33 0.67 1.9\n",
      "YOUTH25 0.55  0.11 -0.40 -0.09  0.06 -0.12 0.49 0.51 2.1\n",
      "YOUTH26 0.37  0.15 -0.13 -0.32  0.07 -0.12 0.31 0.69 2.9\n",
      "YOUTH27 0.59  0.08 -0.20 -0.44  0.06  0.07 0.59 0.41 2.2\n",
      "YOUTH28 0.45  0.04 -0.07 -0.47  0.06  0.07 0.44 0.56 2.1\n",
      "YOUTH29 0.52  0.13  0.18 -0.15 -0.10  0.03 0.36 0.64 1.7\n",
      "YOUTH30 0.54  0.04 -0.10 -0.12 -0.03 -0.17 0.35 0.65 1.4\n",
      "YOUTH31 0.07  0.06  0.20  0.25  0.03  0.23 0.16 0.84 3.2\n",
      "YOUTH32 0.49  0.25  0.24  0.08 -0.01  0.00 0.37 0.63 2.0\n",
      "YOUTH33 0.45 -0.09 -0.33  0.02  0.18  0.01 0.36 0.64 2.3\n",
      "YOUTH34 0.42 -0.36 -0.07  0.39 -0.29  0.10 0.56 0.44 4.0\n",
      "YOUTH35 0.22 -0.56  0.29 -0.11  0.44 -0.08 0.67 0.33 3.0\n",
      "YOUTH36 0.51 -0.15 -0.24  0.25  0.00 -0.04 0.40 0.60 2.1\n",
      "YOUTH37 0.42 -0.01 -0.05  0.32  0.01  0.18 0.31 0.69 2.3\n",
      "YOUTH38 0.50  0.18 -0.06  0.04  0.08  0.21 0.34 0.66 1.8\n",
      "YOUTH39 0.40 -0.04  0.08 -0.12 -0.22  0.39 0.38 0.62 2.8\n",
      "YOUTH40 0.35  0.23 -0.10  0.04  0.09  0.19 0.23 0.77 2.7\n",
      "YOUTH41 0.45 -0.22  0.04 -0.01 -0.20  0.45 0.49 0.51 2.9\n",
      "YOUTH42 0.61 -0.03 -0.10 -0.18  0.09  0.17 0.45 0.55 1.4\n",
      "YOUTH43 0.62  0.00  0.00 -0.22 -0.08  0.40 0.60 0.40 2.1\n",
      "\n",
      "                       PC1  PC2  PC3  PC4  PC5  PC6\n",
      "SS loadings           7.84 2.52 2.35 2.16 1.93 1.82\n",
      "Proportion Var        0.18 0.06 0.05 0.05 0.04 0.04\n",
      "Cumulative Var        0.18 0.24 0.30 0.35 0.39 0.43\n",
      "Proportion Explained  0.42 0.14 0.13 0.12 0.10 0.10\n",
      "Cumulative Proportion 0.42 0.56 0.68 0.80 0.90 1.00\n",
      "\n",
      "Mean item complexity =  2.8\n",
      "Test of the hypothesis that 6 components are sufficient.\n",
      "\n",
      "The root mean square of the residuals (RMSR) is  0.06 \n",
      "\n",
      "Fit based upon off diagonal values = 0.91"
     ]
    }
   ],
   "source": [
    "full.fit <- principal(cormat, nfactors=6, rotate = \"none\")\n",
    "print(full.fit)"
   ]
  },
  {
   "cell_type": "code",
   "execution_count": 64,
   "metadata": {},
   "outputs": [
    {
     "name": "stderr",
     "output_type": "stream",
     "text": [
      "Warning message in fa.parallel(cormat):\n",
      "“It seems as if you are using a correlation matrix, but have not specified the number of cases. The number of subjects is arbitrarily set to be 100  ”"
     ]
    },
    {
     "name": "stdout",
     "output_type": "stream",
     "text": [
      "Parallel analysis suggests that the number of factors =  4  and the number of components =  4 \n"
     ]
    },
    {
     "data": {
      "image/png": "[encoded data removed]",
      "text/plain": [
       "Plot with title “Parallel Analysis Scree Plots”"
      ]
     },
     "metadata": {},
     "output_type": "display_data"
    }
   ],
   "source": [
    "fa.parallel(cormat)"
   ]
  },
  {
   "cell_type": "code",
   "execution_count": 106,
   "metadata": {},
   "outputs": [
    {
     "name": "stdout",
     "output_type": "stream",
     "text": [
      "Principal Components Analysis\n",
      "Call: principal(r = cormat, nfactors = 6, rotate = \"varimax\")\n",
      "Standardized loadings (pattern matrix) based upon correlation matrix\n",
      "          RC1   RC3   RC4   RC6   RC5   RC2   h2   u2 com\n",
      "YOUTH1   0.11  0.09  0.11  0.20  0.48  0.04 0.31 0.69 1.7\n",
      "YOUTH2  -0.06 -0.05  0.07  0.03  0.56  0.04 0.33 0.67 1.1\n",
      "YOUTH3   0.11  0.13 -0.38 -0.06  0.46  0.21 0.43 0.57 2.7\n",
      "YOUTH4   0.12  0.23 -0.53  0.04  0.42 -0.01 0.53 0.47 2.5\n",
      "YOUTH5   0.03  0.10 -0.04  0.03  0.62 -0.04 0.40 0.60 1.1\n",
      "YOUTH6   0.09  0.01  0.24 -0.13  0.44 -0.06 0.28 0.72 1.9\n",
      "YOUTH7   0.02  0.75  0.05  0.10 -0.02  0.09 0.59 0.41 1.1\n",
      "YOUTH8   0.03  0.59  0.11  0.13  0.03  0.09 0.38 0.62 1.2\n",
      "YOUTH9   0.11  0.71  0.09  0.09 -0.04  0.04 0.54 0.46 1.1\n",
      "YOUTH10  0.20  0.49  0.14  0.04  0.00  0.00 0.30 0.70 1.5\n",
      "YOUTH11  0.33  0.45  0.03 -0.18  0.26  0.00 0.41 0.59 2.9\n",
      "YOUTH12 -0.03  0.67  0.01  0.02  0.18 -0.05 0.49 0.51 1.2\n",
      "YOUTH13  0.18  0.19  0.00  0.09 -0.10  0.14 0.11 0.89 3.9\n",
      "YOUTH14  0.27  0.11  0.03  0.70 -0.01  0.07 0.58 0.42 1.4\n",
      "YOUTH15  0.04  0.13  0.07  0.13  0.05  0.89 0.83 0.17 1.1\n",
      "YOUTH16  0.39  0.15  0.01  0.73 -0.01  0.03 0.70 0.30 1.6\n",
      "YOUTH17  0.08  0.11  0.10  0.11 -0.02  0.90 0.86 0.14 1.1\n",
      "YOUTH18  0.55  0.06 -0.04  0.16  0.14  0.00 0.35 0.65 1.3\n",
      "YOUTH19  0.66  0.10  0.11 -0.10  0.20 -0.08 0.51 0.49 1.4\n",
      "YOUTH20  0.62  0.28  0.01  0.20 -0.01  0.12 0.52 0.48 1.7\n",
      "YOUTH21  0.64  0.16  0.17  0.07 -0.06  0.07 0.47 0.53 1.3\n",
      "YOUTH22  0.43  0.05  0.15  0.24  0.03  0.15 0.30 0.70 2.2\n",
      "YOUTH23  0.21 -0.04  0.18 -0.16  0.36  0.09 0.24 0.76 2.9\n",
      "YOUTH24  0.31  0.01  0.43  0.19  0.08  0.04 0.33 0.67 2.4\n",
      "YOUTH25  0.52  0.06  0.44  0.09  0.12 -0.09 0.49 0.51 2.2\n",
      "YOUTH26  0.24  0.20  0.43 -0.13  0.05  0.00 0.31 0.69 2.3\n",
      "YOUTH27  0.23  0.21  0.69  0.04  0.11  0.06 0.59 0.41 1.5\n",
      "YOUTH28  0.09  0.23  0.60 -0.02  0.06  0.12 0.44 0.56 1.5\n",
      "YOUTH29  0.11  0.47  0.28  0.15  0.15  0.06 0.36 0.64 2.3\n",
      "YOUTH30  0.39  0.28  0.32  0.10  0.04  0.05 0.35 0.65 3.0\n",
      "YOUTH31 -0.12  0.07 -0.17  0.19  0.28  0.01 0.16 0.84 3.2\n",
      "YOUTH32  0.17  0.47  0.07  0.13  0.32  0.01 0.37 0.63 2.3\n",
      "YOUTH33  0.41 -0.11  0.33  0.18  0.17  0.09 0.36 0.64 3.1\n",
      "YOUTH34  0.26  0.05 -0.06  0.69 -0.05  0.09 0.56 0.44 1.3\n",
      "YOUTH35  0.07 -0.02  0.05  0.02  0.02  0.81 0.67 0.33 1.0\n",
      "YOUTH36  0.47  0.01  0.13  0.39  0.12  0.07 0.40 0.60 2.3\n",
      "YOUTH37  0.22  0.06  0.02  0.40  0.31  0.01 0.31 0.69 2.5\n",
      "YOUTH38  0.17  0.17  0.28  0.21  0.39 -0.04 0.34 0.66 3.4\n",
      "YOUTH39 -0.16  0.24  0.34  0.41  0.13  0.01 0.38 0.62 3.1\n",
      "YOUTH40  0.13  0.10  0.23  0.12  0.36 -0.11 0.23 0.77 2.7\n",
      "YOUTH41 -0.11  0.14  0.31  0.58  0.12  0.11 0.49 0.51 1.9\n",
      "YOUTH42  0.20  0.17  0.49  0.24  0.23  0.15 0.45 0.55 2.9\n",
      "YOUTH43 -0.03  0.27  0.55  0.39  0.26  0.08 0.60 0.40 2.9\n",
      "\n",
      "                       RC1  RC3  RC4  RC6  RC5  RC2\n",
      "SS loadings           3.55 3.52 3.28 3.11 2.64 2.52\n",
      "Proportion Var        0.08 0.08 0.08 0.07 0.06 0.06\n",
      "Cumulative Var        0.08 0.16 0.24 0.31 0.37 0.43\n",
      "Proportion Explained  0.19 0.19 0.18 0.17 0.14 0.14\n",
      "Cumulative Proportion 0.19 0.38 0.56 0.72 0.86 1.00\n",
      "\n",
      "Mean item complexity =  2\n",
      "Test of the hypothesis that 6 components are sufficient.\n",
      "\n",
      "The root mean square of the residuals (RMSR) is  0.06 \n",
      "\n",
      "Fit based upon off diagonal values = 0.91"
     ]
    }
   ],
   "source": [
    "pca_rot <- principal(cormat, nfactors=6, rotate = \"varimax\")\n",
    "print.psych(pca_rot)"
   ]
  },
  {
   "cell_type": "code",
   "execution_count": 107,
   "metadata": {},
   "outputs": [],
   "source": [
    "x = as.data.frame(pca_rot$loadings[,])"
   ]
  },
  {
   "cell_type": "code",
   "execution_count": 139,
   "metadata": {},
   "outputs": [
    {
     "data": {
      "image/png": "[encoded data removed]",
      "text/plain": [
       "plot without title"
      ]
     },
     "metadata": {},
     "output_type": "display_data"
    }
   ],
   "source": [
    "heatmap(data.matrix(x), col=inferno(50),Colv = NA, Rowv = NA)"
   ]
  },
  {
   "cell_type": "code",
   "execution_count": null,
   "metadata": {},
   "outputs": [],
   "source": []
  }
 ],
 "metadata": {
  "kernelspec": {
   "display_name": "R",
   "language": "R",
   "name": "ir"
  },
  "language_info": {
   "codemirror_mode": "r",
   "file_extension": ".r",
   "mimetype": "text/x-r-source",
   "name": "R",
   "pygments_lexer": "r",
   "version": "3.6.1"
  }
 },
 "nbformat": 4,
 "nbformat_minor": 4
}
