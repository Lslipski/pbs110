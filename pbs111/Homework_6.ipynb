{
 "cells": [
  {
   "cell_type": "markdown",
   "metadata": {},
   "source": [
    "# Homework 6"
   ]
  },
  {
   "cell_type": "markdown",
   "metadata": {},
   "source": [
    "February 11, 2021"
   ]
  },
  {
   "cell_type": "code",
   "execution_count": 1,
   "metadata": {
    "collapsed": true
   },
   "outputs": [
    {
     "name": "stderr",
     "output_type": "stream",
     "text": [
      "Loading required package: carData\n",
      "Registered S3 methods overwritten by 'ggplot2':\n",
      "  method         from \n",
      "  [.quosures     rlang\n",
      "  c.quosures     rlang\n",
      "  print.quosures rlang\n",
      "Registered S3 methods overwritten by 'lme4':\n",
      "  method                          from\n",
      "  cooks.distance.influence.merMod car \n",
      "  influence.merMod                car \n",
      "  dfbeta.influence.merMod         car \n",
      "  dfbetas.influence.merMod        car \n",
      "Loading required package: Matrix\n",
      "\n",
      "Attaching package: ‘Matrix’\n",
      "\n",
      "The following object is masked from ‘package:tidyr’:\n",
      "\n",
      "    expand\n",
      "\n",
      "\n",
      "Attaching package: ‘lme4’\n",
      "\n",
      "The following object is masked from ‘package:nlme’:\n",
      "\n",
      "    lmList\n",
      "\n",
      "\n",
      "Attaching package: ‘lmerTest’\n",
      "\n",
      "The following object is masked from ‘package:lme4’:\n",
      "\n",
      "    lmer\n",
      "\n",
      "The following object is masked from ‘package:stats’:\n",
      "\n",
      "    step\n",
      "\n",
      "\n",
      "Attaching package: ‘dplyr’\n",
      "\n",
      "The following object is masked from ‘package:nlme’:\n",
      "\n",
      "    collapse\n",
      "\n",
      "The following object is masked from ‘package:car’:\n",
      "\n",
      "    recode\n",
      "\n",
      "The following objects are masked from ‘package:stats’:\n",
      "\n",
      "    filter, lag\n",
      "\n",
      "The following objects are masked from ‘package:base’:\n",
      "\n",
      "    intersect, setdiff, setequal, union\n",
      "\n"
     ]
    }
   ],
   "source": [
    "library(car)\n",
    "library(ez)\n",
    "library(tidyr)\n",
    "library(nlme)\n",
    "library(lme4)\n",
    "library(lmerTest)\n",
    "library(lattice)\n",
    "library(dplyr)"
   ]
  },
  {
   "cell_type": "markdown",
   "metadata": {},
   "source": [
    "#### 1.  Redo Problem 2 (Jesse) from last week using glmer.  You already have the datafile."
   ]
  },
  {
   "cell_type": "code",
   "execution_count": 2,
   "metadata": {},
   "outputs": [
    {
     "data": {
      "text/html": [
       "<ol class=list-inline>\n",
       "\t<li>360</li>\n",
       "\t<li>6</li>\n",
       "</ol>\n"
      ],
      "text/latex": [
       "\\begin{enumerate*}\n",
       "\\item 360\n",
       "\\item 6\n",
       "\\end{enumerate*}\n"
      ],
      "text/markdown": [
       "1. 360\n",
       "2. 6\n",
       "\n",
       "\n"
      ],
      "text/plain": [
       "[1] 360   6"
      ]
     },
     "metadata": {},
     "output_type": "display_data"
    },
    {
     "data": {
      "text/html": [
       "<table>\n",
       "<thead><tr><th scope=col>sub</th><th scope=col>rt</th><th scope=col>set_size</th><th scope=col>identity</th><th scope=col>presence</th><th scope=col>orientation</th></tr></thead>\n",
       "<tbody>\n",
       "\t<tr><td>1     </td><td>0.4851</td><td>2     </td><td>1     </td><td>1     </td><td>1     </td></tr>\n",
       "\t<tr><td>1     </td><td>0.5002</td><td>4     </td><td>1     </td><td>1     </td><td>1     </td></tr>\n",
       "\t<tr><td>1     </td><td>0.5041</td><td>6     </td><td>1     </td><td>1     </td><td>1     </td></tr>\n",
       "\t<tr><td>1     </td><td>0.4842</td><td>2     </td><td>1     </td><td>2     </td><td>1     </td></tr>\n",
       "\t<tr><td>1     </td><td>0.4956</td><td>4     </td><td>1     </td><td>2     </td><td>1     </td></tr>\n",
       "\t<tr><td>1     </td><td>0.4945</td><td>6     </td><td>1     </td><td>2     </td><td>1     </td></tr>\n",
       "\t<tr><td>1     </td><td>0.4909</td><td>2     </td><td>1     </td><td>1     </td><td>2     </td></tr>\n",
       "\t<tr><td>1     </td><td>0.5114</td><td>4     </td><td>1     </td><td>1     </td><td>2     </td></tr>\n",
       "\t<tr><td>1     </td><td>0.6035</td><td>6     </td><td>1     </td><td>1     </td><td>2     </td></tr>\n",
       "\t<tr><td>1     </td><td>0.4881</td><td>2     </td><td>1     </td><td>2     </td><td>2     </td></tr>\n",
       "\t<tr><td>1     </td><td>0.5322</td><td>4     </td><td>1     </td><td>2     </td><td>2     </td></tr>\n",
       "\t<tr><td>1     </td><td>0.5580</td><td>6     </td><td>1     </td><td>2     </td><td>2     </td></tr>\n",
       "\t<tr><td>1     </td><td>0.4275</td><td>2     </td><td>2     </td><td>1     </td><td>1     </td></tr>\n",
       "\t<tr><td>1     </td><td>0.4451</td><td>4     </td><td>2     </td><td>1     </td><td>1     </td></tr>\n",
       "\t<tr><td>1     </td><td>0.4597</td><td>6     </td><td>2     </td><td>1     </td><td>1     </td></tr>\n",
       "\t<tr><td>1     </td><td>0.4543</td><td>2     </td><td>2     </td><td>2     </td><td>1     </td></tr>\n",
       "\t<tr><td>1     </td><td>0.4775</td><td>4     </td><td>2     </td><td>2     </td><td>1     </td></tr>\n",
       "\t<tr><td>1     </td><td>0.4698</td><td>6     </td><td>2     </td><td>2     </td><td>1     </td></tr>\n",
       "\t<tr><td>1     </td><td>0.5035</td><td>2     </td><td>2     </td><td>1     </td><td>2     </td></tr>\n",
       "\t<tr><td>1     </td><td>0.5556</td><td>4     </td><td>2     </td><td>1     </td><td>2     </td></tr>\n",
       "</tbody>\n",
       "</table>\n"
      ],
      "text/latex": [
       "\\begin{tabular}{r|llllll}\n",
       " sub & rt & set\\_size & identity & presence & orientation\\\\\n",
       "\\hline\n",
       "\t 1      & 0.4851 & 2      & 1      & 1      & 1     \\\\\n",
       "\t 1      & 0.5002 & 4      & 1      & 1      & 1     \\\\\n",
       "\t 1      & 0.5041 & 6      & 1      & 1      & 1     \\\\\n",
       "\t 1      & 0.4842 & 2      & 1      & 2      & 1     \\\\\n",
       "\t 1      & 0.4956 & 4      & 1      & 2      & 1     \\\\\n",
       "\t 1      & 0.4945 & 6      & 1      & 2      & 1     \\\\\n",
       "\t 1      & 0.4909 & 2      & 1      & 1      & 2     \\\\\n",
       "\t 1      & 0.5114 & 4      & 1      & 1      & 2     \\\\\n",
       "\t 1      & 0.6035 & 6      & 1      & 1      & 2     \\\\\n",
       "\t 1      & 0.4881 & 2      & 1      & 2      & 2     \\\\\n",
       "\t 1      & 0.5322 & 4      & 1      & 2      & 2     \\\\\n",
       "\t 1      & 0.5580 & 6      & 1      & 2      & 2     \\\\\n",
       "\t 1      & 0.4275 & 2      & 2      & 1      & 1     \\\\\n",
       "\t 1      & 0.4451 & 4      & 2      & 1      & 1     \\\\\n",
       "\t 1      & 0.4597 & 6      & 2      & 1      & 1     \\\\\n",
       "\t 1      & 0.4543 & 2      & 2      & 2      & 1     \\\\\n",
       "\t 1      & 0.4775 & 4      & 2      & 2      & 1     \\\\\n",
       "\t 1      & 0.4698 & 6      & 2      & 2      & 1     \\\\\n",
       "\t 1      & 0.5035 & 2      & 2      & 1      & 2     \\\\\n",
       "\t 1      & 0.5556 & 4      & 2      & 1      & 2     \\\\\n",
       "\\end{tabular}\n"
      ],
      "text/markdown": [
       "\n",
       "| sub | rt | set_size | identity | presence | orientation |\n",
       "|---|---|---|---|---|---|\n",
       "| 1      | 0.4851 | 2      | 1      | 1      | 1      |\n",
       "| 1      | 0.5002 | 4      | 1      | 1      | 1      |\n",
       "| 1      | 0.5041 | 6      | 1      | 1      | 1      |\n",
       "| 1      | 0.4842 | 2      | 1      | 2      | 1      |\n",
       "| 1      | 0.4956 | 4      | 1      | 2      | 1      |\n",
       "| 1      | 0.4945 | 6      | 1      | 2      | 1      |\n",
       "| 1      | 0.4909 | 2      | 1      | 1      | 2      |\n",
       "| 1      | 0.5114 | 4      | 1      | 1      | 2      |\n",
       "| 1      | 0.6035 | 6      | 1      | 1      | 2      |\n",
       "| 1      | 0.4881 | 2      | 1      | 2      | 2      |\n",
       "| 1      | 0.5322 | 4      | 1      | 2      | 2      |\n",
       "| 1      | 0.5580 | 6      | 1      | 2      | 2      |\n",
       "| 1      | 0.4275 | 2      | 2      | 1      | 1      |\n",
       "| 1      | 0.4451 | 4      | 2      | 1      | 1      |\n",
       "| 1      | 0.4597 | 6      | 2      | 1      | 1      |\n",
       "| 1      | 0.4543 | 2      | 2      | 2      | 1      |\n",
       "| 1      | 0.4775 | 4      | 2      | 2      | 1      |\n",
       "| 1      | 0.4698 | 6      | 2      | 2      | 1      |\n",
       "| 1      | 0.5035 | 2      | 2      | 1      | 2      |\n",
       "| 1      | 0.5556 | 4      | 2      | 1      | 2      |\n",
       "\n"
      ],
      "text/plain": [
       "   sub rt     set_size identity presence orientation\n",
       "1  1   0.4851 2        1        1        1          \n",
       "2  1   0.5002 4        1        1        1          \n",
       "3  1   0.5041 6        1        1        1          \n",
       "4  1   0.4842 2        1        2        1          \n",
       "5  1   0.4956 4        1        2        1          \n",
       "6  1   0.4945 6        1        2        1          \n",
       "7  1   0.4909 2        1        1        2          \n",
       "8  1   0.5114 4        1        1        2          \n",
       "9  1   0.6035 6        1        1        2          \n",
       "10 1   0.4881 2        1        2        2          \n",
       "11 1   0.5322 4        1        2        2          \n",
       "12 1   0.5580 6        1        2        2          \n",
       "13 1   0.4275 2        2        1        1          \n",
       "14 1   0.4451 4        2        1        1          \n",
       "15 1   0.4597 6        2        1        1          \n",
       "16 1   0.4543 2        2        2        1          \n",
       "17 1   0.4775 4        2        2        1          \n",
       "18 1   0.4698 6        2        2        1          \n",
       "19 1   0.5035 2        2        1        2          \n",
       "20 1   0.5556 4        2        1        2          "
      ]
     },
     "metadata": {},
     "output_type": "display_data"
    }
   ],
   "source": [
    "#load data\n",
    "rt = read.csv('./data_files//jesse_search_data.csv')\n",
    "dim(rt)\n",
    "head(rt, 20)"
   ]
  },
  {
   "cell_type": "code",
   "execution_count": 3,
   "metadata": {},
   "outputs": [
    {
     "data": {
      "text/html": [
       "<ol class=list-inline>\n",
       "\t<li>180</li>\n",
       "\t<li>6</li>\n",
       "</ol>\n"
      ],
      "text/latex": [
       "\\begin{enumerate*}\n",
       "\\item 180\n",
       "\\item 6\n",
       "\\end{enumerate*}\n"
      ],
      "text/markdown": [
       "1. 180\n",
       "2. 6\n",
       "\n",
       "\n"
      ],
      "text/plain": [
       "[1] 180   6"
      ]
     },
     "metadata": {},
     "output_type": "display_data"
    }
   ],
   "source": [
    "#limit to present condition\n",
    "rt_present = rt[rt$presence == 1,]\n",
    "dim(rt_present)"
   ]
  },
  {
   "cell_type": "code",
   "execution_count": 4,
   "metadata": {},
   "outputs": [
    {
     "data": {
      "image/png": "[encoded data removed]",
      "text/plain": [
       "Plot with title “Histogram of rt_present$rt”"
      ]
     },
     "metadata": {},
     "output_type": "display_data"
    }
   ],
   "source": [
    "hist(rt_present$rt)"
   ]
  },
  {
   "cell_type": "code",
   "execution_count": 5,
   "metadata": {},
   "outputs": [
    {
     "data": {
      "text/plain": [
       "Linear mixed model fit by maximum likelihood . t-tests use Satterthwaite's\n",
       "  method [lmerModLmerTest]\n",
       "Formula: rt ~ scale(set_size) * orientation + (1 | sub) + (1 | identity)\n",
       "   Data: rt_present\n",
       "\n",
       "     AIC      BIC   logLik deviance df.resid \n",
       "  -436.6   -414.2    225.3   -450.6      173 \n",
       "\n",
       "Scaled residuals: \n",
       "    Min      1Q  Median      3Q     Max \n",
       "-2.8016 -0.4860 -0.0946  0.3630  6.2063 \n",
       "\n",
       "Random effects:\n",
       " Groups   Name        Variance  Std.Dev.\n",
       " sub      (Intercept) 0.0045432 0.06740 \n",
       " identity (Intercept) 0.0001708 0.01307 \n",
       " Residual             0.0039806 0.06309 \n",
       "Number of obs: 180, groups:  sub, 10; identity, 3\n",
       "\n",
       "Fixed effects:\n",
       "                              Estimate Std. Error         df t value Pr(>|t|)\n",
       "(Intercept)                   0.485067   0.027063  20.543000  17.924 5.13e-14\n",
       "scale(set_size)              -0.011460   0.014912 167.914849  -0.768   0.4433\n",
       "orientation                   0.039829   0.009405 167.914849   4.235 3.76e-05\n",
       "scale(set_size):orientation   0.020967   0.009431 167.914849   2.223   0.0275\n",
       "                               \n",
       "(Intercept)                 ***\n",
       "scale(set_size)                \n",
       "orientation                 ***\n",
       "scale(set_size):orientation *  \n",
       "---\n",
       "Signif. codes:  0 ‘***’ 0.001 ‘**’ 0.01 ‘*’ 0.05 ‘.’ 0.1 ‘ ’ 1\n",
       "\n",
       "Correlation of Fixed Effects:\n",
       "            (Intr) scl(_) ornttn\n",
       "scal(st_sz)  0.000              \n",
       "orientation -0.521  0.000       \n",
       "scl(st_sz):  0.000 -0.949  0.000"
      ]
     },
     "metadata": {},
     "output_type": "display_data"
    }
   ],
   "source": [
    "# old lmer model\n",
    "lmer_mod <- lmer(rt ~ scale(set_size) * orientation + (1|sub) + (1|identity) , data= rt_present, REML = F)\n",
    "summary(lmer_mod)"
   ]
  },
  {
   "cell_type": "code",
   "execution_count": 6,
   "metadata": {},
   "outputs": [
    {
     "data": {
      "text/plain": [
       "Generalized linear mixed model fit by maximum likelihood (Laplace\n",
       "  Approximation) [glmerMod]\n",
       " Family: Gamma  ( log )\n",
       "Formula: rt ~ scale(set_size) * orientation + (1 | sub)\n",
       "   Data: rt_present\n",
       "\n",
       "     AIC      BIC   logLik deviance df.resid \n",
       "  -530.4   -511.3    271.2   -542.4      174 \n",
       "\n",
       "Scaled residuals: \n",
       "    Min      1Q  Median      3Q     Max \n",
       "-2.2660 -0.5214 -0.1221  0.3941  5.1726 \n",
       "\n",
       "Random effects:\n",
       " Groups   Name        Variance Std.Dev.\n",
       " sub      (Intercept) 0.004036 0.06353 \n",
       " Residual             0.010985 0.10481 \n",
       "Number of obs: 180, groups:  sub, 10\n",
       "\n",
       "Fixed effects:\n",
       "                            Estimate Std. Error t value Pr(>|z|)    \n",
       "(Intercept)                 -0.71419    0.05568 -12.826  < 2e-16 ***\n",
       "scale(set_size)             -0.01698    0.02213  -0.767   0.4428    \n",
       "orientation                  0.06457    0.01396   4.626 3.74e-06 ***\n",
       "scale(set_size):orientation  0.03471    0.01399   2.481   0.0131 *  \n",
       "---\n",
       "Signif. codes:  0 ‘***’ 0.001 ‘**’ 0.01 ‘*’ 0.05 ‘.’ 0.1 ‘ ’ 1\n",
       "\n",
       "Correlation of Fixed Effects:\n",
       "            (Intr) scl(_) ornttn\n",
       "scal(st_sz)  0.000              \n",
       "orientation -0.375  0.000       \n",
       "scl(st_sz):  0.000 -0.949  0.000"
      ]
     },
     "metadata": {},
     "output_type": "display_data"
    }
   ],
   "source": [
    "#instead of transforming, let's use a non-normal function to model the DV\n",
    "glmer1 = glmer(rt ~ scale(set_size)*orientation + (1|sub), family=Gamma(link=log),data=rt_present)\n",
    "summary(glmer1)"
   ]
  },
  {
   "cell_type": "code",
   "execution_count": 7,
   "metadata": {},
   "outputs": [
    {
     "data": {
      "text/plain": [
       "Generalized linear mixed model fit by maximum likelihood (Laplace\n",
       "  Approximation) [glmerMod]\n",
       " Family: Gamma  ( log )\n",
       "Formula: rt ~ scale(set_size) * orientation + (1 | sub) + (1 | identity)\n",
       "   Data: rt_present\n",
       "\n",
       "     AIC      BIC   logLik deviance df.resid \n",
       "  -533.2   -510.8    273.6   -547.2      173 \n",
       "\n",
       "Scaled residuals: \n",
       "    Min      1Q  Median      3Q     Max \n",
       "-2.1714 -0.5166 -0.1442  0.3586  5.0532 \n",
       "\n",
       "Random effects:\n",
       " Groups   Name        Variance  Std.Dev.\n",
       " sub      (Intercept) 0.0040203 0.06341 \n",
       " identity (Intercept) 0.0002959 0.01720 \n",
       " Residual             0.0106734 0.10331 \n",
       "Number of obs: 180, groups:  sub, 10; identity, 3\n",
       "\n",
       "Fixed effects:\n",
       "                            Estimate Std. Error t value Pr(>|z|)    \n",
       "(Intercept)                 -0.71410    0.09462  -7.547 4.44e-14 ***\n",
       "scale(set_size)             -0.01684    0.07181  -0.235    0.815    \n",
       "orientation                  0.06403    0.04753   1.347    0.178    \n",
       "scale(set_size):orientation  0.03456    0.04763   0.726    0.468    \n",
       "---\n",
       "Signif. codes:  0 ‘***’ 0.001 ‘**’ 0.01 ‘*’ 0.05 ‘.’ 0.1 ‘ ’ 1\n",
       "\n",
       "Correlation of Fixed Effects:\n",
       "            (Intr) scl(_) ornttn\n",
       "scal(st_sz) -0.717              \n",
       "orientation -0.752  0.953       \n",
       "scl(st_sz):  0.720 -0.995 -0.958"
      ]
     },
     "metadata": {},
     "output_type": "display_data"
    }
   ],
   "source": [
    "#instead of transforming, let's use a non-normal function to model the DV\n",
    "glmer2 = glmer(rt ~ scale(set_size)*orientation + (1|sub) + (1|identity), family=Gamma(link=log),data=rt_present)\n",
    "summary(glmer2)"
   ]
  },
  {
   "cell_type": "code",
   "execution_count": 8,
   "metadata": {},
   "outputs": [
    {
     "data": {
      "text/plain": [
       "Generalized linear mixed model fit by maximum likelihood (Laplace\n",
       "  Approximation) [glmerMod]\n",
       " Family: Gamma  ( log )\n",
       "Formula: rt ~ scale(set_size) * orientation + (1 + orientation | sub) +  \n",
       "    (1 + orientation | identity)\n",
       "   Data: rt_present\n",
       "\n",
       "     AIC      BIC   logLik deviance df.resid \n",
       "  -581.1   -546.0    301.5   -603.1      169 \n",
       "\n",
       "Scaled residuals: \n",
       "    Min      1Q  Median      3Q     Max \n",
       "-3.2197 -0.4692 -0.0576  0.4310  4.2114 \n",
       "\n",
       "Random effects:\n",
       " Groups   Name        Variance Std.Dev. Corr \n",
       " sub      (Intercept) 0.008831 0.09398       \n",
       "          orientation 0.004246 0.06516  -0.81\n",
       " identity (Intercept) 0.002078 0.04558       \n",
       "          orientation 0.001214 0.03484  -0.96\n",
       " Residual             0.007473 0.08645       \n",
       "Number of obs: 180, groups:  sub, 10; identity, 3\n",
       "\n",
       "Fixed effects:\n",
       "                            Estimate Std. Error t value Pr(>|z|)    \n",
       "(Intercept)                 -0.71357    0.08494  -8.401  < 2e-16 ***\n",
       "scale(set_size)             -0.01553    0.01776  -0.874  0.38187    \n",
       "orientation                  0.06206    0.07260   0.855  0.39263    \n",
       "scale(set_size):orientation  0.03339    0.01123   2.972  0.00295 ** \n",
       "---\n",
       "Signif. codes:  0 ‘***’ 0.001 ‘**’ 0.01 ‘*’ 0.05 ‘.’ 0.1 ‘ ’ 1\n",
       "\n",
       "Correlation of Fixed Effects:\n",
       "            (Intr) scl(_) ornttn\n",
       "scal(st_sz)  0.000              \n",
       "orientation -0.824  0.000       \n",
       "scl(st_sz):  0.000 -0.949  0.000"
      ]
     },
     "metadata": {},
     "output_type": "display_data"
    }
   ],
   "source": [
    "# try random slopes of subject within orientation\n",
    "glmer3 = glmer(rt ~ scale(set_size)*orientation + (1 + orientation|sub) + (1 + orientation|identity), family=Gamma(link=log),data=rt_present)\n",
    "summary(glmer3)"
   ]
  },
  {
   "cell_type": "markdown",
   "metadata": {},
   "source": [
    "This model has allows for random slopes and intercepts of subject and identity within orientation. It uses a gamma distribution to model the positively skewed rt DV, allowing us to keep rt in raw time units while also not assuming a normal distribution. Further it has the lowest AIC of any of my models, so I would use this model as my final version. It shows a significant (p < 0.005) interaction between set_size and orientation."
   ]
  },
  {
   "cell_type": "markdown",
   "metadata": {},
   "source": [
    "#### A former grad student ran a study here (well after graduating) on eye-movements as a predictor of face familiarity.  Here are two eye-movement parameters: probability of a leftward movement and the number of clusters.  Were those two predictor variables, or IVs, significantly related to familiarity? (Data in frank_trial_data)"
   ]
  },
  {
   "cell_type": "code",
   "execution_count": 9,
   "metadata": {},
   "outputs": [
    {
     "data": {
      "text/html": [
       "<ol class=list-inline>\n",
       "\t<li>150</li>\n",
       "\t<li>6</li>\n",
       "</ol>\n"
      ],
      "text/latex": [
       "\\begin{enumerate*}\n",
       "\\item 150\n",
       "\\item 6\n",
       "\\end{enumerate*}\n"
      ],
      "text/markdown": [
       "1. 150\n",
       "2. 6\n",
       "\n",
       "\n"
      ],
      "text/plain": [
       "[1] 150   6"
      ]
     },
     "metadata": {},
     "output_type": "display_data"
    },
    {
     "data": {
      "text/html": [
       "<table>\n",
       "<thead><tr><th scope=col>subj_id</th><th scope=col>System</th><th scope=col>pic_id</th><th scope=col>NumClus</th><th scope=col>Pleft</th><th scope=col>Class</th></tr></thead>\n",
       "<tbody>\n",
       "\t<tr><td>203    </td><td>20     </td><td>220    </td><td> 5     </td><td>0.14285</td><td>F      </td></tr>\n",
       "\t<tr><td>203    </td><td>20     </td><td>221    </td><td> 8     </td><td>0.14285</td><td>F      </td></tr>\n",
       "\t<tr><td>203    </td><td>20     </td><td>222    </td><td> 6     </td><td>0.15384</td><td>F      </td></tr>\n",
       "\t<tr><td>203    </td><td>20     </td><td>223    </td><td> 9     </td><td>0.83333</td><td>F      </td></tr>\n",
       "\t<tr><td>203    </td><td>20     </td><td>224    </td><td> 5     </td><td>0.30000</td><td>F      </td></tr>\n",
       "\t<tr><td>203    </td><td>20     </td><td>225    </td><td> 6     </td><td>0.58333</td><td>F      </td></tr>\n",
       "\t<tr><td>203    </td><td>20     </td><td>226    </td><td>10     </td><td>0.37500</td><td>F      </td></tr>\n",
       "\t<tr><td>203    </td><td>20     </td><td>229    </td><td> 8     </td><td>0.55555</td><td>F      </td></tr>\n",
       "\t<tr><td>203    </td><td>20     </td><td>230    </td><td> 7     </td><td>0.35714</td><td>F      </td></tr>\n",
       "\t<tr><td>203    </td><td>20     </td><td>231    </td><td> 7     </td><td>0.46153</td><td>F      </td></tr>\n",
       "</tbody>\n",
       "</table>\n"
      ],
      "text/latex": [
       "\\begin{tabular}{r|llllll}\n",
       " subj\\_id & System & pic\\_id & NumClus & Pleft & Class\\\\\n",
       "\\hline\n",
       "\t 203     & 20      & 220     &  5      & 0.14285 & F      \\\\\n",
       "\t 203     & 20      & 221     &  8      & 0.14285 & F      \\\\\n",
       "\t 203     & 20      & 222     &  6      & 0.15384 & F      \\\\\n",
       "\t 203     & 20      & 223     &  9      & 0.83333 & F      \\\\\n",
       "\t 203     & 20      & 224     &  5      & 0.30000 & F      \\\\\n",
       "\t 203     & 20      & 225     &  6      & 0.58333 & F      \\\\\n",
       "\t 203     & 20      & 226     & 10      & 0.37500 & F      \\\\\n",
       "\t 203     & 20      & 229     &  8      & 0.55555 & F      \\\\\n",
       "\t 203     & 20      & 230     &  7      & 0.35714 & F      \\\\\n",
       "\t 203     & 20      & 231     &  7      & 0.46153 & F      \\\\\n",
       "\\end{tabular}\n"
      ],
      "text/markdown": [
       "\n",
       "| subj_id | System | pic_id | NumClus | Pleft | Class |\n",
       "|---|---|---|---|---|---|\n",
       "| 203     | 20      | 220     |  5      | 0.14285 | F       |\n",
       "| 203     | 20      | 221     |  8      | 0.14285 | F       |\n",
       "| 203     | 20      | 222     |  6      | 0.15384 | F       |\n",
       "| 203     | 20      | 223     |  9      | 0.83333 | F       |\n",
       "| 203     | 20      | 224     |  5      | 0.30000 | F       |\n",
       "| 203     | 20      | 225     |  6      | 0.58333 | F       |\n",
       "| 203     | 20      | 226     | 10      | 0.37500 | F       |\n",
       "| 203     | 20      | 229     |  8      | 0.55555 | F       |\n",
       "| 203     | 20      | 230     |  7      | 0.35714 | F       |\n",
       "| 203     | 20      | 231     |  7      | 0.46153 | F       |\n",
       "\n"
      ],
      "text/plain": [
       "   subj_id System pic_id NumClus Pleft   Class\n",
       "1  203     20     220     5      0.14285 F    \n",
       "2  203     20     221     8      0.14285 F    \n",
       "3  203     20     222     6      0.15384 F    \n",
       "4  203     20     223     9      0.83333 F    \n",
       "5  203     20     224     5      0.30000 F    \n",
       "6  203     20     225     6      0.58333 F    \n",
       "7  203     20     226    10      0.37500 F    \n",
       "8  203     20     229     8      0.55555 F    \n",
       "9  203     20     230     7      0.35714 F    \n",
       "10 203     20     231     7      0.46153 F    "
      ]
     },
     "metadata": {},
     "output_type": "display_data"
    }
   ],
   "source": [
    "eye = read.csv('data_files//frank_trial_data.csv')\n",
    "dim(eye)\n",
    "head(eye, 10)"
   ]
  },
  {
   "cell_type": "code",
   "execution_count": 10,
   "metadata": {},
   "outputs": [
    {
     "data": {
      "text/html": [
       "<table>\n",
       "<thead><tr><th scope=col>Class</th><th scope=col>Pleft</th></tr></thead>\n",
       "<tbody>\n",
       "\t<tr><td>F        </td><td>0.5479643</td></tr>\n",
       "\t<tr><td>U        </td><td>0.6784595</td></tr>\n",
       "</tbody>\n",
       "</table>\n"
      ],
      "text/latex": [
       "\\begin{tabular}{r|ll}\n",
       " Class & Pleft\\\\\n",
       "\\hline\n",
       "\t F         & 0.5479643\\\\\n",
       "\t U         & 0.6784595\\\\\n",
       "\\end{tabular}\n"
      ],
      "text/markdown": [
       "\n",
       "| Class | Pleft |\n",
       "|---|---|\n",
       "| F         | 0.5479643 |\n",
       "| U         | 0.6784595 |\n",
       "\n"
      ],
      "text/plain": [
       "  Class Pleft    \n",
       "1 F     0.5479643\n",
       "2 U     0.6784595"
      ]
     },
     "metadata": {},
     "output_type": "display_data"
    },
    {
     "data": {
      "text/html": [
       "<table>\n",
       "<thead><tr><th scope=col>Class</th><th scope=col>Pleft</th></tr></thead>\n",
       "<tbody>\n",
       "\t<tr><td>F        </td><td>0.2770703</td></tr>\n",
       "\t<tr><td>U        </td><td>0.2336681</td></tr>\n",
       "</tbody>\n",
       "</table>\n"
      ],
      "text/latex": [
       "\\begin{tabular}{r|ll}\n",
       " Class & Pleft\\\\\n",
       "\\hline\n",
       "\t F         & 0.2770703\\\\\n",
       "\t U         & 0.2336681\\\\\n",
       "\\end{tabular}\n"
      ],
      "text/markdown": [
       "\n",
       "| Class | Pleft |\n",
       "|---|---|\n",
       "| F         | 0.2770703 |\n",
       "| U         | 0.2336681 |\n",
       "\n"
      ],
      "text/plain": [
       "  Class Pleft    \n",
       "1 F     0.2770703\n",
       "2 U     0.2336681"
      ]
     },
     "metadata": {},
     "output_type": "display_data"
    }
   ],
   "source": [
    "aggregate(Pleft ~ Class, eye,  mean)\n",
    "aggregate(Pleft ~ Class, eye,  sd)"
   ]
  },
  {
   "cell_type": "code",
   "execution_count": 11,
   "metadata": {},
   "outputs": [
    {
     "data": {
      "text/html": [
       "<table>\n",
       "<thead><tr><th scope=col>Class</th><th scope=col>NumClus</th></tr></thead>\n",
       "<tbody>\n",
       "\t<tr><td>F       </td><td>6.162162</td></tr>\n",
       "\t<tr><td>U       </td><td>4.552632</td></tr>\n",
       "</tbody>\n",
       "</table>\n"
      ],
      "text/latex": [
       "\\begin{tabular}{r|ll}\n",
       " Class & NumClus\\\\\n",
       "\\hline\n",
       "\t F        & 6.162162\\\\\n",
       "\t U        & 4.552632\\\\\n",
       "\\end{tabular}\n"
      ],
      "text/markdown": [
       "\n",
       "| Class | NumClus |\n",
       "|---|---|\n",
       "| F        | 6.162162 |\n",
       "| U        | 4.552632 |\n",
       "\n"
      ],
      "text/plain": [
       "  Class NumClus \n",
       "1 F     6.162162\n",
       "2 U     4.552632"
      ]
     },
     "metadata": {},
     "output_type": "display_data"
    },
    {
     "data": {
      "text/html": [
       "<table>\n",
       "<thead><tr><th scope=col>Class</th><th scope=col>NumClus</th></tr></thead>\n",
       "<tbody>\n",
       "\t<tr><td>F       </td><td>1.775225</td></tr>\n",
       "\t<tr><td>U       </td><td>1.611581</td></tr>\n",
       "</tbody>\n",
       "</table>\n"
      ],
      "text/latex": [
       "\\begin{tabular}{r|ll}\n",
       " Class & NumClus\\\\\n",
       "\\hline\n",
       "\t F        & 1.775225\\\\\n",
       "\t U        & 1.611581\\\\\n",
       "\\end{tabular}\n"
      ],
      "text/markdown": [
       "\n",
       "| Class | NumClus |\n",
       "|---|---|\n",
       "| F        | 1.775225 |\n",
       "| U        | 1.611581 |\n",
       "\n"
      ],
      "text/plain": [
       "  Class NumClus \n",
       "1 F     1.775225\n",
       "2 U     1.611581"
      ]
     },
     "metadata": {},
     "output_type": "display_data"
    }
   ],
   "source": [
    "aggregate(NumClus ~ Class, eye,  mean)\n",
    "aggregate(NumClus ~ Class, eye,  sd)"
   ]
  },
  {
   "cell_type": "code",
   "execution_count": 12,
   "metadata": {},
   "outputs": [
    {
     "data": {
      "text/plain": [
       "Linear mixed model fit by maximum likelihood . t-tests use Satterthwaite's\n",
       "  method [lmerModLmerTest]\n",
       "Formula: as.numeric(Class) ~ Pleft * NumClus + (1 | subj_id)\n",
       "   Data: eye\n",
       "\n",
       "     AIC      BIC   logLik deviance df.resid \n",
       "   185.0    203.1    -86.5    173.0      144 \n",
       "\n",
       "Scaled residuals: \n",
       "     Min       1Q   Median       3Q      Max \n",
       "-2.00264 -0.86206  0.00189  0.72870  2.01853 \n",
       "\n",
       "Random effects:\n",
       " Groups   Name        Variance Std.Dev.\n",
       " subj_id  (Intercept) 0.008417 0.09174 \n",
       " Residual             0.180583 0.42495 \n",
       "Number of obs: 150, groups:  subj_id, 4\n",
       "\n",
       "Fixed effects:\n",
       "                Estimate Std. Error         df t value Pr(>|t|)    \n",
       "(Intercept)     1.843266   0.283455 145.137877   6.503 1.19e-09 ***\n",
       "Pleft           0.571737   0.405032 146.353704   1.412   0.1602    \n",
       "NumClus        -0.123000   0.051927 148.545724  -2.369   0.0191 *  \n",
       "Pleft:NumClus  -0.008913   0.075831 146.313823  -0.118   0.9066    \n",
       "---\n",
       "Signif. codes:  0 ‘***’ 0.001 ‘**’ 0.01 ‘*’ 0.05 ‘.’ 0.1 ‘ ’ 1\n",
       "\n",
       "Correlation of Fixed Effects:\n",
       "            (Intr) Pleft  NumCls\n",
       "Pleft       -0.906              \n",
       "NumClus     -0.930  0.870       \n",
       "Pleft:NmCls  0.852 -0.938 -0.926"
      ]
     },
     "metadata": {},
     "output_type": "display_data"
    }
   ],
   "source": [
    "m_norm <- lmer(as.numeric(Class) ~ Pleft * NumClus + (1|subj_id), data=eye, REML=FALSE)\n",
    "summary(m_norm)"
   ]
  },
  {
   "cell_type": "code",
   "execution_count": 15,
   "metadata": {},
   "outputs": [
    {
     "data": {
      "text/plain": [
       "Generalized linear mixed model fit by maximum likelihood (Laplace\n",
       "  Approximation) [glmerMod]\n",
       " Family: binomial  ( logit )\n",
       "Formula: Class ~ Pleft * NumClus + (1 | subj_id)\n",
       "   Data: eye\n",
       "\n",
       "     AIC      BIC   logLik deviance df.resid \n",
       "   174.5    189.6    -82.3    164.5      145 \n",
       "\n",
       "Scaled residuals: \n",
       "    Min      1Q  Median      3Q     Max \n",
       "-2.5068 -0.6988  0.2570  0.6154  2.6321 \n",
       "\n",
       "Random effects:\n",
       " Groups  Name        Variance Std.Dev.\n",
       " subj_id (Intercept) 0.1991   0.4462  \n",
       "Number of obs: 150, groups:  subj_id, 4\n",
       "\n",
       "Fixed effects:\n",
       "               Estimate Std. Error z value Pr(>|z|)  \n",
       "(Intercept)    1.953994   1.831276   1.067   0.2860  \n",
       "Pleft          2.697535   2.674459   1.009   0.3132  \n",
       "NumClus       -0.674090   0.366469  -1.839   0.0659 .\n",
       "Pleft:NumClus  0.008076   0.518478   0.016   0.9876  \n",
       "---\n",
       "Signif. codes:  0 ‘***’ 0.001 ‘**’ 0.01 ‘*’ 0.05 ‘.’ 0.1 ‘ ’ 1\n",
       "\n",
       "Correlation of Fixed Effects:\n",
       "            (Intr) Pleft  NumCls\n",
       "Pleft       -0.900              \n",
       "NumClus     -0.949  0.848       \n",
       "Pleft:NmCls  0.890 -0.949 -0.926"
      ]
     },
     "metadata": {},
     "output_type": "display_data"
    }
   ],
   "source": [
    "m_gamma <- glmer(Class ~ Pleft * NumClus + (1|subj_id), data=eye, family = binomial(link = logit))\n",
    "summary(m_gamma)"
   ]
  },
  {
   "cell_type": "code",
   "execution_count": null,
   "metadata": {},
   "outputs": [],
   "source": []
  }
 ],
 "metadata": {
  "kernelspec": {
   "display_name": "R",
   "language": "R",
   "name": "ir"
  },
  "language_info": {
   "codemirror_mode": "r",
   "file_extension": ".r",
   "mimetype": "text/x-r-source",
   "name": "R",
   "pygments_lexer": "r",
   "version": "3.6.1"
  }
 },
 "nbformat": 4,
 "nbformat_minor": 4
}
